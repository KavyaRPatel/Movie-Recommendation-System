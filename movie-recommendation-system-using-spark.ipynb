{
 "cells": [
  {
   "cell_type": "code",
   "execution_count": 1,
   "metadata": {
    "_kg_hide-input": true,
    "_kg_hide-output": true,
    "execution": {
     "iopub.execute_input": "2022-05-01T01:39:41.007596Z",
     "iopub.status.busy": "2022-05-01T01:39:41.007055Z",
     "iopub.status.idle": "2022-05-01T01:39:41.01653Z",
     "shell.execute_reply": "2022-05-01T01:39:41.015692Z",
     "shell.execute_reply.started": "2022-05-01T01:39:41.007559Z"
    }
   },
   "outputs": [
    {
     "data": {
      "text/html": [
       "<style type=\"text/css\">\n",
       "                                       \n",
       "div.h2 {\n",
       "    background-color: #3E5AE6;\n",
       "    background-image: linear-gradient(120deg, #3E5AE6, #A37CE6);\n",
       "    text-align: left;\n",
       "    color: white;              \n",
       "    padding:9px;\n",
       "    padding-right: 100px; \n",
       "    font-size: 20px; \n",
       "    max-width: 1500px; \n",
       "    margin: auto; \n",
       "    margin-top: 40px; \n",
       "}                                  \n",
       "                                      \n",
       "body {\n",
       "  font-size: 12px;\n",
       "}    \n",
       "                                                                               \n",
       "div.h3 {\n",
       "    color: #3E5AE6; \n",
       "    font-size: 18px; \n",
       "    margin-top: 20px; \n",
       "    margin-bottom:4px;\n",
       "}\n",
       "                                     \n",
       "div.h4 {\n",
       "    color: #159957;\n",
       "    font-size: 15px; \n",
       "    margin-top: 20px; \n",
       "    margin-bottom: 8px;\n",
       "}\n",
       "                                         \n",
       "span.note {\n",
       "    font-size: 5; \n",
       "    color: gray; \n",
       "    font-style: italic;\n",
       "}\n",
       "                                        \n",
       "hr {\n",
       "    display: block; \n",
       "    color: gray\n",
       "    height: 1px; \n",
       "    border: 0; \n",
       "    border-top: 1px solid;\n",
       "}\n",
       "  \n",
       "                                      \n",
       "hr.light {\n",
       "    display: block; \n",
       "    color: lightgray\n",
       "    height: 1px; \n",
       "    border: 0; \n",
       "    border-top: 1px solid;\n",
       "}   \n",
       "                                         \n",
       "table.dataframe th \n",
       "{\n",
       "    border: 1px darkgray solid;\n",
       "    color: black;\n",
       "    background-color: white;\n",
       "}\n",
       "                                       \n",
       "table.dataframe td \n",
       "{\n",
       "    border: 1px darkgray solid;\n",
       "    color: black;\n",
       "    background-color: white;\n",
       "    font-size: 14px;\n",
       "    text-align: center;\n",
       "} \n",
       "                                         \n",
       "table.rules th \n",
       "{\n",
       "    border: 1px darkgray solid;\n",
       "    color: black;\n",
       "    background-color: white;\n",
       "    font-size: 14px;\n",
       "}\n",
       "                                          \n",
       "table.rules td \n",
       "{\n",
       "    border: 1px darkgray solid;\n",
       "    color: black;\n",
       "    background-color: white;\n",
       "    font-size: 13px;\n",
       "    text-align: center;\n",
       "} \n",
       "                                      \n",
       "                                      \n",
       "table.rules tr.best\n",
       "{\n",
       "    color: green;\n",
       "}    \n",
       "                                       \n",
       ".output { \n",
       "    align-items: center; \n",
       "}\n",
       "                                      \n",
       ".output_png {\n",
       "    display: table-cell;\n",
       "    text-align: center;\n",
       "    margin:auto;\n",
       "}                                          \n",
       "                                                                                                                                                                                                                                      \n",
       "</style>  \n"
      ],
      "text/plain": [
       "<IPython.core.display.HTML object>"
      ]
     },
     "metadata": {},
     "output_type": "display_data"
    }
   ],
   "source": [
    "%%HTML\n",
    "<style type=\"text/css\">\n",
    "                                       \n",
    "div.h2 {\n",
    "    background-color: #3E5AE6;\n",
    "    background-image: linear-gradient(120deg, #3E5AE6, #A37CE6);\n",
    "    text-align: left;\n",
    "    color: white;              \n",
    "    padding:9px;\n",
    "    padding-right: 100px; \n",
    "    font-size: 20px; \n",
    "    max-width: 1500px; \n",
    "    margin: auto; \n",
    "    margin-top: 40px; \n",
    "}                                  \n",
    "                                      \n",
    "body {\n",
    "  font-size: 12px;\n",
    "}    \n",
    "                                                                               \n",
    "div.h3 {\n",
    "    color: #3E5AE6; \n",
    "    font-size: 18px; \n",
    "    margin-top: 20px; \n",
    "    margin-bottom:4px;\n",
    "}\n",
    "                                     \n",
    "div.h4 {\n",
    "    color: #159957;\n",
    "    font-size: 15px; \n",
    "    margin-top: 20px; \n",
    "    margin-bottom: 8px;\n",
    "}\n",
    "                                         \n",
    "span.note {\n",
    "    font-size: 5; \n",
    "    color: gray; \n",
    "    font-style: italic;\n",
    "}\n",
    "                                        \n",
    "hr {\n",
    "    display: block; \n",
    "    color: gray\n",
    "    height: 1px; \n",
    "    border: 0; \n",
    "    border-top: 1px solid;\n",
    "}\n",
    "  \n",
    "                                      \n",
    "hr.light {\n",
    "    display: block; \n",
    "    color: lightgray\n",
    "    height: 1px; \n",
    "    border: 0; \n",
    "    border-top: 1px solid;\n",
    "}   \n",
    "                                         \n",
    "table.dataframe th \n",
    "{\n",
    "    border: 1px darkgray solid;\n",
    "    color: black;\n",
    "    background-color: white;\n",
    "}\n",
    "                                       \n",
    "table.dataframe td \n",
    "{\n",
    "    border: 1px darkgray solid;\n",
    "    color: black;\n",
    "    background-color: white;\n",
    "    font-size: 14px;\n",
    "    text-align: center;\n",
    "} \n",
    "                                         \n",
    "table.rules th \n",
    "{\n",
    "    border: 1px darkgray solid;\n",
    "    color: black;\n",
    "    background-color: white;\n",
    "    font-size: 14px;\n",
    "}\n",
    "                                          \n",
    "table.rules td \n",
    "{\n",
    "    border: 1px darkgray solid;\n",
    "    color: black;\n",
    "    background-color: white;\n",
    "    font-size: 13px;\n",
    "    text-align: center;\n",
    "} \n",
    "                                      \n",
    "                                      \n",
    "table.rules tr.best\n",
    "{\n",
    "    color: green;\n",
    "}    \n",
    "                                       \n",
    ".output { \n",
    "    align-items: center; \n",
    "}\n",
    "                                      \n",
    ".output_png {\n",
    "    display: table-cell;\n",
    "    text-align: center;\n",
    "    margin:auto;\n",
    "}                                          \n",
    "                                                                                                                                                                                                                                      \n",
    "</style>  "
   ]
  },
  {
   "cell_type": "markdown",
   "metadata": {},
   "source": [
    "# **Movie Recommendation System using Spark**"
   ]
  },
  {
   "cell_type": "markdown",
   "metadata": {},
   "source": [
    "# **Group Members:**\n",
    "\n",
    "1. Sanya Zaveri AU1920064\n",
    "2. Kavya Patel AU1940144\n",
    "3. Kairavi Shah AU1940177"
   ]
  },
  {
   "cell_type": "markdown",
   "metadata": {},
   "source": []
  },
  {
   "cell_type": "code",
   "execution_count": 2,
   "metadata": {
    "_kg_hide-input": true,
    "_kg_hide-output": true,
    "execution": {
     "iopub.execute_input": "2022-05-01T01:39:41.019103Z",
     "iopub.status.busy": "2022-05-01T01:39:41.018509Z",
     "iopub.status.idle": "2022-05-01T01:40:07.61113Z",
     "shell.execute_reply": "2022-05-01T01:40:07.609805Z",
     "shell.execute_reply.started": "2022-05-01T01:39:41.019059Z"
    }
   },
   "outputs": [
    {
     "name": "stdout",
     "output_type": "stream",
     "text": [
      "Collecting vega_datasets\r\n",
      "  Downloading vega_datasets-0.9.0-py3-none-any.whl (210 kB)\r\n",
      "\u001b[K     |████████████████████████████████| 210 kB 4.5 MB/s \r\n",
      "\u001b[?25hCollecting notebook\r\n",
      "  Downloading notebook-6.4.10-py3-none-any.whl (9.9 MB)\r\n",
      "\u001b[K     |████████████████████████████████| 9.9 MB 58.2 MB/s \r\n",
      "\u001b[?25hCollecting vega\r\n",
      "  Downloading vega-3.6.0-py3-none-any.whl (1.3 MB)\r\n",
      "\u001b[K     |████████████████████████████████| 1.3 MB 63.4 MB/s \r\n",
      "\u001b[?25hRequirement already satisfied, skipping upgrade: pandas in /opt/conda/lib/python3.6/site-packages (from vega_datasets) (0.25.3)\r\n",
      "Requirement already satisfied, skipping upgrade: nbconvert>=5 in /opt/conda/lib/python3.6/site-packages (from notebook) (5.6.1)\r\n",
      "Requirement already satisfied, skipping upgrade: jupyter-client>=5.3.4 in /opt/conda/lib/python3.6/site-packages (from notebook) (6.1.2)\r\n",
      "Collecting argon2-cffi\r\n",
      "  Downloading argon2_cffi-21.3.0-py3-none-any.whl (14 kB)\r\n",
      "Requirement already satisfied, skipping upgrade: pyzmq>=17 in /opt/conda/lib/python3.6/site-packages (from notebook) (18.1.1)\r\n",
      "Requirement already satisfied, skipping upgrade: nbformat in /opt/conda/lib/python3.6/site-packages (from notebook) (5.0.4)\r\n",
      "Collecting nest-asyncio>=1.5\r\n",
      "  Downloading nest_asyncio-1.5.5-py3-none-any.whl (5.2 kB)\r\n",
      "Requirement already satisfied, skipping upgrade: terminado>=0.8.3 in /opt/conda/lib/python3.6/site-packages (from notebook) (0.8.3)\r\n",
      "Requirement already satisfied, skipping upgrade: ipython-genutils in /opt/conda/lib/python3.6/site-packages (from notebook) (0.2.0)\r\n",
      "Requirement already satisfied, skipping upgrade: prometheus-client in /opt/conda/lib/python3.6/site-packages (from notebook) (0.7.1)\r\n",
      "Requirement already satisfied, skipping upgrade: jinja2 in /opt/conda/lib/python3.6/site-packages (from notebook) (2.11.1)\r\n",
      "Collecting tornado>=6.1\r\n",
      "  Downloading tornado-6.1-cp36-cp36m-manylinux2010_x86_64.whl (427 kB)\r\n",
      "\u001b[K     |████████████████████████████████| 427 kB 61.7 MB/s \r\n",
      "\u001b[?25hRequirement already satisfied, skipping upgrade: ipykernel in /opt/conda/lib/python3.6/site-packages (from notebook) (5.1.1)\r\n",
      "Requirement already satisfied, skipping upgrade: jupyter-core>=4.6.1 in /opt/conda/lib/python3.6/site-packages (from notebook) (4.6.1)\r\n",
      "Collecting Send2Trash>=1.8.0\r\n",
      "  Downloading Send2Trash-1.8.0-py3-none-any.whl (18 kB)\r\n",
      "Requirement already satisfied, skipping upgrade: traitlets>=4.2.1 in /opt/conda/lib/python3.6/site-packages (from notebook) (4.3.3)\r\n",
      "Requirement already satisfied, skipping upgrade: jupyter<2.0.0,>=1.0.0 in /opt/conda/lib/python3.6/site-packages (from vega) (1.0.0)\r\n",
      "Requirement already satisfied, skipping upgrade: pytz>=2017.2 in /opt/conda/lib/python3.6/site-packages (from pandas->vega_datasets) (2019.3)\r\n",
      "Requirement already satisfied, skipping upgrade: numpy>=1.13.3 in /opt/conda/lib/python3.6/site-packages (from pandas->vega_datasets) (1.18.2)\r\n",
      "Requirement already satisfied, skipping upgrade: python-dateutil>=2.6.1 in /opt/conda/lib/python3.6/site-packages (from pandas->vega_datasets) (2.8.1)\r\n",
      "Requirement already satisfied, skipping upgrade: pandocfilters>=1.4.1 in /opt/conda/lib/python3.6/site-packages (from nbconvert>=5->notebook) (1.4.2)\r\n",
      "Requirement already satisfied, skipping upgrade: entrypoints>=0.2.2 in /opt/conda/lib/python3.6/site-packages (from nbconvert>=5->notebook) (0.3)\r\n",
      "Requirement already satisfied, skipping upgrade: pygments in /opt/conda/lib/python3.6/site-packages (from nbconvert>=5->notebook) (2.6.1)\r\n",
      "Requirement already satisfied, skipping upgrade: testpath in /opt/conda/lib/python3.6/site-packages (from nbconvert>=5->notebook) (0.4.4)\r\n",
      "Requirement already satisfied, skipping upgrade: mistune<2,>=0.8.1 in /opt/conda/lib/python3.6/site-packages (from nbconvert>=5->notebook) (0.8.4)\r\n",
      "Requirement already satisfied, skipping upgrade: defusedxml in /opt/conda/lib/python3.6/site-packages (from nbconvert>=5->notebook) (0.6.0)\r\n",
      "Requirement already satisfied, skipping upgrade: bleach in /opt/conda/lib/python3.6/site-packages (from nbconvert>=5->notebook) (3.1.0)\r\n",
      "Requirement already satisfied, skipping upgrade: typing-extensions; python_version < \"3.8\" in /opt/conda/lib/python3.6/site-packages (from argon2-cffi->notebook) (3.7.4.1)\r\n",
      "Requirement already satisfied, skipping upgrade: dataclasses; python_version < \"3.7\" in /opt/conda/lib/python3.6/site-packages (from argon2-cffi->notebook) (0.7)\r\n",
      "Collecting argon2-cffi-bindings\r\n",
      "  Downloading argon2_cffi_bindings-21.2.0-cp36-abi3-manylinux_2_17_x86_64.manylinux2014_x86_64.whl (86 kB)\r\n",
      "\u001b[K     |████████████████████████████████| 86 kB 3.8 MB/s \r\n",
      "\u001b[?25hRequirement already satisfied, skipping upgrade: jsonschema!=2.5.0,>=2.4 in /opt/conda/lib/python3.6/site-packages (from nbformat->notebook) (3.2.0)\r\n",
      "Requirement already satisfied, skipping upgrade: MarkupSafe>=0.23 in /opt/conda/lib/python3.6/site-packages (from jinja2->notebook) (1.1.1)\r\n",
      "Requirement already satisfied, skipping upgrade: ipython>=5.0.0 in /opt/conda/lib/python3.6/site-packages (from ipykernel->notebook) (7.13.0)\r\n",
      "Requirement already satisfied, skipping upgrade: decorator in /opt/conda/lib/python3.6/site-packages (from traitlets>=4.2.1->notebook) (4.4.2)\r\n",
      "Requirement already satisfied, skipping upgrade: six in /opt/conda/lib/python3.6/site-packages (from traitlets>=4.2.1->notebook) (1.14.0)\r\n",
      "Requirement already satisfied, skipping upgrade: jupyter-console in /opt/conda/lib/python3.6/site-packages (from jupyter<2.0.0,>=1.0.0->vega) (6.1.0)\r\n",
      "Requirement already satisfied, skipping upgrade: ipywidgets in /opt/conda/lib/python3.6/site-packages (from jupyter<2.0.0,>=1.0.0->vega) (7.5.1)\r\n",
      "Requirement already satisfied, skipping upgrade: qtconsole in /opt/conda/lib/python3.6/site-packages (from jupyter<2.0.0,>=1.0.0->vega) (4.7.2)\r\n",
      "Requirement already satisfied, skipping upgrade: webencodings in /opt/conda/lib/python3.6/site-packages (from bleach->nbconvert>=5->notebook) (0.5.1)\r\n",
      "Requirement already satisfied, skipping upgrade: cffi>=1.0.1 in /opt/conda/lib/python3.6/site-packages (from argon2-cffi-bindings->argon2-cffi->notebook) (1.14.0)\r\n",
      "Requirement already satisfied, skipping upgrade: pyrsistent>=0.14.0 in /opt/conda/lib/python3.6/site-packages (from jsonschema!=2.5.0,>=2.4->nbformat->notebook) (0.16.0)\r\n",
      "Requirement already satisfied, skipping upgrade: attrs>=17.4.0 in /opt/conda/lib/python3.6/site-packages (from jsonschema!=2.5.0,>=2.4->nbformat->notebook) (19.3.0)\r\n",
      "Requirement already satisfied, skipping upgrade: importlib-metadata; python_version < \"3.8\" in /opt/conda/lib/python3.6/site-packages (from jsonschema!=2.5.0,>=2.4->nbformat->notebook) (1.5.0)\r\n",
      "Requirement already satisfied, skipping upgrade: setuptools in /opt/conda/lib/python3.6/site-packages (from jsonschema!=2.5.0,>=2.4->nbformat->notebook) (46.1.3.post20200330)\r\n",
      "Requirement already satisfied, skipping upgrade: backcall in /opt/conda/lib/python3.6/site-packages (from ipython>=5.0.0->ipykernel->notebook) (0.1.0)\r\n",
      "Requirement already satisfied, skipping upgrade: jedi>=0.10 in /opt/conda/lib/python3.6/site-packages (from ipython>=5.0.0->ipykernel->notebook) (0.15.2)\r\n",
      "Requirement already satisfied, skipping upgrade: prompt-toolkit!=3.0.0,!=3.0.1,<3.1.0,>=2.0.0 in /opt/conda/lib/python3.6/site-packages (from ipython>=5.0.0->ipykernel->notebook) (3.0.4)\r\n",
      "Requirement already satisfied, skipping upgrade: pickleshare in /opt/conda/lib/python3.6/site-packages (from ipython>=5.0.0->ipykernel->notebook) (0.7.5)\r\n",
      "Requirement already satisfied, skipping upgrade: pexpect; sys_platform != \"win32\" in /opt/conda/lib/python3.6/site-packages (from ipython>=5.0.0->ipykernel->notebook) (4.8.0)\r\n",
      "Requirement already satisfied, skipping upgrade: widgetsnbextension~=3.5.0 in /opt/conda/lib/python3.6/site-packages (from ipywidgets->jupyter<2.0.0,>=1.0.0->vega) (3.5.1)\r\n",
      "Requirement already satisfied, skipping upgrade: qtpy in /opt/conda/lib/python3.6/site-packages (from qtconsole->jupyter<2.0.0,>=1.0.0->vega) (1.9.0)\r\n",
      "Requirement already satisfied, skipping upgrade: pycparser in /opt/conda/lib/python3.6/site-packages (from cffi>=1.0.1->argon2-cffi-bindings->argon2-cffi->notebook) (2.20)\r\n",
      "Requirement already satisfied, skipping upgrade: zipp>=0.5 in /opt/conda/lib/python3.6/site-packages (from importlib-metadata; python_version < \"3.8\"->jsonschema!=2.5.0,>=2.4->nbformat->notebook) (2.2.0)\r\n",
      "Requirement already satisfied, skipping upgrade: parso>=0.5.2 in /opt/conda/lib/python3.6/site-packages (from jedi>=0.10->ipython>=5.0.0->ipykernel->notebook) (0.5.2)\r\n",
      "Requirement already satisfied, skipping upgrade: wcwidth in /opt/conda/lib/python3.6/site-packages (from prompt-toolkit!=3.0.0,!=3.0.1,<3.1.0,>=2.0.0->ipython>=5.0.0->ipykernel->notebook) (0.1.9)\r\n",
      "Requirement already satisfied, skipping upgrade: ptyprocess>=0.5 in /opt/conda/lib/python3.6/site-packages (from pexpect; sys_platform != \"win32\"->ipython>=5.0.0->ipykernel->notebook) (0.6.0)\r\n",
      "\u001b[31mERROR: vega 3.6.0 has requirement pandas<2.0.0,>=1.0.0, but you'll have pandas 0.25.3 which is incompatible.\u001b[0m\r\n",
      "Installing collected packages: vega-datasets, argon2-cffi-bindings, argon2-cffi, nest-asyncio, tornado, Send2Trash, notebook, vega\r\n",
      "  Attempting uninstall: tornado\r\n",
      "    Found existing installation: tornado 5.0.2\r\n",
      "    Uninstalling tornado-5.0.2:\r\n",
      "      Successfully uninstalled tornado-5.0.2\r\n",
      "  Attempting uninstall: Send2Trash\r\n",
      "    Found existing installation: Send2Trash 1.5.0\r\n",
      "    Uninstalling Send2Trash-1.5.0:\r\n",
      "      Successfully uninstalled Send2Trash-1.5.0\r\n",
      "  Attempting uninstall: notebook\r\n",
      "    Found existing installation: notebook 5.5.0\r\n",
      "    Uninstalling notebook-5.5.0:\r\n",
      "      Successfully uninstalled notebook-5.5.0\r\n",
      "Successfully installed Send2Trash-1.8.0 argon2-cffi-21.3.0 argon2-cffi-bindings-21.2.0 nest-asyncio-1.5.5 notebook-6.4.10 tornado-6.1 vega-3.6.0 vega-datasets-0.9.0\r\n"
     ]
    }
   ],
   "source": [
    "!pip install -U vega_datasets notebook vega"
   ]
  },
  {
   "cell_type": "code",
   "execution_count": 3,
   "metadata": {
    "_kg_hide-input": true,
    "_kg_hide-output": true,
    "execution": {
     "iopub.execute_input": "2022-05-01T01:40:07.613094Z",
     "iopub.status.busy": "2022-05-01T01:40:07.612808Z",
     "iopub.status.idle": "2022-05-01T01:40:13.218083Z",
     "shell.execute_reply": "2022-05-01T01:40:13.216994Z",
     "shell.execute_reply.started": "2022-05-01T01:40:07.613063Z"
    }
   },
   "outputs": [
    {
     "name": "stdout",
     "output_type": "stream",
     "text": [
      "Requirement already satisfied: ujson in /opt/conda/lib/python3.6/site-packages (1.35)\r\n"
     ]
    }
   ],
   "source": [
    "!pip install ujson"
   ]
  },
  {
   "cell_type": "code",
   "execution_count": 4,
   "metadata": {
    "_kg_hide-input": true,
    "_kg_hide-output": true,
    "execution": {
     "iopub.execute_input": "2022-05-01T01:40:13.21998Z",
     "iopub.status.busy": "2022-05-01T01:40:13.219587Z",
     "iopub.status.idle": "2022-05-01T01:40:54.162247Z",
     "shell.execute_reply": "2022-05-01T01:40:54.161339Z",
     "shell.execute_reply.started": "2022-05-01T01:40:13.219934Z"
    }
   },
   "outputs": [
    {
     "name": "stdout",
     "output_type": "stream",
     "text": [
      "env: JOBLIB_TEMP_FOLDER=/tmp\n",
      "Collecting pyspark\r\n",
      "  Downloading pyspark-3.2.1.tar.gz (281.4 MB)\r\n",
      "\u001b[K     |████████████████████████████████| 281.4 MB 34 kB/s \r\n",
      "\u001b[?25hCollecting py4j==0.10.9.3\r\n",
      "  Downloading py4j-0.10.9.3-py2.py3-none-any.whl (198 kB)\r\n",
      "\u001b[K     |████████████████████████████████| 198 kB 31.7 MB/s \r\n",
      "\u001b[?25hBuilding wheels for collected packages: pyspark\r\n",
      "  Building wheel for pyspark (setup.py) ... \u001b[?25l-\b \b\\\b \b|\b \b/\b \b-\b \b\\\b \b|\b \b/\b \b-\b \b\\\b \b|\b \b/\b \b-\b \b\\\b \b|\b \b/\b \b-\b \b\\\b \b|\b \b/\b \b-\b \b\\\b \b|\b \b/\b \b-\b \b\\\b \b|\b \b/\b \b-\b \b\\\b \b|\b \b/\b \b-\b \b\\\b \b|\b \b/\b \b-\b \b\\\b \b|\b \b/\b \b-\b \b\\\b \b|\b \b/\b \b-\b \b\\\b \b|\b \b/\b \b-\b \b\\\b \b|\b \b/\b \b-\b \b\\\b \b|\b \b/\b \b-\b \b\\\b \b|\b \b/\b \b-\b \bdone\r\n",
      "\u001b[?25h  Created wheel for pyspark: filename=pyspark-3.2.1-py2.py3-none-any.whl size=281853644 sha256=39e6e058da4e6ced326db0461ccf258eac530665bb1c94ded24ab5dfbe8b310f\r\n",
      "  Stored in directory: /root/.cache/pip/wheels/bc/fa/63/f112e9bf64fa59f349f9d37b48b70911435dc532ff49cffddc\r\n",
      "Successfully built pyspark\r\n",
      "Installing collected packages: py4j, pyspark\r\n",
      "Successfully installed py4j-0.10.9.3 pyspark-3.2.1\r\n"
     ]
    }
   ],
   "source": [
    "%env JOBLIB_TEMP_FOLDER=/tmp\n",
    "!pip install pyspark"
   ]
  },
  {
   "cell_type": "code",
   "execution_count": 5,
   "metadata": {
    "_cell_guid": "b1076dfc-b9ad-4769-8c92-a6c4dae69d19",
    "_kg_hide-input": true,
    "_kg_hide-output": true,
    "_uuid": "8f2839f25d086af736a60e9eeb907d3b93b6e0e5",
    "execution": {
     "iopub.execute_input": "2022-05-01T01:40:54.166495Z",
     "iopub.status.busy": "2022-05-01T01:40:54.166136Z",
     "iopub.status.idle": "2022-05-01T01:40:56.496855Z",
     "shell.execute_reply": "2022-05-01T01:40:56.496054Z",
     "shell.execute_reply.started": "2022-05-01T01:40:54.166461Z"
    }
   },
   "outputs": [
    {
     "data": {
      "text/html": [
       "        <script type=\"text/javascript\">\n",
       "        window.PlotlyConfig = {MathJaxConfig: 'local'};\n",
       "        if (window.MathJax) {MathJax.Hub.Config({SVG: {font: \"STIX-Web\"}});}\n",
       "        if (typeof require !== 'undefined') {\n",
       "        require.undef(\"plotly\");\n",
       "        requirejs.config({\n",
       "            paths: {\n",
       "                'plotly': ['https://cdn.plot.ly/plotly-latest.min']\n",
       "            }\n",
       "        });\n",
       "        require(['plotly'], function(Plotly) {\n",
       "            window._Plotly = Plotly;\n",
       "        });\n",
       "        }\n",
       "        </script>\n",
       "        "
      ]
     },
     "metadata": {},
     "output_type": "display_data"
    }
   ],
   "source": [
    "import numpy as np\n",
    "import pandas as pd\n",
    "pd.set_option('display.max_columns', 8)\n",
    "import os\n",
    "import gc\n",
    "import ujson as json\n",
    "import matplotlib.pyplot as plt\n",
    "%matplotlib inline\n",
    "import matplotlib.patches as patches\n",
    "import seaborn as sns\n",
    "\n",
    "import plotly as py\n",
    "import plotly.express as px\n",
    "import plotly.graph_objs as go\n",
    "from plotly.subplots import make_subplots\n",
    "from plotly.offline import download_plotlyjs\n",
    "from plotly.offline import init_notebook_mode\n",
    "from plotly.offline import plot,iplot\n",
    "\n",
    "init_notebook_mode(connected=True)\n",
    "\n",
    "import altair as alt\n",
    "from altair.vega import v5\n",
    "from IPython.display import HTML\n",
    "alt.renderers.enable('notebook')\n",
    "\n",
    "from IPython.display import HTML\n",
    "from IPython.display import Image\n",
    "from IPython.display import display\n",
    "from IPython.core.display import display\n",
    "from IPython.core.display import HTML\n",
    "from IPython.core.interactiveshell import InteractiveShell\n",
    "InteractiveShell.ast_node_interactivity = \"all\"\n",
    "\n",
    "import warnings\n",
    "warnings.filterwarnings('ignore')\n",
    "\n",
    "plt.style.use('seaborn') \n",
    "color_pal = [x['color'] for x in plt.rcParams['axes.prop_cycle']]\n",
    "%config InlineBackend.figure_format = 'svg'  \n",
    "th_props = [('font-size', '13px'), ('background-color', 'white'), ('color', '#666666')]\n",
    "td_props = [('font-size', '15px'), ('background-color', 'white')]\n",
    "styles = [dict(selector=\"td\", props=td_props), dict(selector=\"th\", props=th_props)]\n",
    "\n",
    "SMALL_SIZE = 8\n",
    "MEDIUM_SIZE = 10\n",
    "BIGGER_SIZE = 12\n",
    "plt.rc('font', size=SMALL_SIZE)          # controls default text sizes\n",
    "plt.rc('axes', titlesize=SMALL_SIZE)     # fontsize of the axes title\n",
    "plt.rc('axes', labelsize=MEDIUM_SIZE)    # fontsize of the x and y labels\n",
    "plt.rc('xtick', labelsize=SMALL_SIZE)    # fontsize of the tick labels\n",
    "plt.rc('ytick', labelsize=SMALL_SIZE)    # fontsize of the tick labels\n",
    "plt.rc('legend', fontsize=SMALL_SIZE)    # legend fontsize\n",
    "plt.rc('figure', titlesize=BIGGER_SIZE)  # fontsize of the figure title\n",
    "\n",
    "DATA_PATH = '../input/the-movies-dataset/'"
   ]
  },
  {
   "cell_type": "code",
   "execution_count": 6,
   "metadata": {
    "_kg_hide-input": true,
    "_kg_hide-output": true,
    "execution": {
     "iopub.execute_input": "2022-05-01T01:40:56.499442Z",
     "iopub.status.busy": "2022-05-01T01:40:56.499202Z",
     "iopub.status.idle": "2022-05-01T01:40:56.513538Z",
     "shell.execute_reply": "2022-05-01T01:40:56.512946Z",
     "shell.execute_reply.started": "2022-05-01T01:40:56.499417Z"
    }
   },
   "outputs": [
    {
     "data": {
      "text/html": [
       "<script>    requirejs.config({\n",
       "        baseUrl: 'https://cdn.jsdelivr.net/npm/',\n",
       "        paths: {'vega': 'https://cdn.jsdelivr.net/npm/vega@v5.9.0?noext', 'vega-lib': 'https://cdn.jsdelivr.net/npm/vega-lib?noext', 'vega-lite': 'https://cdn.jsdelivr.net/npm/vega-lite@v4.0.2?noext', 'vega-embed': 'https://cdn.jsdelivr.net/npm/vega-embed@3?noext'}\n",
       "    });\n",
       "    </script>"
      ],
      "text/plain": [
       "<IPython.core.display.HTML object>"
      ]
     },
     "execution_count": 6,
     "metadata": {},
     "output_type": "execute_result"
    }
   ],
   "source": [
    "# using ideas from this kernel: https://www.kaggle.com/notslush/altair-visualization-2018-stackoverflow-survey\n",
    "def prepare_altair():\n",
    "    \"\"\"\n",
    "    Helper function to prepare altair for working.\n",
    "    \"\"\"\n",
    "\n",
    "    vega_url = 'https://cdn.jsdelivr.net/npm/vega@' + v5.SCHEMA_VERSION\n",
    "    vega_lib_url = 'https://cdn.jsdelivr.net/npm/vega-lib'\n",
    "    vega_lite_url = 'https://cdn.jsdelivr.net/npm/vega-lite@' + alt.SCHEMA_VERSION\n",
    "    vega_embed_url = 'https://cdn.jsdelivr.net/npm/vega-embed@3'\n",
    "    noext = \"?noext\"\n",
    "    \n",
    "    paths = {\n",
    "        'vega': vega_url + noext,\n",
    "        'vega-lib': vega_lib_url + noext,\n",
    "        'vega-lite': vega_lite_url + noext,\n",
    "        'vega-embed': vega_embed_url + noext\n",
    "    }\n",
    "    \n",
    "    workaround = f\"\"\"    requirejs.config({{\n",
    "        baseUrl: 'https://cdn.jsdelivr.net/npm/',\n",
    "        paths: {paths}\n",
    "    }});\n",
    "    \"\"\"\n",
    "    \n",
    "    return workaround\n",
    "    \n",
    "def add_autoincrement(render_func):\n",
    "    # Keep track of unique <div/> IDs\n",
    "    cache = {}\n",
    "    def wrapped(chart, id=\"vega-chart\", autoincrement=True):\n",
    "        if autoincrement:\n",
    "            if id in cache:\n",
    "                counter = 1 + cache[id]\n",
    "                cache[id] = counter\n",
    "            else:\n",
    "                cache[id] = 0\n",
    "            actual_id = id if cache[id] == 0 else id + '-' + str(cache[id])\n",
    "        else:\n",
    "            if id not in cache:\n",
    "                cache[id] = 0\n",
    "            actual_id = id\n",
    "        return render_func(chart, id=actual_id)\n",
    "    # Cache will stay outside and \n",
    "    return wrapped\n",
    "           \n",
    "@add_autoincrement\n",
    "def render(chart, id=\"vega-chart\"):\n",
    "    \"\"\"\n",
    "    Helper function to plot altair visualizations.\n",
    "    \"\"\"\n",
    "    chart_str = \"\"\"\n",
    "    <div id=\"{id}\"></div><script>\n",
    "    require([\"vega-embed\"], function(vg_embed) {{\n",
    "        const spec = {chart};     \n",
    "        vg_embed(\"#{id}\", spec, {{defaultStyle: true}}).catch(console.warn);\n",
    "        console.log(\"anything?\");\n",
    "    }});\n",
    "    console.log(\"really...anything?\");\n",
    "    </script>\n",
    "    \"\"\"\n",
    "    return HTML(\n",
    "        chart_str.format(\n",
    "            id=id,\n",
    "            chart=json.dumps(chart) if isinstance(chart, dict) else chart.to_json(indent=None)\n",
    "        )\n",
    "    )\n",
    "\n",
    "# setting up altair\n",
    "workaround = prepare_altair()\n",
    "HTML(\"\".join((\n",
    "    \"<script>\",\n",
    "    workaround,\n",
    "    \"</script>\",\n",
    ")))"
   ]
  },
  {
   "cell_type": "markdown",
   "metadata": {},
   "source": [
    "It's time to take a look in all files provided by the dataset."
   ]
  },
  {
   "cell_type": "code",
   "execution_count": 7,
   "metadata": {
    "_kg_hide-input": true,
    "execution": {
     "iopub.execute_input": "2022-05-01T01:40:56.515083Z",
     "iopub.status.busy": "2022-05-01T01:40:56.514811Z",
     "iopub.status.idle": "2022-05-01T01:40:56.536041Z",
     "shell.execute_reply": "2022-05-01T01:40:56.535129Z",
     "shell.execute_reply.started": "2022-05-01T01:40:56.515056Z"
    }
   },
   "outputs": [
    {
     "name": "stdout",
     "output_type": "stream",
     "text": [
      "Data Files in Directory\n",
      "['ratings.csv', 'links_small.csv', 'credits.csv', 'keywords.csv', 'movies_metadata.csv', 'ratings_small.csv', 'links.csv']\n"
     ]
    }
   ],
   "source": [
    "print('Data Files in Directory')\n",
    "print(os.listdir(DATA_PATH))"
   ]
  },
  {
   "cell_type": "markdown",
   "metadata": {},
   "source": [
    "For now, I will ignore all small dataset versions.<br>\n",
    "Time to import relvant (Ratings, Links and Metadata) files and check the data."
   ]
  },
  {
   "cell_type": "code",
   "execution_count": 8,
   "metadata": {
    "_cell_guid": "79c7e3d0-c299-4dcb-8224-4455121ee9b0",
    "_kg_hide-input": true,
    "_kg_hide-output": true,
    "_uuid": "d629ff2d2480ee46fbb7e2d37f6b5fab8052498a",
    "execution": {
     "iopub.execute_input": "2022-05-01T01:40:56.53817Z",
     "iopub.status.busy": "2022-05-01T01:40:56.537562Z",
     "iopub.status.idle": "2022-05-01T01:41:12.196026Z",
     "shell.execute_reply": "2022-05-01T01:41:12.19511Z",
     "shell.execute_reply.started": "2022-05-01T01:40:56.53811Z"
    }
   },
   "outputs": [],
   "source": [
    "ratings = pd.read_csv(DATA_PATH+'ratings.csv')\n",
    "links = pd.read_csv(DATA_PATH+'links.csv')\n",
    "metadata = pd.read_csv(DATA_PATH+'movies_metadata.csv')"
   ]
  },
  {
   "cell_type": "code",
   "execution_count": 9,
   "metadata": {
    "_kg_hide-input": true,
    "_kg_hide-output": true,
    "execution": {
     "iopub.execute_input": "2022-05-01T01:41:12.197378Z",
     "iopub.status.busy": "2022-05-01T01:41:12.197168Z",
     "iopub.status.idle": "2022-05-01T01:41:12.205172Z",
     "shell.execute_reply": "2022-05-01T01:41:12.204446Z",
     "shell.execute_reply.started": "2022-05-01T01:41:12.197355Z"
    }
   },
   "outputs": [],
   "source": [
    "# Function that I wrote to print all relevant infos in dataset\n",
    "import io\n",
    "\n",
    "def get_df_info(df):\n",
    "    display(df.head(3))\n",
    "    buf = io.StringIO()\n",
    "    df.info(buf=buf)\n",
    "    info = buf.getvalue().split('\\n')[-2]\n",
    "    display(f'Number of Rows: {df.shape[0]}, Number of Columns: {df.shape[1]}')\n",
    "    display('Data Types')\n",
    "    df_types = df.dtypes\n",
    "    df_types = pd.DataFrame({'Column':df_types.index, 'Type':df_types.values})\n",
    "    display(df_types) \n",
    "    display(info)\n",
    "    missing = df.isnull().sum().sort_values(ascending=False)\n",
    "    display('Missing Values')\n",
    "    if missing.values.sum() == 0:\n",
    "        display('No Missing Values')\n",
    "    else:\n",
    "        missing = missing[missing > 0]\n",
    "        missing = pd.DataFrame({'Column' : missing.index, 'Missing Values' : missing.values})\n",
    "        display(missing)"
   ]
  },
  {
   "cell_type": "markdown",
   "metadata": {},
   "source": [
    "<a id='bkground'></a>\n",
    "<div class=\"h3\"><center>Ratings Content</center></div>"
   ]
  },
  {
   "cell_type": "code",
   "execution_count": 10,
   "metadata": {
    "_kg_hide-input": true,
    "execution": {
     "iopub.execute_input": "2022-05-01T01:41:12.206491Z",
     "iopub.status.busy": "2022-05-01T01:41:12.206126Z",
     "iopub.status.idle": "2022-05-01T01:41:12.492602Z",
     "shell.execute_reply": "2022-05-01T01:41:12.491782Z",
     "shell.execute_reply.started": "2022-05-01T01:41:12.206455Z"
    }
   },
   "outputs": [
    {
     "data": {
      "text/html": [
       "<div>\n",
       "<style scoped>\n",
       "    .dataframe tbody tr th:only-of-type {\n",
       "        vertical-align: middle;\n",
       "    }\n",
       "\n",
       "    .dataframe tbody tr th {\n",
       "        vertical-align: top;\n",
       "    }\n",
       "\n",
       "    .dataframe thead th {\n",
       "        text-align: right;\n",
       "    }\n",
       "</style>\n",
       "<table border=\"1\" class=\"dataframe\">\n",
       "  <thead>\n",
       "    <tr style=\"text-align: right;\">\n",
       "      <th></th>\n",
       "      <th>userId</th>\n",
       "      <th>movieId</th>\n",
       "      <th>rating</th>\n",
       "      <th>timestamp</th>\n",
       "    </tr>\n",
       "  </thead>\n",
       "  <tbody>\n",
       "    <tr>\n",
       "      <th>0</th>\n",
       "      <td>1</td>\n",
       "      <td>110</td>\n",
       "      <td>1.0</td>\n",
       "      <td>1425941529</td>\n",
       "    </tr>\n",
       "    <tr>\n",
       "      <th>1</th>\n",
       "      <td>1</td>\n",
       "      <td>147</td>\n",
       "      <td>4.5</td>\n",
       "      <td>1425942435</td>\n",
       "    </tr>\n",
       "    <tr>\n",
       "      <th>2</th>\n",
       "      <td>1</td>\n",
       "      <td>858</td>\n",
       "      <td>5.0</td>\n",
       "      <td>1425941523</td>\n",
       "    </tr>\n",
       "  </tbody>\n",
       "</table>\n",
       "</div>"
      ],
      "text/plain": [
       "   userId  movieId  rating   timestamp\n",
       "0       1      110     1.0  1425941529\n",
       "1       1      147     4.5  1425942435\n",
       "2       1      858     5.0  1425941523"
      ]
     },
     "metadata": {},
     "output_type": "display_data"
    },
    {
     "data": {
      "text/plain": [
       "'Number of Rows: 26024289, Number of Columns: 4'"
      ]
     },
     "metadata": {},
     "output_type": "display_data"
    },
    {
     "data": {
      "text/plain": [
       "'Data Types'"
      ]
     },
     "metadata": {},
     "output_type": "display_data"
    },
    {
     "data": {
      "text/html": [
       "<div>\n",
       "<style scoped>\n",
       "    .dataframe tbody tr th:only-of-type {\n",
       "        vertical-align: middle;\n",
       "    }\n",
       "\n",
       "    .dataframe tbody tr th {\n",
       "        vertical-align: top;\n",
       "    }\n",
       "\n",
       "    .dataframe thead th {\n",
       "        text-align: right;\n",
       "    }\n",
       "</style>\n",
       "<table border=\"1\" class=\"dataframe\">\n",
       "  <thead>\n",
       "    <tr style=\"text-align: right;\">\n",
       "      <th></th>\n",
       "      <th>Column</th>\n",
       "      <th>Type</th>\n",
       "    </tr>\n",
       "  </thead>\n",
       "  <tbody>\n",
       "    <tr>\n",
       "      <th>0</th>\n",
       "      <td>userId</td>\n",
       "      <td>int64</td>\n",
       "    </tr>\n",
       "    <tr>\n",
       "      <th>1</th>\n",
       "      <td>movieId</td>\n",
       "      <td>int64</td>\n",
       "    </tr>\n",
       "    <tr>\n",
       "      <th>2</th>\n",
       "      <td>rating</td>\n",
       "      <td>float64</td>\n",
       "    </tr>\n",
       "    <tr>\n",
       "      <th>3</th>\n",
       "      <td>timestamp</td>\n",
       "      <td>int64</td>\n",
       "    </tr>\n",
       "  </tbody>\n",
       "</table>\n",
       "</div>"
      ],
      "text/plain": [
       "      Column     Type\n",
       "0     userId    int64\n",
       "1    movieId    int64\n",
       "2     rating  float64\n",
       "3  timestamp    int64"
      ]
     },
     "metadata": {},
     "output_type": "display_data"
    },
    {
     "data": {
      "text/plain": [
       "'memory usage: 794.2 MB'"
      ]
     },
     "metadata": {},
     "output_type": "display_data"
    },
    {
     "data": {
      "text/plain": [
       "'Missing Values'"
      ]
     },
     "metadata": {},
     "output_type": "display_data"
    },
    {
     "data": {
      "text/plain": [
       "'No Missing Values'"
      ]
     },
     "metadata": {},
     "output_type": "display_data"
    }
   ],
   "source": [
    "get_df_info(ratings)"
   ]
  },
  {
   "cell_type": "markdown",
   "metadata": {},
   "source": [
    "<a id='bkground'></a>\n",
    "<div class=\"h3\"><center>Metadata Content</center></div>"
   ]
  },
  {
   "cell_type": "code",
   "execution_count": 11,
   "metadata": {
    "_kg_hide-input": true,
    "execution": {
     "iopub.execute_input": "2022-05-01T01:41:12.493788Z",
     "iopub.status.busy": "2022-05-01T01:41:12.493568Z",
     "iopub.status.idle": "2022-05-01T01:41:12.63547Z",
     "shell.execute_reply": "2022-05-01T01:41:12.634508Z",
     "shell.execute_reply.started": "2022-05-01T01:41:12.493763Z"
    }
   },
   "outputs": [
    {
     "data": {
      "text/html": [
       "<div>\n",
       "<style scoped>\n",
       "    .dataframe tbody tr th:only-of-type {\n",
       "        vertical-align: middle;\n",
       "    }\n",
       "\n",
       "    .dataframe tbody tr th {\n",
       "        vertical-align: top;\n",
       "    }\n",
       "\n",
       "    .dataframe thead th {\n",
       "        text-align: right;\n",
       "    }\n",
       "</style>\n",
       "<table border=\"1\" class=\"dataframe\">\n",
       "  <thead>\n",
       "    <tr style=\"text-align: right;\">\n",
       "      <th></th>\n",
       "      <th>adult</th>\n",
       "      <th>belongs_to_collection</th>\n",
       "      <th>budget</th>\n",
       "      <th>genres</th>\n",
       "      <th>...</th>\n",
       "      <th>title</th>\n",
       "      <th>video</th>\n",
       "      <th>vote_average</th>\n",
       "      <th>vote_count</th>\n",
       "    </tr>\n",
       "  </thead>\n",
       "  <tbody>\n",
       "    <tr>\n",
       "      <th>0</th>\n",
       "      <td>False</td>\n",
       "      <td>{'id': 10194, 'name': 'Toy Story Collection', ...</td>\n",
       "      <td>30000000</td>\n",
       "      <td>[{'id': 16, 'name': 'Animation'}, {'id': 35, '...</td>\n",
       "      <td>...</td>\n",
       "      <td>Toy Story</td>\n",
       "      <td>False</td>\n",
       "      <td>7.7</td>\n",
       "      <td>5415.0</td>\n",
       "    </tr>\n",
       "    <tr>\n",
       "      <th>1</th>\n",
       "      <td>False</td>\n",
       "      <td>NaN</td>\n",
       "      <td>65000000</td>\n",
       "      <td>[{'id': 12, 'name': 'Adventure'}, {'id': 14, '...</td>\n",
       "      <td>...</td>\n",
       "      <td>Jumanji</td>\n",
       "      <td>False</td>\n",
       "      <td>6.9</td>\n",
       "      <td>2413.0</td>\n",
       "    </tr>\n",
       "    <tr>\n",
       "      <th>2</th>\n",
       "      <td>False</td>\n",
       "      <td>{'id': 119050, 'name': 'Grumpy Old Men Collect...</td>\n",
       "      <td>0</td>\n",
       "      <td>[{'id': 10749, 'name': 'Romance'}, {'id': 35, ...</td>\n",
       "      <td>...</td>\n",
       "      <td>Grumpier Old Men</td>\n",
       "      <td>False</td>\n",
       "      <td>6.5</td>\n",
       "      <td>92.0</td>\n",
       "    </tr>\n",
       "  </tbody>\n",
       "</table>\n",
       "<p>3 rows × 24 columns</p>\n",
       "</div>"
      ],
      "text/plain": [
       "   adult                              belongs_to_collection    budget  \\\n",
       "0  False  {'id': 10194, 'name': 'Toy Story Collection', ...  30000000   \n",
       "1  False                                                NaN  65000000   \n",
       "2  False  {'id': 119050, 'name': 'Grumpy Old Men Collect...         0   \n",
       "\n",
       "                                              genres  ...             title  \\\n",
       "0  [{'id': 16, 'name': 'Animation'}, {'id': 35, '...  ...         Toy Story   \n",
       "1  [{'id': 12, 'name': 'Adventure'}, {'id': 14, '...  ...           Jumanji   \n",
       "2  [{'id': 10749, 'name': 'Romance'}, {'id': 35, ...  ...  Grumpier Old Men   \n",
       "\n",
       "   video vote_average vote_count  \n",
       "0  False          7.7     5415.0  \n",
       "1  False          6.9     2413.0  \n",
       "2  False          6.5       92.0  \n",
       "\n",
       "[3 rows x 24 columns]"
      ]
     },
     "metadata": {},
     "output_type": "display_data"
    },
    {
     "data": {
      "text/plain": [
       "'Number of Rows: 45466, Number of Columns: 24'"
      ]
     },
     "metadata": {},
     "output_type": "display_data"
    },
    {
     "data": {
      "text/plain": [
       "'Data Types'"
      ]
     },
     "metadata": {},
     "output_type": "display_data"
    },
    {
     "data": {
      "text/html": [
       "<div>\n",
       "<style scoped>\n",
       "    .dataframe tbody tr th:only-of-type {\n",
       "        vertical-align: middle;\n",
       "    }\n",
       "\n",
       "    .dataframe tbody tr th {\n",
       "        vertical-align: top;\n",
       "    }\n",
       "\n",
       "    .dataframe thead th {\n",
       "        text-align: right;\n",
       "    }\n",
       "</style>\n",
       "<table border=\"1\" class=\"dataframe\">\n",
       "  <thead>\n",
       "    <tr style=\"text-align: right;\">\n",
       "      <th></th>\n",
       "      <th>Column</th>\n",
       "      <th>Type</th>\n",
       "    </tr>\n",
       "  </thead>\n",
       "  <tbody>\n",
       "    <tr>\n",
       "      <th>0</th>\n",
       "      <td>adult</td>\n",
       "      <td>object</td>\n",
       "    </tr>\n",
       "    <tr>\n",
       "      <th>1</th>\n",
       "      <td>belongs_to_collection</td>\n",
       "      <td>object</td>\n",
       "    </tr>\n",
       "    <tr>\n",
       "      <th>2</th>\n",
       "      <td>budget</td>\n",
       "      <td>object</td>\n",
       "    </tr>\n",
       "    <tr>\n",
       "      <th>3</th>\n",
       "      <td>genres</td>\n",
       "      <td>object</td>\n",
       "    </tr>\n",
       "    <tr>\n",
       "      <th>4</th>\n",
       "      <td>homepage</td>\n",
       "      <td>object</td>\n",
       "    </tr>\n",
       "    <tr>\n",
       "      <th>5</th>\n",
       "      <td>id</td>\n",
       "      <td>object</td>\n",
       "    </tr>\n",
       "    <tr>\n",
       "      <th>6</th>\n",
       "      <td>imdb_id</td>\n",
       "      <td>object</td>\n",
       "    </tr>\n",
       "    <tr>\n",
       "      <th>7</th>\n",
       "      <td>original_language</td>\n",
       "      <td>object</td>\n",
       "    </tr>\n",
       "    <tr>\n",
       "      <th>8</th>\n",
       "      <td>original_title</td>\n",
       "      <td>object</td>\n",
       "    </tr>\n",
       "    <tr>\n",
       "      <th>9</th>\n",
       "      <td>overview</td>\n",
       "      <td>object</td>\n",
       "    </tr>\n",
       "    <tr>\n",
       "      <th>10</th>\n",
       "      <td>popularity</td>\n",
       "      <td>object</td>\n",
       "    </tr>\n",
       "    <tr>\n",
       "      <th>11</th>\n",
       "      <td>poster_path</td>\n",
       "      <td>object</td>\n",
       "    </tr>\n",
       "    <tr>\n",
       "      <th>12</th>\n",
       "      <td>production_companies</td>\n",
       "      <td>object</td>\n",
       "    </tr>\n",
       "    <tr>\n",
       "      <th>13</th>\n",
       "      <td>production_countries</td>\n",
       "      <td>object</td>\n",
       "    </tr>\n",
       "    <tr>\n",
       "      <th>14</th>\n",
       "      <td>release_date</td>\n",
       "      <td>object</td>\n",
       "    </tr>\n",
       "    <tr>\n",
       "      <th>15</th>\n",
       "      <td>revenue</td>\n",
       "      <td>float64</td>\n",
       "    </tr>\n",
       "    <tr>\n",
       "      <th>16</th>\n",
       "      <td>runtime</td>\n",
       "      <td>float64</td>\n",
       "    </tr>\n",
       "    <tr>\n",
       "      <th>17</th>\n",
       "      <td>spoken_languages</td>\n",
       "      <td>object</td>\n",
       "    </tr>\n",
       "    <tr>\n",
       "      <th>18</th>\n",
       "      <td>status</td>\n",
       "      <td>object</td>\n",
       "    </tr>\n",
       "    <tr>\n",
       "      <th>19</th>\n",
       "      <td>tagline</td>\n",
       "      <td>object</td>\n",
       "    </tr>\n",
       "    <tr>\n",
       "      <th>20</th>\n",
       "      <td>title</td>\n",
       "      <td>object</td>\n",
       "    </tr>\n",
       "    <tr>\n",
       "      <th>21</th>\n",
       "      <td>video</td>\n",
       "      <td>object</td>\n",
       "    </tr>\n",
       "    <tr>\n",
       "      <th>22</th>\n",
       "      <td>vote_average</td>\n",
       "      <td>float64</td>\n",
       "    </tr>\n",
       "    <tr>\n",
       "      <th>23</th>\n",
       "      <td>vote_count</td>\n",
       "      <td>float64</td>\n",
       "    </tr>\n",
       "  </tbody>\n",
       "</table>\n",
       "</div>"
      ],
      "text/plain": [
       "                   Column     Type\n",
       "0                   adult   object\n",
       "1   belongs_to_collection   object\n",
       "2                  budget   object\n",
       "3                  genres   object\n",
       "4                homepage   object\n",
       "5                      id   object\n",
       "6                 imdb_id   object\n",
       "7       original_language   object\n",
       "8          original_title   object\n",
       "9                overview   object\n",
       "10             popularity   object\n",
       "11            poster_path   object\n",
       "12   production_companies   object\n",
       "13   production_countries   object\n",
       "14           release_date   object\n",
       "15                revenue  float64\n",
       "16                runtime  float64\n",
       "17       spoken_languages   object\n",
       "18                 status   object\n",
       "19                tagline   object\n",
       "20                  title   object\n",
       "21                  video   object\n",
       "22           vote_average  float64\n",
       "23             vote_count  float64"
      ]
     },
     "metadata": {},
     "output_type": "display_data"
    },
    {
     "data": {
      "text/plain": [
       "'memory usage: 8.3+ MB'"
      ]
     },
     "metadata": {},
     "output_type": "display_data"
    },
    {
     "data": {
      "text/plain": [
       "'Missing Values'"
      ]
     },
     "metadata": {},
     "output_type": "display_data"
    },
    {
     "data": {
      "text/html": [
       "<div>\n",
       "<style scoped>\n",
       "    .dataframe tbody tr th:only-of-type {\n",
       "        vertical-align: middle;\n",
       "    }\n",
       "\n",
       "    .dataframe tbody tr th {\n",
       "        vertical-align: top;\n",
       "    }\n",
       "\n",
       "    .dataframe thead th {\n",
       "        text-align: right;\n",
       "    }\n",
       "</style>\n",
       "<table border=\"1\" class=\"dataframe\">\n",
       "  <thead>\n",
       "    <tr style=\"text-align: right;\">\n",
       "      <th></th>\n",
       "      <th>Column</th>\n",
       "      <th>Missing Values</th>\n",
       "    </tr>\n",
       "  </thead>\n",
       "  <tbody>\n",
       "    <tr>\n",
       "      <th>0</th>\n",
       "      <td>belongs_to_collection</td>\n",
       "      <td>40972</td>\n",
       "    </tr>\n",
       "    <tr>\n",
       "      <th>1</th>\n",
       "      <td>homepage</td>\n",
       "      <td>37684</td>\n",
       "    </tr>\n",
       "    <tr>\n",
       "      <th>2</th>\n",
       "      <td>tagline</td>\n",
       "      <td>25054</td>\n",
       "    </tr>\n",
       "    <tr>\n",
       "      <th>3</th>\n",
       "      <td>overview</td>\n",
       "      <td>954</td>\n",
       "    </tr>\n",
       "    <tr>\n",
       "      <th>4</th>\n",
       "      <td>poster_path</td>\n",
       "      <td>386</td>\n",
       "    </tr>\n",
       "    <tr>\n",
       "      <th>5</th>\n",
       "      <td>runtime</td>\n",
       "      <td>263</td>\n",
       "    </tr>\n",
       "    <tr>\n",
       "      <th>6</th>\n",
       "      <td>status</td>\n",
       "      <td>87</td>\n",
       "    </tr>\n",
       "    <tr>\n",
       "      <th>7</th>\n",
       "      <td>release_date</td>\n",
       "      <td>87</td>\n",
       "    </tr>\n",
       "    <tr>\n",
       "      <th>8</th>\n",
       "      <td>imdb_id</td>\n",
       "      <td>17</td>\n",
       "    </tr>\n",
       "    <tr>\n",
       "      <th>9</th>\n",
       "      <td>original_language</td>\n",
       "      <td>11</td>\n",
       "    </tr>\n",
       "    <tr>\n",
       "      <th>10</th>\n",
       "      <td>vote_average</td>\n",
       "      <td>6</td>\n",
       "    </tr>\n",
       "    <tr>\n",
       "      <th>11</th>\n",
       "      <td>vote_count</td>\n",
       "      <td>6</td>\n",
       "    </tr>\n",
       "    <tr>\n",
       "      <th>12</th>\n",
       "      <td>revenue</td>\n",
       "      <td>6</td>\n",
       "    </tr>\n",
       "    <tr>\n",
       "      <th>13</th>\n",
       "      <td>spoken_languages</td>\n",
       "      <td>6</td>\n",
       "    </tr>\n",
       "    <tr>\n",
       "      <th>14</th>\n",
       "      <td>title</td>\n",
       "      <td>6</td>\n",
       "    </tr>\n",
       "    <tr>\n",
       "      <th>15</th>\n",
       "      <td>video</td>\n",
       "      <td>6</td>\n",
       "    </tr>\n",
       "    <tr>\n",
       "      <th>16</th>\n",
       "      <td>popularity</td>\n",
       "      <td>5</td>\n",
       "    </tr>\n",
       "    <tr>\n",
       "      <th>17</th>\n",
       "      <td>production_companies</td>\n",
       "      <td>3</td>\n",
       "    </tr>\n",
       "    <tr>\n",
       "      <th>18</th>\n",
       "      <td>production_countries</td>\n",
       "      <td>3</td>\n",
       "    </tr>\n",
       "  </tbody>\n",
       "</table>\n",
       "</div>"
      ],
      "text/plain": [
       "                   Column  Missing Values\n",
       "0   belongs_to_collection           40972\n",
       "1                homepage           37684\n",
       "2                 tagline           25054\n",
       "3                overview             954\n",
       "4             poster_path             386\n",
       "5                 runtime             263\n",
       "6                  status              87\n",
       "7            release_date              87\n",
       "8                 imdb_id              17\n",
       "9       original_language              11\n",
       "10           vote_average               6\n",
       "11             vote_count               6\n",
       "12                revenue               6\n",
       "13       spoken_languages               6\n",
       "14                  title               6\n",
       "15                  video               6\n",
       "16             popularity               5\n",
       "17   production_companies               3\n",
       "18   production_countries               3"
      ]
     },
     "metadata": {},
     "output_type": "display_data"
    }
   ],
   "source": [
    "get_df_info(metadata)"
   ]
  },
  {
   "cell_type": "markdown",
   "metadata": {},
   "source": [
    "In all the data info displayed, we can see that only ratings have a large memory usage, and I will use this dataset to make the recommendation system based on user ratings, the dataset have the relevant data like userId, movieId and ratings.<br>\n",
    "It's important to say that the ratings dataset doesn't have any missing value, therefore, will not needed any treatment like data imputation or drop NA rows.<br>\n",
    "The other datasets will be used for Exploratory Data Analysis.\n"
   ]
  },
  {
   "cell_type": "markdown",
   "metadata": {},
   "source": [
    "<br>\n",
    "<a id='bkground'></a>\n",
    "<div class=\"h2\"><center>Exploratory Data Analysis</center></div>\n",
    "<br>"
   ]
  },
  {
   "cell_type": "markdown",
   "metadata": {},
   "source": [
    "<div class=\"h3\">Let's start with the following approaches</div><br>\n",
    "* Rating Frequency.\n",
    "* Analysis of most rated movies.\n",
    "* World cloud with most common words.\n",
    "\n",
    "Let's start plotting an Histogram to see the rating distribution."
   ]
  },
  {
   "cell_type": "code",
   "execution_count": 12,
   "metadata": {
    "_kg_hide-input": true,
    "execution": {
     "iopub.execute_input": "2022-05-01T01:41:12.637352Z",
     "iopub.status.busy": "2022-05-01T01:41:12.637096Z",
     "iopub.status.idle": "2022-05-01T01:41:13.405522Z",
     "shell.execute_reply": "2022-05-01T01:41:13.404636Z",
     "shell.execute_reply.started": "2022-05-01T01:41:12.637325Z"
    }
   },
   "outputs": [
    {
     "data": {
      "image/svg+xml": [
       "<?xml version=\"1.0\" encoding=\"utf-8\" standalone=\"no\"?>\n",
       "<!DOCTYPE svg PUBLIC \"-//W3C//DTD SVG 1.1//EN\"\n",
       "  \"http://www.w3.org/Graphics/SVG/1.1/DTD/svg11.dtd\">\n",
       "<!-- Created with matplotlib (https://matplotlib.org/) -->\n",
       "<svg height=\"381.58625pt\" version=\"1.1\" viewBox=\"0 0 429.770625 381.58625\" width=\"429.770625pt\" xmlns=\"http://www.w3.org/2000/svg\" xmlns:xlink=\"http://www.w3.org/1999/xlink\">\n",
       " <defs>\n",
       "  <style type=\"text/css\">\n",
       "*{stroke-linecap:butt;stroke-linejoin:round;}\n",
       "  </style>\n",
       " </defs>\n",
       " <g id=\"figure_1\">\n",
       "  <g id=\"patch_1\">\n",
       "   <path d=\"M 0 381.58625 \n",
       "L 429.770625 381.58625 \n",
       "L 429.770625 0 \n",
       "L 0 0 \n",
       "z\n",
       "\" style=\"fill:#ffffff;\"/>\n",
       "  </g>\n",
       "  <g id=\"axes_1\">\n",
       "   <g id=\"patch_2\">\n",
       "    <path d=\"M 31.970625 346.606875 \n",
       "L 422.570625 346.606875 \n",
       "L 422.570625 20.446875 \n",
       "L 31.970625 20.446875 \n",
       "z\n",
       "\" style=\"fill:#eaeaf2;\"/>\n",
       "   </g>\n",
       "   <g id=\"matplotlib.axis_1\">\n",
       "    <g id=\"xtick_1\">\n",
       "     <g id=\"line2d_1\">\n",
       "      <path clip-path=\"url(#p4344c85ddd)\" d=\"M 89.179716 346.606875 \n",
       "L 89.179716 20.446875 \n",
       "\" style=\"fill:none;stroke:#ffffff;stroke-linecap:round;\"/>\n",
       "     </g>\n",
       "     <g id=\"line2d_2\"/>\n",
       "     <g id=\"text_1\">\n",
       "      <!-- 1 -->\n",
       "      <defs>\n",
       "       <path d=\"M 7.625 0 \n",
       "L 7.625 7.46875 \n",
       "L 25.140625 7.46875 \n",
       "L 25.140625 60.40625 \n",
       "L 9.625 49.3125 \n",
       "L 9.625 57.625 \n",
       "L 25.875 68.796875 \n",
       "L 33.984375 68.796875 \n",
       "L 33.984375 7.46875 \n",
       "L 50.734375 7.46875 \n",
       "L 50.734375 0 \n",
       "z\n",
       "\" id=\"LiberationSans-49\"/>\n",
       "      </defs>\n",
       "      <g style=\"fill:#262626;\" transform=\"translate(86.955341 359.404375)scale(0.08 -0.08)\">\n",
       "       <use xlink:href=\"#LiberationSans-49\"/>\n",
       "      </g>\n",
       "     </g>\n",
       "    </g>\n",
       "    <g id=\"xtick_2\">\n",
       "     <g id=\"line2d_3\">\n",
       "      <path clip-path=\"url(#p4344c85ddd)\" d=\"M 168.088807 346.606875 \n",
       "L 168.088807 20.446875 \n",
       "\" style=\"fill:none;stroke:#ffffff;stroke-linecap:round;\"/>\n",
       "     </g>\n",
       "     <g id=\"line2d_4\"/>\n",
       "     <g id=\"text_2\">\n",
       "      <!-- 2 -->\n",
       "      <defs>\n",
       "       <path d=\"M 5.03125 0 \n",
       "L 5.03125 6.203125 \n",
       "Q 7.515625 11.921875 11.109375 16.28125 \n",
       "Q 14.703125 20.65625 18.65625 24.1875 \n",
       "Q 22.609375 27.734375 26.484375 30.765625 \n",
       "Q 30.375 33.796875 33.5 36.8125 \n",
       "Q 36.625 39.84375 38.546875 43.15625 \n",
       "Q 40.484375 46.484375 40.484375 50.6875 \n",
       "Q 40.484375 53.609375 39.59375 55.828125 \n",
       "Q 38.71875 58.0625 37.0625 59.5625 \n",
       "Q 35.40625 61.078125 33.078125 61.828125 \n",
       "Q 30.765625 62.59375 27.9375 62.59375 \n",
       "Q 25.296875 62.59375 22.96875 61.859375 \n",
       "Q 20.65625 61.140625 18.84375 59.671875 \n",
       "Q 17.046875 58.203125 15.890625 56.03125 \n",
       "Q 14.75 53.859375 14.40625 50.984375 \n",
       "L 5.421875 51.8125 \n",
       "Q 5.859375 55.515625 7.46875 58.78125 \n",
       "Q 9.078125 62.0625 11.90625 64.53125 \n",
       "Q 14.75 67 18.71875 68.40625 \n",
       "Q 22.703125 69.828125 27.9375 69.828125 \n",
       "Q 33.0625 69.828125 37.0625 68.609375 \n",
       "Q 41.0625 67.390625 43.8125 64.984375 \n",
       "Q 46.578125 62.59375 48.046875 59.078125 \n",
       "Q 49.515625 55.5625 49.515625 50.984375 \n",
       "Q 49.515625 47.515625 48.265625 44.390625 \n",
       "Q 47.015625 41.265625 44.9375 38.421875 \n",
       "Q 42.875 35.59375 40.140625 32.953125 \n",
       "Q 37.40625 30.328125 34.421875 27.8125 \n",
       "Q 31.453125 25.296875 28.421875 22.828125 \n",
       "Q 25.390625 20.359375 22.71875 17.859375 \n",
       "Q 20.0625 15.375 17.96875 12.8125 \n",
       "Q 15.875 10.25 14.703125 7.46875 \n",
       "L 50.59375 7.46875 \n",
       "L 50.59375 0 \n",
       "z\n",
       "\" id=\"LiberationSans-50\"/>\n",
       "      </defs>\n",
       "      <g style=\"fill:#262626;\" transform=\"translate(165.864432 359.404375)scale(0.08 -0.08)\">\n",
       "       <use xlink:href=\"#LiberationSans-50\"/>\n",
       "      </g>\n",
       "     </g>\n",
       "    </g>\n",
       "    <g id=\"xtick_3\">\n",
       "     <g id=\"line2d_5\">\n",
       "      <path clip-path=\"url(#p4344c85ddd)\" d=\"M 246.997898 346.606875 \n",
       "L 246.997898 20.446875 \n",
       "\" style=\"fill:none;stroke:#ffffff;stroke-linecap:round;\"/>\n",
       "     </g>\n",
       "     <g id=\"line2d_6\"/>\n",
       "     <g id=\"text_3\">\n",
       "      <!-- 3 -->\n",
       "      <defs>\n",
       "       <path d=\"M 51.21875 19 \n",
       "Q 51.21875 14.265625 49.671875 10.546875 \n",
       "Q 48.140625 6.84375 45.1875 4.265625 \n",
       "Q 42.234375 1.703125 37.859375 0.359375 \n",
       "Q 33.5 -0.984375 27.875 -0.984375 \n",
       "Q 21.484375 -0.984375 17.109375 0.609375 \n",
       "Q 12.75 2.203125 9.90625 4.8125 \n",
       "Q 7.078125 7.421875 5.65625 10.765625 \n",
       "Q 4.25 14.109375 3.8125 17.671875 \n",
       "L 12.890625 18.5 \n",
       "Q 13.28125 15.765625 14.328125 13.515625 \n",
       "Q 15.375 11.28125 17.1875 9.671875 \n",
       "Q 19 8.0625 21.625 7.171875 \n",
       "Q 24.265625 6.296875 27.875 6.296875 \n",
       "Q 34.515625 6.296875 38.296875 9.5625 \n",
       "Q 42.09375 12.84375 42.09375 19.28125 \n",
       "Q 42.09375 23.09375 40.40625 25.40625 \n",
       "Q 38.71875 27.734375 36.203125 29.03125 \n",
       "Q 33.6875 30.328125 30.734375 30.765625 \n",
       "Q 27.78125 31.203125 25.296875 31.203125 \n",
       "L 20.3125 31.203125 \n",
       "L 20.3125 38.8125 \n",
       "L 25.09375 38.8125 \n",
       "Q 27.59375 38.8125 30.265625 39.328125 \n",
       "Q 32.953125 39.84375 35.171875 41.1875 \n",
       "Q 37.40625 42.53125 38.84375 44.828125 \n",
       "Q 40.28125 47.125 40.28125 50.6875 \n",
       "Q 40.28125 56.203125 37.03125 59.390625 \n",
       "Q 33.796875 62.59375 27.390625 62.59375 \n",
       "Q 21.578125 62.59375 17.984375 59.609375 \n",
       "Q 14.40625 56.640625 13.8125 51.21875 \n",
       "L 4.984375 51.90625 \n",
       "Q 5.515625 56.453125 7.46875 59.8125 \n",
       "Q 9.421875 63.1875 12.421875 65.40625 \n",
       "Q 15.4375 67.625 19.28125 68.71875 \n",
       "Q 23.140625 69.828125 27.484375 69.828125 \n",
       "Q 33.25 69.828125 37.390625 68.375 \n",
       "Q 41.546875 66.9375 44.1875 64.46875 \n",
       "Q 46.828125 62.015625 48.0625 58.6875 \n",
       "Q 49.3125 55.375 49.3125 51.609375 \n",
       "Q 49.3125 48.578125 48.484375 45.9375 \n",
       "Q 47.65625 43.3125 45.890625 41.203125 \n",
       "Q 44.140625 39.109375 41.421875 37.59375 \n",
       "Q 38.71875 36.078125 34.90625 35.296875 \n",
       "L 34.90625 35.109375 \n",
       "Q 39.0625 34.671875 42.140625 33.21875 \n",
       "Q 45.21875 31.78125 47.21875 29.625 \n",
       "Q 49.21875 27.484375 50.21875 24.75 \n",
       "Q 51.21875 22.015625 51.21875 19 \n",
       "z\n",
       "\" id=\"LiberationSans-51\"/>\n",
       "      </defs>\n",
       "      <g style=\"fill:#262626;\" transform=\"translate(244.773523 359.404375)scale(0.08 -0.08)\">\n",
       "       <use xlink:href=\"#LiberationSans-51\"/>\n",
       "      </g>\n",
       "     </g>\n",
       "    </g>\n",
       "    <g id=\"xtick_4\">\n",
       "     <g id=\"line2d_7\">\n",
       "      <path clip-path=\"url(#p4344c85ddd)\" d=\"M 325.906989 346.606875 \n",
       "L 325.906989 20.446875 \n",
       "\" style=\"fill:none;stroke:#ffffff;stroke-linecap:round;\"/>\n",
       "     </g>\n",
       "     <g id=\"line2d_8\"/>\n",
       "     <g id=\"text_4\">\n",
       "      <!-- 4 -->\n",
       "      <defs>\n",
       "       <path d=\"M 43.015625 15.578125 \n",
       "L 43.015625 0 \n",
       "L 34.71875 0 \n",
       "L 34.71875 15.578125 \n",
       "L 2.296875 15.578125 \n",
       "L 2.296875 22.40625 \n",
       "L 33.796875 68.796875 \n",
       "L 43.015625 68.796875 \n",
       "L 43.015625 22.515625 \n",
       "L 52.6875 22.515625 \n",
       "L 52.6875 15.578125 \n",
       "z\n",
       "M 34.71875 58.890625 \n",
       "Q 34.625 58.640625 34.234375 57.9375 \n",
       "Q 33.84375 57.234375 33.34375 56.34375 \n",
       "Q 32.859375 55.46875 32.34375 54.5625 \n",
       "Q 31.84375 53.65625 31.453125 53.078125 \n",
       "L 13.8125 27.09375 \n",
       "Q 13.578125 26.703125 13.109375 26.0625 \n",
       "Q 12.640625 25.4375 12.15625 24.78125 \n",
       "Q 11.671875 24.125 11.171875 23.484375 \n",
       "Q 10.6875 22.859375 10.40625 22.515625 \n",
       "L 34.71875 22.515625 \n",
       "z\n",
       "\" id=\"LiberationSans-52\"/>\n",
       "      </defs>\n",
       "      <g style=\"fill:#262626;\" transform=\"translate(323.682614 359.404375)scale(0.08 -0.08)\">\n",
       "       <use xlink:href=\"#LiberationSans-52\"/>\n",
       "      </g>\n",
       "     </g>\n",
       "    </g>\n",
       "    <g id=\"xtick_5\">\n",
       "     <g id=\"line2d_9\">\n",
       "      <path clip-path=\"url(#p4344c85ddd)\" d=\"M 404.81608 346.606875 \n",
       "L 404.81608 20.446875 \n",
       "\" style=\"fill:none;stroke:#ffffff;stroke-linecap:round;\"/>\n",
       "     </g>\n",
       "     <g id=\"line2d_10\"/>\n",
       "     <g id=\"text_5\">\n",
       "      <!-- 5 -->\n",
       "      <defs>\n",
       "       <path d=\"M 51.421875 22.40625 \n",
       "Q 51.421875 17.234375 49.859375 12.9375 \n",
       "Q 48.296875 8.640625 45.21875 5.53125 \n",
       "Q 42.140625 2.4375 37.578125 0.71875 \n",
       "Q 33.015625 -0.984375 27 -0.984375 \n",
       "Q 21.578125 -0.984375 17.546875 0.28125 \n",
       "Q 13.53125 1.5625 10.734375 3.78125 \n",
       "Q 7.953125 6 6.3125 8.984375 \n",
       "Q 4.6875 11.96875 4 15.375 \n",
       "L 12.890625 16.40625 \n",
       "Q 13.421875 14.453125 14.390625 12.625 \n",
       "Q 15.375 10.796875 17.0625 9.34375 \n",
       "Q 18.75 7.90625 21.21875 7.046875 \n",
       "Q 23.6875 6.203125 27.203125 6.203125 \n",
       "Q 30.609375 6.203125 33.390625 7.25 \n",
       "Q 36.1875 8.296875 38.15625 10.34375 \n",
       "Q 40.140625 12.40625 41.203125 15.375 \n",
       "Q 42.28125 18.359375 42.28125 22.21875 \n",
       "Q 42.28125 25.390625 41.25 28.046875 \n",
       "Q 40.234375 30.71875 38.328125 32.640625 \n",
       "Q 36.421875 34.578125 33.65625 35.640625 \n",
       "Q 30.90625 36.71875 27.390625 36.71875 \n",
       "Q 25.203125 36.71875 23.34375 36.328125 \n",
       "Q 21.484375 35.9375 19.890625 35.25 \n",
       "Q 18.3125 34.578125 17.015625 33.671875 \n",
       "Q 15.71875 32.765625 14.59375 31.78125 \n",
       "L 6 31.78125 \n",
       "L 8.296875 68.796875 \n",
       "L 47.40625 68.796875 \n",
       "L 47.40625 61.328125 \n",
       "L 16.3125 61.328125 \n",
       "L 14.984375 39.5 \n",
       "Q 17.328125 41.3125 20.84375 42.59375 \n",
       "Q 24.359375 43.890625 29.203125 43.890625 \n",
       "Q 34.328125 43.890625 38.421875 42.328125 \n",
       "Q 42.53125 40.765625 45.40625 37.90625 \n",
       "Q 48.296875 35.0625 49.859375 31.109375 \n",
       "Q 51.421875 27.15625 51.421875 22.40625 \n",
       "z\n",
       "\" id=\"LiberationSans-53\"/>\n",
       "      </defs>\n",
       "      <g style=\"fill:#262626;\" transform=\"translate(402.591705 359.404375)scale(0.08 -0.08)\">\n",
       "       <use xlink:href=\"#LiberationSans-53\"/>\n",
       "      </g>\n",
       "     </g>\n",
       "    </g>\n",
       "    <g id=\"text_6\">\n",
       "     <!-- Rating -->\n",
       "     <defs>\n",
       "      <path d=\"M 56.84375 0 \n",
       "L 38.96875 28.5625 \n",
       "L 17.53125 28.5625 \n",
       "L 17.53125 0 \n",
       "L 8.203125 0 \n",
       "L 8.203125 68.796875 \n",
       "L 40.578125 68.796875 \n",
       "Q 46.4375 68.796875 50.953125 67.453125 \n",
       "Q 55.46875 66.109375 58.546875 63.5625 \n",
       "Q 61.625 61.03125 63.234375 57.375 \n",
       "Q 64.84375 53.71875 64.84375 49.125 \n",
       "Q 64.84375 45.84375 63.890625 42.671875 \n",
       "Q 62.9375 39.5 60.890625 36.859375 \n",
       "Q 58.84375 34.234375 55.65625 32.328125 \n",
       "Q 52.484375 30.421875 48.046875 29.640625 \n",
       "L 67.578125 0 \n",
       "z\n",
       "M 55.46875 49.03125 \n",
       "Q 55.46875 52.15625 54.390625 54.4375 \n",
       "Q 53.328125 56.734375 51.265625 58.265625 \n",
       "Q 49.21875 59.8125 46.28125 60.5625 \n",
       "Q 43.359375 61.328125 39.65625 61.328125 \n",
       "L 17.53125 61.328125 \n",
       "L 17.53125 35.9375 \n",
       "L 40.046875 35.9375 \n",
       "Q 44.046875 35.9375 46.96875 36.9375 \n",
       "Q 49.90625 37.9375 51.78125 39.6875 \n",
       "Q 53.65625 41.453125 54.5625 43.84375 \n",
       "Q 55.46875 46.234375 55.46875 49.03125 \n",
       "z\n",
       "\" id=\"LiberationSans-82\"/>\n",
       "      <path d=\"M 20.21875 -0.984375 \n",
       "Q 12.25 -0.984375 8.25 3.21875 \n",
       "Q 4.25 7.421875 4.25 14.75 \n",
       "Q 4.25 19.96875 6.21875 23.3125 \n",
       "Q 8.203125 26.65625 11.390625 28.5625 \n",
       "Q 14.59375 30.46875 18.6875 31.203125 \n",
       "Q 22.796875 31.9375 27.046875 32.03125 \n",
       "L 38.921875 32.234375 \n",
       "L 38.921875 35.109375 \n",
       "Q 38.921875 38.375 38.234375 40.671875 \n",
       "Q 37.546875 42.96875 36.125 44.375 \n",
       "Q 34.71875 45.796875 32.59375 46.453125 \n",
       "Q 30.46875 47.125 27.59375 47.125 \n",
       "Q 25.046875 47.125 23 46.75 \n",
       "Q 20.953125 46.390625 19.4375 45.4375 \n",
       "Q 17.921875 44.484375 16.984375 42.84375 \n",
       "Q 16.0625 41.21875 15.765625 38.71875 \n",
       "L 6.59375 39.546875 \n",
       "Q 7.078125 42.671875 8.4375 45.28125 \n",
       "Q 9.8125 47.90625 12.328125 49.796875 \n",
       "Q 14.84375 51.703125 18.625 52.75 \n",
       "Q 22.40625 53.8125 27.78125 53.8125 \n",
       "Q 37.75 53.8125 42.765625 49.234375 \n",
       "Q 47.796875 44.671875 47.796875 36.03125 \n",
       "L 47.796875 13.28125 \n",
       "Q 47.796875 9.375 48.828125 7.390625 \n",
       "Q 49.859375 5.421875 52.734375 5.421875 \n",
       "Q 53.46875 5.421875 54.203125 5.515625 \n",
       "Q 54.9375 5.609375 55.609375 5.765625 \n",
       "L 55.609375 0.296875 \n",
       "Q 53.953125 -0.09375 52.3125 -0.28125 \n",
       "Q 50.6875 -0.484375 48.828125 -0.484375 \n",
       "Q 46.34375 -0.484375 44.5625 0.171875 \n",
       "Q 42.78125 0.828125 41.65625 2.171875 \n",
       "Q 40.53125 3.515625 39.9375 5.484375 \n",
       "Q 39.359375 7.46875 39.203125 10.109375 \n",
       "L 38.921875 10.109375 \n",
       "Q 37.5 7.5625 35.8125 5.515625 \n",
       "Q 34.125 3.46875 31.875 2.03125 \n",
       "Q 29.640625 0.59375 26.78125 -0.1875 \n",
       "Q 23.921875 -0.984375 20.21875 -0.984375 \n",
       "z\n",
       "M 22.21875 5.609375 \n",
       "Q 26.421875 5.609375 29.5625 7.140625 \n",
       "Q 32.71875 8.6875 34.78125 11.078125 \n",
       "Q 36.859375 13.484375 37.890625 16.3125 \n",
       "Q 38.921875 19.140625 38.921875 21.734375 \n",
       "L 38.921875 26.078125 \n",
       "L 29.296875 25.875 \n",
       "Q 26.078125 25.828125 23.171875 25.40625 \n",
       "Q 20.265625 25 18.0625 23.78125 \n",
       "Q 15.875 22.5625 14.578125 20.359375 \n",
       "Q 13.28125 18.171875 13.28125 14.59375 \n",
       "Q 13.28125 10.296875 15.59375 7.953125 \n",
       "Q 17.921875 5.609375 22.21875 5.609375 \n",
       "z\n",
       "\" id=\"LiberationSans-97\"/>\n",
       "      <path d=\"M 27.046875 0.390625 \n",
       "Q 25.046875 -0.140625 22.96875 -0.453125 \n",
       "Q 20.90625 -0.78125 18.171875 -0.78125 \n",
       "Q 7.625 -0.78125 7.625 11.1875 \n",
       "L 7.625 46.4375 \n",
       "L 1.515625 46.4375 \n",
       "L 1.515625 52.828125 \n",
       "L 7.953125 52.828125 \n",
       "L 10.546875 64.65625 \n",
       "L 16.40625 64.65625 \n",
       "L 16.40625 52.828125 \n",
       "L 26.171875 52.828125 \n",
       "L 26.171875 46.4375 \n",
       "L 16.40625 46.4375 \n",
       "L 16.40625 13.09375 \n",
       "Q 16.40625 9.28125 17.640625 7.734375 \n",
       "Q 18.890625 6.203125 21.96875 6.203125 \n",
       "Q 23.25 6.203125 24.4375 6.390625 \n",
       "Q 25.640625 6.59375 27.046875 6.890625 \n",
       "z\n",
       "\" id=\"LiberationSans-116\"/>\n",
       "      <path d=\"M 6.6875 64.0625 \n",
       "L 6.6875 72.46875 \n",
       "L 15.484375 72.46875 \n",
       "L 15.484375 64.0625 \n",
       "z\n",
       "M 6.6875 0 \n",
       "L 6.6875 52.828125 \n",
       "L 15.484375 52.828125 \n",
       "L 15.484375 0 \n",
       "z\n",
       "\" id=\"LiberationSans-105\"/>\n",
       "      <path d=\"M 40.28125 0 \n",
       "L 40.28125 33.5 \n",
       "Q 40.28125 37.359375 39.71875 39.9375 \n",
       "Q 39.15625 42.53125 37.890625 44.109375 \n",
       "Q 36.625 45.703125 34.546875 46.359375 \n",
       "Q 32.46875 47.015625 29.390625 47.015625 \n",
       "Q 26.265625 47.015625 23.75 45.921875 \n",
       "Q 21.234375 44.828125 19.453125 42.75 \n",
       "Q 17.671875 40.671875 16.6875 37.625 \n",
       "Q 15.71875 34.578125 15.71875 30.609375 \n",
       "L 15.71875 0 \n",
       "L 6.9375 0 \n",
       "L 6.9375 41.546875 \n",
       "Q 6.9375 43.21875 6.90625 45.046875 \n",
       "Q 6.890625 46.875 6.828125 48.5 \n",
       "Q 6.78125 50.140625 6.734375 51.3125 \n",
       "Q 6.6875 52.484375 6.640625 52.828125 \n",
       "L 14.9375 52.828125 \n",
       "Q 14.984375 52.59375 15.03125 51.515625 \n",
       "Q 15.09375 50.4375 15.15625 49.046875 \n",
       "Q 15.234375 47.65625 15.28125 46.21875 \n",
       "Q 15.328125 44.78125 15.328125 43.796875 \n",
       "L 15.484375 43.796875 \n",
       "Q 16.75 46.09375 18.265625 47.953125 \n",
       "Q 19.78125 49.8125 21.78125 51.09375 \n",
       "Q 23.78125 52.390625 26.359375 53.09375 \n",
       "Q 28.953125 53.8125 32.375 53.8125 \n",
       "Q 36.765625 53.8125 39.9375 52.734375 \n",
       "Q 43.109375 51.65625 45.15625 49.40625 \n",
       "Q 47.21875 47.171875 48.171875 43.625 \n",
       "Q 49.125 40.09375 49.125 35.203125 \n",
       "L 49.125 0 \n",
       "z\n",
       "\" id=\"LiberationSans-110\"/>\n",
       "      <path d=\"M 26.765625 -20.75 \n",
       "Q 22.21875 -20.75 18.703125 -19.8125 \n",
       "Q 15.1875 -18.890625 12.6875 -17.15625 \n",
       "Q 10.203125 -15.4375 8.640625 -13.03125 \n",
       "Q 7.078125 -10.640625 6.390625 -7.71875 \n",
       "L 15.234375 -6.453125 \n",
       "Q 16.109375 -10.109375 19.109375 -12.078125 \n",
       "Q 22.125 -14.0625 27 -14.0625 \n",
       "Q 29.984375 -14.0625 32.421875 -13.234375 \n",
       "Q 34.859375 -12.40625 36.5625 -10.5625 \n",
       "Q 38.28125 -8.734375 39.203125 -5.796875 \n",
       "Q 40.140625 -2.875 40.140625 1.3125 \n",
       "L 40.140625 9.8125 \n",
       "L 40.046875 9.8125 \n",
       "Q 39.0625 7.8125 37.625 5.984375 \n",
       "Q 36.1875 4.15625 34.109375 2.734375 \n",
       "Q 32.03125 1.3125 29.296875 0.453125 \n",
       "Q 26.5625 -0.390625 23.046875 -0.390625 \n",
       "Q 18.015625 -0.390625 14.421875 1.296875 \n",
       "Q 10.84375 2.984375 8.5625 6.34375 \n",
       "Q 6.296875 9.71875 5.25 14.71875 \n",
       "Q 4.203125 19.734375 4.203125 26.3125 \n",
       "Q 4.203125 32.671875 5.25 37.75 \n",
       "Q 6.296875 42.828125 8.65625 46.359375 \n",
       "Q 11.03125 49.90625 14.8125 51.78125 \n",
       "Q 18.609375 53.65625 24.03125 53.65625 \n",
       "Q 29.640625 53.65625 33.765625 51.09375 \n",
       "Q 37.890625 48.53125 40.140625 43.796875 \n",
       "L 40.234375 43.796875 \n",
       "Q 40.234375 45.015625 40.296875 46.53125 \n",
       "Q 40.375 48.046875 40.453125 49.390625 \n",
       "Q 40.53125 50.734375 40.625 51.703125 \n",
       "Q 40.71875 52.6875 40.828125 52.828125 \n",
       "L 49.171875 52.828125 \n",
       "Q 49.125 52.390625 49.078125 51.34375 \n",
       "Q 49.03125 50.296875 48.96875 48.828125 \n",
       "Q 48.921875 47.359375 48.890625 45.578125 \n",
       "Q 48.875 43.796875 48.875 41.890625 \n",
       "L 48.875 1.515625 \n",
       "Q 48.875 -9.578125 43.421875 -15.15625 \n",
       "Q 37.984375 -20.75 26.765625 -20.75 \n",
       "z\n",
       "M 40.140625 26.421875 \n",
       "Q 40.140625 31.9375 38.9375 35.859375 \n",
       "Q 37.75 39.796875 35.796875 42.28125 \n",
       "Q 33.84375 44.78125 31.328125 45.953125 \n",
       "Q 28.8125 47.125 26.171875 47.125 \n",
       "Q 22.796875 47.125 20.375 45.953125 \n",
       "Q 17.96875 44.78125 16.375 42.265625 \n",
       "Q 14.796875 39.75 14.03125 35.8125 \n",
       "Q 13.28125 31.890625 13.28125 26.421875 \n",
       "Q 13.28125 20.703125 14.03125 16.8125 \n",
       "Q 14.796875 12.9375 16.359375 10.546875 \n",
       "Q 17.921875 8.15625 20.3125 7.125 \n",
       "Q 22.703125 6.109375 26.03125 6.109375 \n",
       "Q 28.65625 6.109375 31.171875 7.21875 \n",
       "Q 33.6875 8.34375 35.6875 10.78125 \n",
       "Q 37.703125 13.234375 38.921875 17.09375 \n",
       "Q 40.140625 20.953125 40.140625 26.421875 \n",
       "z\n",
       "\" id=\"LiberationSans-103\"/>\n",
       "     </defs>\n",
       "     <g style=\"fill:#262626;\" transform=\"translate(212.818281 372.31125)scale(0.1 -0.1)\">\n",
       "      <use xlink:href=\"#LiberationSans-82\"/>\n",
       "      <use x=\"72.216797\" xlink:href=\"#LiberationSans-97\"/>\n",
       "      <use x=\"127.832031\" xlink:href=\"#LiberationSans-116\"/>\n",
       "      <use x=\"155.615234\" xlink:href=\"#LiberationSans-105\"/>\n",
       "      <use x=\"177.832031\" xlink:href=\"#LiberationSans-110\"/>\n",
       "      <use x=\"233.447266\" xlink:href=\"#LiberationSans-103\"/>\n",
       "     </g>\n",
       "    </g>\n",
       "   </g>\n",
       "   <g id=\"matplotlib.axis_2\">\n",
       "    <g id=\"ytick_1\">\n",
       "     <g id=\"line2d_11\">\n",
       "      <path clip-path=\"url(#p4344c85ddd)\" d=\"M 31.970625 346.606875 \n",
       "L 422.570625 346.606875 \n",
       "\" style=\"fill:none;stroke:#ffffff;stroke-linecap:round;\"/>\n",
       "     </g>\n",
       "     <g id=\"line2d_12\"/>\n",
       "     <g id=\"text_7\">\n",
       "      <!-- 0 -->\n",
       "      <defs>\n",
       "       <path d=\"M 51.703125 34.421875 \n",
       "Q 51.703125 24.515625 49.828125 17.75 \n",
       "Q 47.953125 10.984375 44.703125 6.8125 \n",
       "Q 41.453125 2.640625 37.0625 0.828125 \n",
       "Q 32.671875 -0.984375 27.6875 -0.984375 \n",
       "Q 22.65625 -0.984375 18.3125 0.828125 \n",
       "Q 13.96875 2.640625 10.765625 6.78125 \n",
       "Q 7.5625 10.9375 5.734375 17.703125 \n",
       "Q 3.90625 24.46875 3.90625 34.421875 \n",
       "Q 3.90625 44.828125 5.734375 51.640625 \n",
       "Q 7.5625 58.453125 10.78125 62.5 \n",
       "Q 14.015625 66.546875 18.40625 68.1875 \n",
       "Q 22.796875 69.828125 27.984375 69.828125 \n",
       "Q 32.90625 69.828125 37.21875 68.1875 \n",
       "Q 41.546875 66.546875 44.765625 62.5 \n",
       "Q 48 58.453125 49.84375 51.640625 \n",
       "Q 51.703125 44.828125 51.703125 34.421875 \n",
       "z\n",
       "M 42.78125 34.421875 \n",
       "Q 42.78125 42.625 41.796875 48.0625 \n",
       "Q 40.828125 53.515625 38.921875 56.765625 \n",
       "Q 37.015625 60.015625 34.25 61.359375 \n",
       "Q 31.5 62.703125 27.984375 62.703125 \n",
       "Q 24.265625 62.703125 21.4375 61.328125 \n",
       "Q 18.609375 59.96875 16.671875 56.71875 \n",
       "Q 14.75 53.46875 13.765625 48.015625 \n",
       "Q 12.796875 42.578125 12.796875 34.421875 \n",
       "Q 12.796875 26.515625 13.796875 21.09375 \n",
       "Q 14.796875 15.671875 16.71875 12.375 \n",
       "Q 18.65625 9.078125 21.4375 7.640625 \n",
       "Q 24.21875 6.203125 27.78125 6.203125 \n",
       "Q 31.25 6.203125 34.03125 7.640625 \n",
       "Q 36.8125 9.078125 38.734375 12.375 \n",
       "Q 40.671875 15.671875 41.71875 21.09375 \n",
       "Q 42.78125 26.515625 42.78125 34.421875 \n",
       "z\n",
       "\" id=\"LiberationSans-48\"/>\n",
       "      </defs>\n",
       "      <g style=\"fill:#262626;\" transform=\"translate(20.521875 349.505625)scale(0.08 -0.08)\">\n",
       "       <use xlink:href=\"#LiberationSans-48\"/>\n",
       "      </g>\n",
       "     </g>\n",
       "    </g>\n",
       "    <g id=\"ytick_2\">\n",
       "     <g id=\"line2d_13\">\n",
       "      <path clip-path=\"url(#p4344c85ddd)\" d=\"M 31.970625 302.223769 \n",
       "L 422.570625 302.223769 \n",
       "\" style=\"fill:none;stroke:#ffffff;stroke-linecap:round;\"/>\n",
       "     </g>\n",
       "     <g id=\"line2d_14\"/>\n",
       "     <g id=\"text_8\">\n",
       "      <!-- 1 -->\n",
       "      <g style=\"fill:#262626;\" transform=\"translate(20.521875 305.122519)scale(0.08 -0.08)\">\n",
       "       <use xlink:href=\"#LiberationSans-49\"/>\n",
       "      </g>\n",
       "     </g>\n",
       "    </g>\n",
       "    <g id=\"ytick_3\">\n",
       "     <g id=\"line2d_15\">\n",
       "      <path clip-path=\"url(#p4344c85ddd)\" d=\"M 31.970625 257.840663 \n",
       "L 422.570625 257.840663 \n",
       "\" style=\"fill:none;stroke:#ffffff;stroke-linecap:round;\"/>\n",
       "     </g>\n",
       "     <g id=\"line2d_16\"/>\n",
       "     <g id=\"text_9\">\n",
       "      <!-- 2 -->\n",
       "      <g style=\"fill:#262626;\" transform=\"translate(20.521875 260.739413)scale(0.08 -0.08)\">\n",
       "       <use xlink:href=\"#LiberationSans-50\"/>\n",
       "      </g>\n",
       "     </g>\n",
       "    </g>\n",
       "    <g id=\"ytick_4\">\n",
       "     <g id=\"line2d_17\">\n",
       "      <path clip-path=\"url(#p4344c85ddd)\" d=\"M 31.970625 213.457557 \n",
       "L 422.570625 213.457557 \n",
       "\" style=\"fill:none;stroke:#ffffff;stroke-linecap:round;\"/>\n",
       "     </g>\n",
       "     <g id=\"line2d_18\"/>\n",
       "     <g id=\"text_10\">\n",
       "      <!-- 3 -->\n",
       "      <g style=\"fill:#262626;\" transform=\"translate(20.521875 216.356307)scale(0.08 -0.08)\">\n",
       "       <use xlink:href=\"#LiberationSans-51\"/>\n",
       "      </g>\n",
       "     </g>\n",
       "    </g>\n",
       "    <g id=\"ytick_5\">\n",
       "     <g id=\"line2d_19\">\n",
       "      <path clip-path=\"url(#p4344c85ddd)\" d=\"M 31.970625 169.074451 \n",
       "L 422.570625 169.074451 \n",
       "\" style=\"fill:none;stroke:#ffffff;stroke-linecap:round;\"/>\n",
       "     </g>\n",
       "     <g id=\"line2d_20\"/>\n",
       "     <g id=\"text_11\">\n",
       "      <!-- 4 -->\n",
       "      <g style=\"fill:#262626;\" transform=\"translate(20.521875 171.973201)scale(0.08 -0.08)\">\n",
       "       <use xlink:href=\"#LiberationSans-52\"/>\n",
       "      </g>\n",
       "     </g>\n",
       "    </g>\n",
       "    <g id=\"ytick_6\">\n",
       "     <g id=\"line2d_21\">\n",
       "      <path clip-path=\"url(#p4344c85ddd)\" d=\"M 31.970625 124.691345 \n",
       "L 422.570625 124.691345 \n",
       "\" style=\"fill:none;stroke:#ffffff;stroke-linecap:round;\"/>\n",
       "     </g>\n",
       "     <g id=\"line2d_22\"/>\n",
       "     <g id=\"text_12\">\n",
       "      <!-- 5 -->\n",
       "      <g style=\"fill:#262626;\" transform=\"translate(20.521875 127.590095)scale(0.08 -0.08)\">\n",
       "       <use xlink:href=\"#LiberationSans-53\"/>\n",
       "      </g>\n",
       "     </g>\n",
       "    </g>\n",
       "    <g id=\"ytick_7\">\n",
       "     <g id=\"line2d_23\">\n",
       "      <path clip-path=\"url(#p4344c85ddd)\" d=\"M 31.970625 80.308239 \n",
       "L 422.570625 80.308239 \n",
       "\" style=\"fill:none;stroke:#ffffff;stroke-linecap:round;\"/>\n",
       "     </g>\n",
       "     <g id=\"line2d_24\"/>\n",
       "     <g id=\"text_13\">\n",
       "      <!-- 6 -->\n",
       "      <defs>\n",
       "       <path d=\"M 51.21875 22.515625 \n",
       "Q 51.21875 17.328125 49.78125 13 \n",
       "Q 48.34375 8.6875 45.53125 5.578125 \n",
       "Q 42.71875 2.484375 38.5625 0.75 \n",
       "Q 34.421875 -0.984375 29 -0.984375 \n",
       "Q 23 -0.984375 18.5 1.3125 \n",
       "Q 14.015625 3.609375 11.03125 7.921875 \n",
       "Q 8.0625 12.25 6.5625 18.53125 \n",
       "Q 5.078125 24.8125 5.078125 32.8125 \n",
       "Q 5.078125 42 6.765625 48.921875 \n",
       "Q 8.453125 55.859375 11.625 60.5 \n",
       "Q 14.796875 65.140625 19.359375 67.484375 \n",
       "Q 23.921875 69.828125 29.6875 69.828125 \n",
       "Q 33.203125 69.828125 36.28125 69.09375 \n",
       "Q 39.359375 68.359375 41.875 66.71875 \n",
       "Q 44.390625 65.09375 46.28125 62.40625 \n",
       "Q 48.1875 59.71875 49.3125 55.8125 \n",
       "L 40.921875 54.296875 \n",
       "Q 39.546875 58.734375 36.546875 60.71875 \n",
       "Q 33.546875 62.703125 29.59375 62.703125 \n",
       "Q 25.984375 62.703125 23.046875 60.984375 \n",
       "Q 20.125 59.28125 18.0625 55.875 \n",
       "Q 16.015625 52.484375 14.90625 47.359375 \n",
       "Q 13.8125 42.234375 13.8125 35.40625 \n",
       "Q 16.21875 39.84375 20.5625 42.15625 \n",
       "Q 24.90625 44.484375 30.515625 44.484375 \n",
       "Q 35.203125 44.484375 39.015625 42.96875 \n",
       "Q 42.828125 41.453125 45.53125 38.59375 \n",
       "Q 48.25 35.75 49.734375 31.671875 \n",
       "Q 51.21875 27.59375 51.21875 22.515625 \n",
       "z\n",
       "M 42.28125 22.125 \n",
       "Q 42.28125 25.6875 41.40625 28.5625 \n",
       "Q 40.53125 31.453125 38.765625 33.46875 \n",
       "Q 37.015625 35.5 34.421875 36.59375 \n",
       "Q 31.84375 37.703125 28.421875 37.703125 \n",
       "Q 26.03125 37.703125 23.578125 36.984375 \n",
       "Q 21.140625 36.28125 19.15625 34.6875 \n",
       "Q 17.1875 33.109375 15.9375 30.515625 \n",
       "Q 14.703125 27.9375 14.703125 24.21875 \n",
       "Q 14.703125 20.40625 15.671875 17.109375 \n",
       "Q 16.65625 13.8125 18.484375 11.375 \n",
       "Q 20.3125 8.9375 22.890625 7.515625 \n",
       "Q 25.484375 6.109375 28.71875 6.109375 \n",
       "Q 31.890625 6.109375 34.40625 7.203125 \n",
       "Q 36.921875 8.296875 38.671875 10.375 \n",
       "Q 40.4375 12.453125 41.359375 15.421875 \n",
       "Q 42.28125 18.40625 42.28125 22.125 \n",
       "z\n",
       "\" id=\"LiberationSans-54\"/>\n",
       "      </defs>\n",
       "      <g style=\"fill:#262626;\" transform=\"translate(20.521875 83.206989)scale(0.08 -0.08)\">\n",
       "       <use xlink:href=\"#LiberationSans-54\"/>\n",
       "      </g>\n",
       "     </g>\n",
       "    </g>\n",
       "    <g id=\"ytick_8\">\n",
       "     <g id=\"line2d_25\">\n",
       "      <path clip-path=\"url(#p4344c85ddd)\" d=\"M 31.970625 35.925133 \n",
       "L 422.570625 35.925133 \n",
       "\" style=\"fill:none;stroke:#ffffff;stroke-linecap:round;\"/>\n",
       "     </g>\n",
       "     <g id=\"line2d_26\"/>\n",
       "     <g id=\"text_14\">\n",
       "      <!-- 7 -->\n",
       "      <defs>\n",
       "       <path d=\"M 50.59375 61.671875 \n",
       "Q 45.40625 53.765625 41.0625 46.453125 \n",
       "Q 36.71875 39.15625 33.59375 31.75 \n",
       "Q 30.46875 24.359375 28.734375 16.578125 \n",
       "Q 27 8.796875 27 0 \n",
       "L 17.828125 0 \n",
       "Q 17.828125 8.25 19.78125 16.1875 \n",
       "Q 21.734375 24.125 25.046875 31.765625 \n",
       "Q 28.375 39.40625 32.765625 46.78125 \n",
       "Q 37.15625 54.15625 42.09375 61.328125 \n",
       "L 5.125 61.328125 \n",
       "L 5.125 68.796875 \n",
       "L 50.59375 68.796875 \n",
       "z\n",
       "\" id=\"LiberationSans-55\"/>\n",
       "      </defs>\n",
       "      <g style=\"fill:#262626;\" transform=\"translate(20.521875 38.823883)scale(0.08 -0.08)\">\n",
       "       <use xlink:href=\"#LiberationSans-55\"/>\n",
       "      </g>\n",
       "     </g>\n",
       "    </g>\n",
       "    <g id=\"text_15\">\n",
       "     <!-- Frequency -->\n",
       "     <defs>\n",
       "      <path d=\"M 17.53125 61.1875 \n",
       "L 17.53125 35.59375 \n",
       "L 55.90625 35.59375 \n",
       "L 55.90625 27.875 \n",
       "L 17.53125 27.875 \n",
       "L 17.53125 0 \n",
       "L 8.203125 0 \n",
       "L 8.203125 68.796875 \n",
       "L 57.078125 68.796875 \n",
       "L 57.078125 61.1875 \n",
       "z\n",
       "\" id=\"LiberationSans-70\"/>\n",
       "      <path d=\"M 6.9375 0 \n",
       "L 6.9375 40.53125 \n",
       "Q 6.9375 42.1875 6.90625 43.921875 \n",
       "Q 6.890625 45.65625 6.828125 47.265625 \n",
       "Q 6.78125 48.875 6.734375 50.28125 \n",
       "Q 6.6875 51.703125 6.640625 52.828125 \n",
       "L 14.9375 52.828125 \n",
       "Q 14.984375 51.703125 15.0625 50.265625 \n",
       "Q 15.140625 48.828125 15.203125 47.3125 \n",
       "Q 15.28125 45.796875 15.296875 44.40625 \n",
       "Q 15.328125 43.015625 15.328125 42.046875 \n",
       "L 15.53125 42.046875 \n",
       "Q 16.453125 45.0625 17.5 47.28125 \n",
       "Q 18.5625 49.515625 19.96875 50.953125 \n",
       "Q 21.390625 52.390625 23.34375 53.09375 \n",
       "Q 25.296875 53.8125 28.078125 53.8125 \n",
       "Q 29.15625 53.8125 30.125 53.640625 \n",
       "Q 31.109375 53.46875 31.640625 53.328125 \n",
       "L 31.640625 45.265625 \n",
       "Q 30.765625 45.515625 29.59375 45.625 \n",
       "Q 28.421875 45.75 26.953125 45.75 \n",
       "Q 23.921875 45.75 21.796875 44.375 \n",
       "Q 19.671875 43.015625 18.328125 40.59375 \n",
       "Q 17 38.1875 16.359375 34.84375 \n",
       "Q 15.71875 31.5 15.71875 27.546875 \n",
       "L 15.71875 0 \n",
       "z\n",
       "\" id=\"LiberationSans-114\"/>\n",
       "      <path d=\"M 13.484375 24.5625 \n",
       "Q 13.484375 20.40625 14.328125 16.90625 \n",
       "Q 15.1875 13.421875 16.96875 10.90625 \n",
       "Q 18.75 8.40625 21.53125 7 \n",
       "Q 24.3125 5.609375 28.21875 5.609375 \n",
       "Q 33.9375 5.609375 37.375 7.90625 \n",
       "Q 40.828125 10.203125 42.046875 13.71875 \n",
       "L 49.75 11.53125 \n",
       "Q 48.921875 9.328125 47.4375 7.109375 \n",
       "Q 45.953125 4.890625 43.453125 3.09375 \n",
       "Q 40.96875 1.3125 37.234375 0.15625 \n",
       "Q 33.5 -0.984375 28.21875 -0.984375 \n",
       "Q 16.5 -0.984375 10.375 6 \n",
       "Q 4.25 12.984375 4.25 26.765625 \n",
       "Q 4.25 34.1875 6.09375 39.328125 \n",
       "Q 7.953125 44.484375 11.171875 47.703125 \n",
       "Q 14.40625 50.921875 18.703125 52.359375 \n",
       "Q 23 53.8125 27.875 53.8125 \n",
       "Q 34.515625 53.8125 38.984375 51.65625 \n",
       "Q 43.453125 49.515625 46.15625 45.71875 \n",
       "Q 48.875 41.9375 50.015625 36.8125 \n",
       "Q 51.171875 31.6875 51.171875 25.734375 \n",
       "L 51.171875 24.5625 \n",
       "z\n",
       "M 42.09375 31.296875 \n",
       "Q 41.359375 39.65625 37.84375 43.484375 \n",
       "Q 34.328125 47.3125 27.734375 47.3125 \n",
       "Q 25.53125 47.3125 23.109375 46.609375 \n",
       "Q 20.703125 45.90625 18.65625 44.09375 \n",
       "Q 16.609375 42.28125 15.1875 39.171875 \n",
       "Q 13.765625 36.078125 13.578125 31.296875 \n",
       "z\n",
       "\" id=\"LiberationSans-101\"/>\n",
       "      <path d=\"M 23.640625 -0.984375 \n",
       "Q 13.578125 -0.984375 8.890625 5.796875 \n",
       "Q 4.203125 12.59375 4.203125 26.171875 \n",
       "Q 4.203125 39.9375 9 46.875 \n",
       "Q 13.8125 53.8125 23.640625 53.8125 \n",
       "Q 26.90625 53.8125 29.421875 53.21875 \n",
       "Q 31.9375 52.640625 33.90625 51.484375 \n",
       "Q 35.890625 50.34375 37.375 48.625 \n",
       "Q 38.875 46.921875 40.09375 44.625 \n",
       "L 40.1875 44.625 \n",
       "Q 40.1875 45.84375 40.25 47.328125 \n",
       "Q 40.328125 48.828125 40.40625 50.140625 \n",
       "Q 40.484375 51.46875 40.578125 52.421875 \n",
       "Q 40.671875 53.375 40.765625 53.515625 \n",
       "L 49.21875 53.515625 \n",
       "Q 49.125 52.6875 49 49.171875 \n",
       "Q 48.875 45.65625 48.875 39.109375 \n",
       "L 48.875 -20.75 \n",
       "L 40.09375 -20.75 \n",
       "L 40.09375 0.6875 \n",
       "Q 40.09375 1.953125 40.109375 3.3125 \n",
       "Q 40.140625 4.6875 40.1875 5.90625 \n",
       "Q 40.234375 7.28125 40.28125 8.6875 \n",
       "L 40.1875 8.6875 \n",
       "Q 38.921875 6.203125 37.375 4.375 \n",
       "Q 35.84375 2.546875 33.84375 1.34375 \n",
       "Q 31.84375 0.140625 29.328125 -0.421875 \n",
       "Q 26.8125 -0.984375 23.640625 -0.984375 \n",
       "z\n",
       "M 40.09375 27.046875 \n",
       "Q 40.09375 32.8125 39.09375 36.71875 \n",
       "Q 38.09375 40.625 36.25 42.96875 \n",
       "Q 34.421875 45.3125 31.8125 46.3125 \n",
       "Q 29.203125 47.3125 25.984375 47.3125 \n",
       "Q 22.609375 47.3125 20.21875 46.0625 \n",
       "Q 17.828125 44.828125 16.328125 42.265625 \n",
       "Q 14.84375 39.703125 14.125 35.765625 \n",
       "Q 13.421875 31.84375 13.421875 26.46875 \n",
       "Q 13.421875 21.1875 14.078125 17.28125 \n",
       "Q 14.75 13.375 16.234375 10.828125 \n",
       "Q 17.71875 8.296875 20.09375 7.046875 \n",
       "Q 22.46875 5.8125 25.875 5.8125 \n",
       "Q 28.8125 5.8125 31.390625 6.71875 \n",
       "Q 33.984375 7.625 35.90625 9.984375 \n",
       "Q 37.84375 12.359375 38.96875 16.484375 \n",
       "Q 40.09375 20.609375 40.09375 27.046875 \n",
       "z\n",
       "\" id=\"LiberationSans-113\"/>\n",
       "      <path d=\"M 15.328125 52.828125 \n",
       "L 15.328125 19.34375 \n",
       "Q 15.328125 15.484375 15.890625 12.890625 \n",
       "Q 16.453125 10.296875 17.71875 8.703125 \n",
       "Q 19 7.125 21.0625 6.46875 \n",
       "Q 23.140625 5.8125 26.21875 5.8125 \n",
       "Q 29.34375 5.8125 31.859375 6.90625 \n",
       "Q 34.375 8.015625 36.15625 10.078125 \n",
       "Q 37.9375 12.15625 38.90625 15.203125 \n",
       "Q 39.890625 18.265625 39.890625 22.21875 \n",
       "L 39.890625 52.828125 \n",
       "L 48.6875 52.828125 \n",
       "L 48.6875 11.28125 \n",
       "Q 48.6875 9.625 48.703125 7.78125 \n",
       "Q 48.734375 5.953125 48.78125 4.3125 \n",
       "Q 48.828125 2.6875 48.875 1.515625 \n",
       "Q 48.921875 0.34375 48.96875 0 \n",
       "L 40.671875 0 \n",
       "Q 40.625 0.25 40.578125 1.3125 \n",
       "Q 40.53125 2.390625 40.453125 3.78125 \n",
       "Q 40.375 5.171875 40.328125 6.609375 \n",
       "Q 40.28125 8.0625 40.28125 9.03125 \n",
       "L 40.140625 9.03125 \n",
       "Q 38.875 6.734375 37.359375 4.875 \n",
       "Q 35.84375 3.03125 33.84375 1.734375 \n",
       "Q 31.84375 0.4375 29.25 -0.265625 \n",
       "Q 26.65625 -0.984375 23.25 -0.984375 \n",
       "Q 18.84375 -0.984375 15.671875 0.09375 \n",
       "Q 12.5 1.171875 10.453125 3.421875 \n",
       "Q 8.40625 5.671875 7.453125 9.1875 \n",
       "Q 6.5 12.703125 6.5 17.625 \n",
       "L 6.5 52.828125 \n",
       "z\n",
       "\" id=\"LiberationSans-117\"/>\n",
       "      <path d=\"M 13.421875 26.65625 \n",
       "Q 13.421875 22.125 14.078125 18.3125 \n",
       "Q 14.75 14.5 16.3125 11.734375 \n",
       "Q 17.875 8.984375 20.4375 7.46875 \n",
       "Q 23 5.953125 26.765625 5.953125 \n",
       "Q 31.453125 5.953125 34.59375 8.484375 \n",
       "Q 37.75 11.03125 38.484375 16.3125 \n",
       "L 47.359375 15.71875 \n",
       "Q 46.921875 12.453125 45.453125 9.421875 \n",
       "Q 44 6.390625 41.484375 4.09375 \n",
       "Q 38.96875 1.8125 35.34375 0.40625 \n",
       "Q 31.734375 -0.984375 27 -0.984375 \n",
       "Q 20.796875 -0.984375 16.453125 1.109375 \n",
       "Q 12.109375 3.21875 9.390625 6.90625 \n",
       "Q 6.6875 10.59375 5.46875 15.59375 \n",
       "Q 4.25 20.609375 4.25 26.46875 \n",
       "Q 4.25 31.78125 5.125 35.859375 \n",
       "Q 6 39.9375 7.59375 42.984375 \n",
       "Q 9.1875 46.046875 11.328125 48.125 \n",
       "Q 13.484375 50.203125 15.984375 51.4375 \n",
       "Q 18.5 52.6875 21.28125 53.25 \n",
       "Q 24.078125 53.8125 26.90625 53.8125 \n",
       "Q 31.34375 53.8125 34.8125 52.59375 \n",
       "Q 38.28125 51.375 40.796875 49.25 \n",
       "Q 43.3125 47.125 44.875 44.234375 \n",
       "Q 46.4375 41.359375 47.078125 38.03125 \n",
       "L 38.03125 37.359375 \n",
       "Q 37.359375 41.75 34.5625 44.328125 \n",
       "Q 31.78125 46.921875 26.65625 46.921875 \n",
       "Q 22.90625 46.921875 20.390625 45.671875 \n",
       "Q 17.875 44.4375 16.3125 41.921875 \n",
       "Q 14.75 39.40625 14.078125 35.59375 \n",
       "Q 13.421875 31.78125 13.421875 26.65625 \n",
       "z\n",
       "\" id=\"LiberationSans-99\"/>\n",
       "      <path d=\"M 29.5 0 \n",
       "Q 27.640625 -4.78125 25.703125 -8.609375 \n",
       "Q 23.78125 -12.453125 21.390625 -15.15625 \n",
       "Q 19 -17.875 16.0625 -19.3125 \n",
       "Q 13.140625 -20.75 9.328125 -20.75 \n",
       "Q 7.671875 -20.75 6.25 -20.65625 \n",
       "Q 4.828125 -20.5625 3.265625 -20.21875 \n",
       "L 3.265625 -13.625 \n",
       "Q 4.203125 -13.765625 5.375 -13.84375 \n",
       "Q 6.546875 -13.921875 7.375 -13.921875 \n",
       "Q 11.234375 -13.921875 14.546875 -11.03125 \n",
       "Q 17.875 -8.15625 20.359375 -1.859375 \n",
       "L 21.1875 0.25 \n",
       "L 0.25 52.828125 \n",
       "L 9.625 52.828125 \n",
       "L 20.75 23.640625 \n",
       "Q 21.234375 22.3125 21.984375 20.109375 \n",
       "Q 22.75 17.921875 23.5 15.71875 \n",
       "Q 24.265625 13.53125 24.84375 11.765625 \n",
       "Q 25.4375 10.015625 25.53125 9.578125 \n",
       "Q 25.6875 10.109375 26.25 11.6875 \n",
       "Q 26.8125 13.28125 27.515625 15.234375 \n",
       "Q 28.21875 17.1875 28.953125 19.1875 \n",
       "Q 29.6875 21.1875 30.171875 22.65625 \n",
       "L 40.53125 52.828125 \n",
       "L 49.8125 52.828125 \n",
       "z\n",
       "\" id=\"LiberationSans-121\"/>\n",
       "     </defs>\n",
       "     <g style=\"fill:#262626;\" transform=\"translate(14.446875 207.147969)rotate(-90)scale(0.1 -0.1)\">\n",
       "      <use xlink:href=\"#LiberationSans-70\"/>\n",
       "      <use x=\"61.083984\" xlink:href=\"#LiberationSans-114\"/>\n",
       "      <use x=\"94.384766\" xlink:href=\"#LiberationSans-101\"/>\n",
       "      <use x=\"150\" xlink:href=\"#LiberationSans-113\"/>\n",
       "      <use x=\"205.615234\" xlink:href=\"#LiberationSans-117\"/>\n",
       "      <use x=\"261.230469\" xlink:href=\"#LiberationSans-101\"/>\n",
       "      <use x=\"316.845703\" xlink:href=\"#LiberationSans-110\"/>\n",
       "      <use x=\"372.460938\" xlink:href=\"#LiberationSans-99\"/>\n",
       "      <use x=\"422.460938\" xlink:href=\"#LiberationSans-121\"/>\n",
       "     </g>\n",
       "    </g>\n",
       "    <g id=\"text_16\">\n",
       "     <!-- 1e6 -->\n",
       "     <g style=\"fill:#262626;\" transform=\"translate(31.970625 17.446875)scale(0.08 -0.08)\">\n",
       "      <use xlink:href=\"#LiberationSans-49\"/>\n",
       "      <use x=\"55.615234\" xlink:href=\"#LiberationSans-101\"/>\n",
       "      <use x=\"111.230469\" xlink:href=\"#LiberationSans-54\"/>\n",
       "     </g>\n",
       "    </g>\n",
       "   </g>\n",
       "   <g id=\"patch_3\">\n",
       "    <path clip-path=\"url(#p4344c85ddd)\" d=\"M 49.72517 346.606875 \n",
       "L 85.234261 346.606875 \n",
       "L 85.234261 328.636289 \n",
       "L 49.72517 328.636289 \n",
       "z\n",
       "\" style=\"fill:#4c72b0;\"/>\n",
       "   </g>\n",
       "   <g id=\"patch_4\">\n",
       "    <path clip-path=\"url(#p4344c85ddd)\" d=\"M 85.234261 346.606875 \n",
       "L 120.743352 346.606875 \n",
       "L 120.743352 309.178158 \n",
       "L 85.234261 309.178158 \n",
       "z\n",
       "\" style=\"fill:#4c72b0;\"/>\n",
       "   </g>\n",
       "   <g id=\"patch_5\">\n",
       "    <path clip-path=\"url(#p4344c85ddd)\" d=\"M 120.743352 346.606875 \n",
       "L 156.252443 346.606875 \n",
       "L 156.252443 328.693543 \n",
       "L 120.743352 328.693543 \n",
       "z\n",
       "\" style=\"fill:#4c72b0;\"/>\n",
       "   </g>\n",
       "   <g id=\"patch_6\">\n",
       "    <path clip-path=\"url(#p4344c85ddd)\" d=\"M 156.252443 346.606875 \n",
       "L 191.761534 346.606875 \n",
       "L 191.761534 268.384314 \n",
       "L 156.252443 268.384314 \n",
       "z\n",
       "\" style=\"fill:#4c72b0;\"/>\n",
       "   </g>\n",
       "   <g id=\"patch_7\">\n",
       "    <path clip-path=\"url(#p4344c85ddd)\" d=\"M 191.761534 346.606875 \n",
       "L 227.270625 346.606875 \n",
       "L 227.270625 290.890188 \n",
       "L 191.761534 290.890188 \n",
       "z\n",
       "\" style=\"fill:#4c72b0;\"/>\n",
       "   </g>\n",
       "   <g id=\"patch_8\">\n",
       "    <path clip-path=\"url(#p4344c85ddd)\" d=\"M 227.270625 346.606875 \n",
       "L 262.779716 346.606875 \n",
       "L 262.779716 113.297225 \n",
       "L 227.270625 113.297225 \n",
       "z\n",
       "\" style=\"fill:#4c72b0;\"/>\n",
       "   </g>\n",
       "   <g id=\"patch_9\">\n",
       "    <path clip-path=\"url(#p4344c85ddd)\" d=\"M 262.779716 346.606875 \n",
       "L 298.288807 346.606875 \n",
       "L 298.288807 208.299663 \n",
       "L 262.779716 208.299663 \n",
       "z\n",
       "\" style=\"fill:#4c72b0;\"/>\n",
       "   </g>\n",
       "   <g id=\"patch_10\">\n",
       "    <path clip-path=\"url(#p4344c85ddd)\" d=\"M 298.288807 346.606875 \n",
       "L 333.797898 346.606875 \n",
       "L 333.797898 35.978304 \n",
       "L 298.288807 35.978304 \n",
       "z\n",
       "\" style=\"fill:#4c72b0;\"/>\n",
       "   </g>\n",
       "   <g id=\"patch_11\">\n",
       "    <path clip-path=\"url(#p4344c85ddd)\" d=\"M 333.797898 346.606875 \n",
       "L 369.306989 346.606875 \n",
       "L 369.306989 250.275962 \n",
       "L 333.797898 250.275962 \n",
       "z\n",
       "\" style=\"fill:#4c72b0;\"/>\n",
       "   </g>\n",
       "   <g id=\"patch_12\">\n",
       "    <path clip-path=\"url(#p4344c85ddd)\" d=\"M 369.306989 346.606875 \n",
       "L 404.81608 346.606875 \n",
       "L 404.81608 177.396328 \n",
       "L 369.306989 177.396328 \n",
       "z\n",
       "\" style=\"fill:#4c72b0;\"/>\n",
       "   </g>\n",
       "   <g id=\"patch_13\">\n",
       "    <path d=\"M 31.970625 346.606875 \n",
       "L 31.970625 20.446875 \n",
       "\" style=\"fill:none;\"/>\n",
       "   </g>\n",
       "   <g id=\"patch_14\">\n",
       "    <path d=\"M 422.570625 346.606875 \n",
       "L 422.570625 20.446875 \n",
       "\" style=\"fill:none;\"/>\n",
       "   </g>\n",
       "   <g id=\"patch_15\">\n",
       "    <path d=\"M 31.970625 346.606875 \n",
       "L 422.570625 346.606875 \n",
       "\" style=\"fill:none;\"/>\n",
       "   </g>\n",
       "   <g id=\"patch_16\">\n",
       "    <path d=\"M 31.970625 20.446875 \n",
       "L 422.570625 20.446875 \n",
       "\" style=\"fill:none;\"/>\n",
       "   </g>\n",
       "   <g id=\"text_17\">\n",
       "    <!-- Ratings Count -->\n",
       "    <defs>\n",
       "     <path d=\"M 46.390625 14.59375 \n",
       "Q 46.390625 10.890625 44.9375 7.984375 \n",
       "Q 43.5 5.078125 40.765625 3.09375 \n",
       "Q 38.03125 1.125 34.046875 0.0625 \n",
       "Q 30.078125 -0.984375 24.953125 -0.984375 \n",
       "Q 20.359375 -0.984375 16.671875 -0.265625 \n",
       "Q 12.984375 0.4375 10.203125 2 \n",
       "Q 7.421875 3.5625 5.53125 6.125 \n",
       "Q 3.65625 8.6875 2.78125 12.40625 \n",
       "L 10.546875 13.921875 \n",
       "Q 11.671875 9.671875 15.1875 7.6875 \n",
       "Q 18.703125 5.71875 24.953125 5.71875 \n",
       "Q 27.78125 5.71875 30.140625 6.109375 \n",
       "Q 32.515625 6.5 34.21875 7.453125 \n",
       "Q 35.9375 8.40625 36.890625 9.984375 \n",
       "Q 37.84375 11.578125 37.84375 13.921875 \n",
       "Q 37.84375 16.3125 36.71875 17.84375 \n",
       "Q 35.59375 19.390625 33.59375 20.40625 \n",
       "Q 31.59375 21.4375 28.734375 22.1875 \n",
       "Q 25.875 22.953125 22.46875 23.875 \n",
       "Q 19.28125 24.703125 16.15625 25.734375 \n",
       "Q 13.03125 26.765625 10.515625 28.4375 \n",
       "Q 8.015625 30.125 6.453125 32.609375 \n",
       "Q 4.890625 35.109375 4.890625 38.875 \n",
       "Q 4.890625 46.09375 10.03125 49.875 \n",
       "Q 15.1875 53.65625 25.046875 53.65625 \n",
       "Q 33.796875 53.65625 38.9375 50.578125 \n",
       "Q 44.09375 47.515625 45.453125 40.71875 \n",
       "L 37.546875 39.75 \n",
       "Q 37.109375 41.796875 35.9375 43.1875 \n",
       "Q 34.765625 44.578125 33.109375 45.4375 \n",
       "Q 31.453125 46.296875 29.375 46.65625 \n",
       "Q 27.296875 47.015625 25.046875 47.015625 \n",
       "Q 19.09375 47.015625 16.25 45.203125 \n",
       "Q 13.421875 43.40625 13.421875 39.75 \n",
       "Q 13.421875 37.59375 14.46875 36.203125 \n",
       "Q 15.53125 34.8125 17.40625 33.859375 \n",
       "Q 19.28125 32.90625 21.921875 32.203125 \n",
       "Q 24.5625 31.5 27.734375 30.71875 \n",
       "Q 29.828125 30.171875 32.03125 29.5625 \n",
       "Q 34.234375 28.953125 36.296875 28.09375 \n",
       "Q 38.375 27.25 40.203125 26.09375 \n",
       "Q 42.046875 24.953125 43.40625 23.34375 \n",
       "Q 44.78125 21.734375 45.578125 19.578125 \n",
       "Q 46.390625 17.4375 46.390625 14.59375 \n",
       "z\n",
       "\" id=\"LiberationSans-115\"/>\n",
       "     <path id=\"LiberationSans-32\"/>\n",
       "     <path d=\"M 38.671875 62.203125 \n",
       "Q 32.8125 62.203125 28.296875 60.25 \n",
       "Q 23.78125 58.296875 20.71875 54.6875 \n",
       "Q 17.671875 51.078125 16.109375 46 \n",
       "Q 14.546875 40.921875 14.546875 34.71875 \n",
       "Q 14.546875 28.515625 16.234375 23.359375 \n",
       "Q 17.921875 18.21875 21.0625 14.5 \n",
       "Q 24.21875 10.796875 28.78125 8.734375 \n",
       "Q 33.34375 6.6875 39.0625 6.6875 \n",
       "Q 43.0625 6.6875 46.359375 7.734375 \n",
       "Q 49.65625 8.796875 52.3125 10.6875 \n",
       "Q 54.984375 12.59375 57.078125 15.203125 \n",
       "Q 59.1875 17.828125 60.796875 21 \n",
       "L 68.40625 17.1875 \n",
       "Q 66.546875 13.328125 63.8125 10 \n",
       "Q 61.078125 6.6875 57.390625 4.25 \n",
       "Q 53.71875 1.8125 49.046875 0.40625 \n",
       "Q 44.390625 -0.984375 38.625 -0.984375 \n",
       "Q 30.28125 -0.984375 24 1.671875 \n",
       "Q 17.71875 4.34375 13.5 9.109375 \n",
       "Q 9.28125 13.875 7.171875 20.40625 \n",
       "Q 5.078125 26.953125 5.078125 34.71875 \n",
       "Q 5.078125 42.78125 7.296875 49.265625 \n",
       "Q 9.515625 55.765625 13.78125 60.328125 \n",
       "Q 18.0625 64.890625 24.3125 67.359375 \n",
       "Q 30.5625 69.828125 38.578125 69.828125 \n",
       "Q 49.5625 69.828125 56.9375 65.53125 \n",
       "Q 64.3125 61.234375 67.78125 52.78125 \n",
       "L 58.9375 49.859375 \n",
       "Q 57.953125 52.296875 56.296875 54.515625 \n",
       "Q 54.640625 56.734375 52.140625 58.4375 \n",
       "Q 49.65625 60.15625 46.3125 61.171875 \n",
       "Q 42.96875 62.203125 38.671875 62.203125 \n",
       "z\n",
       "\" id=\"LiberationSans-67\"/>\n",
       "     <path d=\"M 51.421875 26.46875 \n",
       "Q 51.421875 12.59375 45.3125 5.796875 \n",
       "Q 39.203125 -0.984375 27.59375 -0.984375 \n",
       "Q 22.078125 -0.984375 17.71875 0.671875 \n",
       "Q 13.375 2.34375 10.375 5.765625 \n",
       "Q 7.375 9.1875 5.78125 14.328125 \n",
       "Q 4.203125 19.484375 4.203125 26.46875 \n",
       "Q 4.203125 53.8125 27.875 53.8125 \n",
       "Q 34.03125 53.8125 38.5 52.09375 \n",
       "Q 42.96875 50.390625 45.828125 46.96875 \n",
       "Q 48.6875 43.5625 50.046875 38.421875 \n",
       "Q 51.421875 33.296875 51.421875 26.46875 \n",
       "z\n",
       "M 42.1875 26.46875 \n",
       "Q 42.1875 32.625 41.234375 36.625 \n",
       "Q 40.28125 40.625 38.453125 43.015625 \n",
       "Q 36.625 45.40625 33.984375 46.359375 \n",
       "Q 31.34375 47.3125 28.03125 47.3125 \n",
       "Q 24.65625 47.3125 21.9375 46.3125 \n",
       "Q 19.234375 45.3125 17.328125 42.890625 \n",
       "Q 15.4375 40.484375 14.421875 36.46875 \n",
       "Q 13.421875 32.46875 13.421875 26.46875 \n",
       "Q 13.421875 20.3125 14.5 16.28125 \n",
       "Q 15.578125 12.25 17.453125 9.859375 \n",
       "Q 19.34375 7.46875 21.90625 6.484375 \n",
       "Q 24.46875 5.515625 27.484375 5.515625 \n",
       "Q 30.859375 5.515625 33.59375 6.46875 \n",
       "Q 36.328125 7.421875 38.234375 9.8125 \n",
       "Q 40.140625 12.203125 41.15625 16.25 \n",
       "Q 42.1875 20.3125 42.1875 26.46875 \n",
       "z\n",
       "\" id=\"LiberationSans-111\"/>\n",
       "    </defs>\n",
       "    <g style=\"fill:#262626;\" transform=\"translate(195.587813 14.446875)scale(0.1 -0.1)\">\n",
       "     <use xlink:href=\"#LiberationSans-82\"/>\n",
       "     <use x=\"72.216797\" xlink:href=\"#LiberationSans-97\"/>\n",
       "     <use x=\"127.832031\" xlink:href=\"#LiberationSans-116\"/>\n",
       "     <use x=\"155.615234\" xlink:href=\"#LiberationSans-105\"/>\n",
       "     <use x=\"177.832031\" xlink:href=\"#LiberationSans-110\"/>\n",
       "     <use x=\"233.447266\" xlink:href=\"#LiberationSans-103\"/>\n",
       "     <use x=\"289.0625\" xlink:href=\"#LiberationSans-115\"/>\n",
       "     <use x=\"339.0625\" xlink:href=\"#LiberationSans-32\"/>\n",
       "     <use x=\"366.845703\" xlink:href=\"#LiberationSans-67\"/>\n",
       "     <use x=\"439.0625\" xlink:href=\"#LiberationSans-111\"/>\n",
       "     <use x=\"494.677734\" xlink:href=\"#LiberationSans-117\"/>\n",
       "     <use x=\"550.292969\" xlink:href=\"#LiberationSans-110\"/>\n",
       "     <use x=\"605.908203\" xlink:href=\"#LiberationSans-116\"/>\n",
       "    </g>\n",
       "   </g>\n",
       "  </g>\n",
       " </g>\n",
       " <defs>\n",
       "  <clipPath id=\"p4344c85ddd\">\n",
       "   <rect height=\"326.16\" width=\"390.6\" x=\"31.970625\" y=\"20.446875\"/>\n",
       "  </clipPath>\n",
       " </defs>\n",
       "</svg>\n"
      ],
      "text/plain": [
       "<Figure size 504x432 with 1 Axes>"
      ]
     },
     "metadata": {},
     "output_type": "display_data"
    }
   ],
   "source": [
    "plt.rcParams['figure.figsize'] = (7, 6)\n",
    "plt.hist(ratings['rating'], bins=10);\n",
    "plt.title('Ratings Count', size=10)\n",
    "plt.xlabel('Rating')\n",
    "plt.ylabel('Frequency')\n",
    "plt.show();"
   ]
  },
  {
   "cell_type": "markdown",
   "metadata": {},
   "source": [
    "And for a better visualization, let's represent by a pie chart with the percent representation."
   ]
  },
  {
   "cell_type": "code",
   "execution_count": 13,
   "metadata": {
    "_kg_hide-input": true,
    "execution": {
     "iopub.execute_input": "2022-05-01T01:41:13.407382Z",
     "iopub.status.busy": "2022-05-01T01:41:13.407065Z",
     "iopub.status.idle": "2022-05-01T01:41:14.979164Z",
     "shell.execute_reply": "2022-05-01T01:41:14.978234Z",
     "shell.execute_reply.started": "2022-05-01T01:41:13.407346Z"
    }
   },
   "outputs": [
    {
     "data": {
      "application/vnd.plotly.v1+json": {
       "config": {
        "linkText": "Export to plot.ly",
        "plotlyServerURL": "https://plot.ly",
        "showLink": false
       },
       "data": [
        {
         "labels": [
          4.0,
          3.0,
          5.0,
          3.5,
          4.5,
          2.0,
          2.5,
          1.0,
          0.5,
          1.5
         ],
         "marker": {
          "colors": [
           "red",
           "blue",
           "green",
           "yellow",
           "black"
          ]
         },
         "type": "pie",
         "values": [
          6998802,
          5256722,
          3812499,
          3116213,
          2170441,
          1762440,
          1255358,
          843310,
          404897,
          403607
         ]
        }
       ],
       "layout": {
        "template": {
         "data": {
          "bar": [
           {
            "error_x": {
             "color": "#2a3f5f"
            },
            "error_y": {
             "color": "#2a3f5f"
            },
            "marker": {
             "line": {
              "color": "#E5ECF6",
              "width": 0.5
             }
            },
            "type": "bar"
           }
          ],
          "barpolar": [
           {
            "marker": {
             "line": {
              "color": "#E5ECF6",
              "width": 0.5
             }
            },
            "type": "barpolar"
           }
          ],
          "carpet": [
           {
            "aaxis": {
             "endlinecolor": "#2a3f5f",
             "gridcolor": "white",
             "linecolor": "white",
             "minorgridcolor": "white",
             "startlinecolor": "#2a3f5f"
            },
            "baxis": {
             "endlinecolor": "#2a3f5f",
             "gridcolor": "white",
             "linecolor": "white",
             "minorgridcolor": "white",
             "startlinecolor": "#2a3f5f"
            },
            "type": "carpet"
           }
          ],
          "choropleth": [
           {
            "colorbar": {
             "outlinewidth": 0,
             "ticks": ""
            },
            "type": "choropleth"
           }
          ],
          "contour": [
           {
            "colorbar": {
             "outlinewidth": 0,
             "ticks": ""
            },
            "colorscale": [
             [
              0.0,
              "#0d0887"
             ],
             [
              0.1111111111111111,
              "#46039f"
             ],
             [
              0.2222222222222222,
              "#7201a8"
             ],
             [
              0.3333333333333333,
              "#9c179e"
             ],
             [
              0.4444444444444444,
              "#bd3786"
             ],
             [
              0.5555555555555556,
              "#d8576b"
             ],
             [
              0.6666666666666666,
              "#ed7953"
             ],
             [
              0.7777777777777778,
              "#fb9f3a"
             ],
             [
              0.8888888888888888,
              "#fdca26"
             ],
             [
              1.0,
              "#f0f921"
             ]
            ],
            "type": "contour"
           }
          ],
          "contourcarpet": [
           {
            "colorbar": {
             "outlinewidth": 0,
             "ticks": ""
            },
            "type": "contourcarpet"
           }
          ],
          "heatmap": [
           {
            "colorbar": {
             "outlinewidth": 0,
             "ticks": ""
            },
            "colorscale": [
             [
              0.0,
              "#0d0887"
             ],
             [
              0.1111111111111111,
              "#46039f"
             ],
             [
              0.2222222222222222,
              "#7201a8"
             ],
             [
              0.3333333333333333,
              "#9c179e"
             ],
             [
              0.4444444444444444,
              "#bd3786"
             ],
             [
              0.5555555555555556,
              "#d8576b"
             ],
             [
              0.6666666666666666,
              "#ed7953"
             ],
             [
              0.7777777777777778,
              "#fb9f3a"
             ],
             [
              0.8888888888888888,
              "#fdca26"
             ],
             [
              1.0,
              "#f0f921"
             ]
            ],
            "type": "heatmap"
           }
          ],
          "heatmapgl": [
           {
            "colorbar": {
             "outlinewidth": 0,
             "ticks": ""
            },
            "colorscale": [
             [
              0.0,
              "#0d0887"
             ],
             [
              0.1111111111111111,
              "#46039f"
             ],
             [
              0.2222222222222222,
              "#7201a8"
             ],
             [
              0.3333333333333333,
              "#9c179e"
             ],
             [
              0.4444444444444444,
              "#bd3786"
             ],
             [
              0.5555555555555556,
              "#d8576b"
             ],
             [
              0.6666666666666666,
              "#ed7953"
             ],
             [
              0.7777777777777778,
              "#fb9f3a"
             ],
             [
              0.8888888888888888,
              "#fdca26"
             ],
             [
              1.0,
              "#f0f921"
             ]
            ],
            "type": "heatmapgl"
           }
          ],
          "histogram": [
           {
            "marker": {
             "colorbar": {
              "outlinewidth": 0,
              "ticks": ""
             }
            },
            "type": "histogram"
           }
          ],
          "histogram2d": [
           {
            "colorbar": {
             "outlinewidth": 0,
             "ticks": ""
            },
            "colorscale": [
             [
              0.0,
              "#0d0887"
             ],
             [
              0.1111111111111111,
              "#46039f"
             ],
             [
              0.2222222222222222,
              "#7201a8"
             ],
             [
              0.3333333333333333,
              "#9c179e"
             ],
             [
              0.4444444444444444,
              "#bd3786"
             ],
             [
              0.5555555555555556,
              "#d8576b"
             ],
             [
              0.6666666666666666,
              "#ed7953"
             ],
             [
              0.7777777777777778,
              "#fb9f3a"
             ],
             [
              0.8888888888888888,
              "#fdca26"
             ],
             [
              1.0,
              "#f0f921"
             ]
            ],
            "type": "histogram2d"
           }
          ],
          "histogram2dcontour": [
           {
            "colorbar": {
             "outlinewidth": 0,
             "ticks": ""
            },
            "colorscale": [
             [
              0.0,
              "#0d0887"
             ],
             [
              0.1111111111111111,
              "#46039f"
             ],
             [
              0.2222222222222222,
              "#7201a8"
             ],
             [
              0.3333333333333333,
              "#9c179e"
             ],
             [
              0.4444444444444444,
              "#bd3786"
             ],
             [
              0.5555555555555556,
              "#d8576b"
             ],
             [
              0.6666666666666666,
              "#ed7953"
             ],
             [
              0.7777777777777778,
              "#fb9f3a"
             ],
             [
              0.8888888888888888,
              "#fdca26"
             ],
             [
              1.0,
              "#f0f921"
             ]
            ],
            "type": "histogram2dcontour"
           }
          ],
          "mesh3d": [
           {
            "colorbar": {
             "outlinewidth": 0,
             "ticks": ""
            },
            "type": "mesh3d"
           }
          ],
          "parcoords": [
           {
            "line": {
             "colorbar": {
              "outlinewidth": 0,
              "ticks": ""
             }
            },
            "type": "parcoords"
           }
          ],
          "pie": [
           {
            "automargin": true,
            "type": "pie"
           }
          ],
          "scatter": [
           {
            "marker": {
             "colorbar": {
              "outlinewidth": 0,
              "ticks": ""
             }
            },
            "type": "scatter"
           }
          ],
          "scatter3d": [
           {
            "line": {
             "colorbar": {
              "outlinewidth": 0,
              "ticks": ""
             }
            },
            "marker": {
             "colorbar": {
              "outlinewidth": 0,
              "ticks": ""
             }
            },
            "type": "scatter3d"
           }
          ],
          "scattercarpet": [
           {
            "marker": {
             "colorbar": {
              "outlinewidth": 0,
              "ticks": ""
             }
            },
            "type": "scattercarpet"
           }
          ],
          "scattergeo": [
           {
            "marker": {
             "colorbar": {
              "outlinewidth": 0,
              "ticks": ""
             }
            },
            "type": "scattergeo"
           }
          ],
          "scattergl": [
           {
            "marker": {
             "colorbar": {
              "outlinewidth": 0,
              "ticks": ""
             }
            },
            "type": "scattergl"
           }
          ],
          "scattermapbox": [
           {
            "marker": {
             "colorbar": {
              "outlinewidth": 0,
              "ticks": ""
             }
            },
            "type": "scattermapbox"
           }
          ],
          "scatterpolar": [
           {
            "marker": {
             "colorbar": {
              "outlinewidth": 0,
              "ticks": ""
             }
            },
            "type": "scatterpolar"
           }
          ],
          "scatterpolargl": [
           {
            "marker": {
             "colorbar": {
              "outlinewidth": 0,
              "ticks": ""
             }
            },
            "type": "scatterpolargl"
           }
          ],
          "scatterternary": [
           {
            "marker": {
             "colorbar": {
              "outlinewidth": 0,
              "ticks": ""
             }
            },
            "type": "scatterternary"
           }
          ],
          "surface": [
           {
            "colorbar": {
             "outlinewidth": 0,
             "ticks": ""
            },
            "colorscale": [
             [
              0.0,
              "#0d0887"
             ],
             [
              0.1111111111111111,
              "#46039f"
             ],
             [
              0.2222222222222222,
              "#7201a8"
             ],
             [
              0.3333333333333333,
              "#9c179e"
             ],
             [
              0.4444444444444444,
              "#bd3786"
             ],
             [
              0.5555555555555556,
              "#d8576b"
             ],
             [
              0.6666666666666666,
              "#ed7953"
             ],
             [
              0.7777777777777778,
              "#fb9f3a"
             ],
             [
              0.8888888888888888,
              "#fdca26"
             ],
             [
              1.0,
              "#f0f921"
             ]
            ],
            "type": "surface"
           }
          ],
          "table": [
           {
            "cells": {
             "fill": {
              "color": "#EBF0F8"
             },
             "line": {
              "color": "white"
             }
            },
            "header": {
             "fill": {
              "color": "#C8D4E3"
             },
             "line": {
              "color": "white"
             }
            },
            "type": "table"
           }
          ]
         },
         "layout": {
          "annotationdefaults": {
           "arrowcolor": "#2a3f5f",
           "arrowhead": 0,
           "arrowwidth": 1
          },
          "coloraxis": {
           "colorbar": {
            "outlinewidth": 0,
            "ticks": ""
           }
          },
          "colorscale": {
           "diverging": [
            [
             0,
             "#8e0152"
            ],
            [
             0.1,
             "#c51b7d"
            ],
            [
             0.2,
             "#de77ae"
            ],
            [
             0.3,
             "#f1b6da"
            ],
            [
             0.4,
             "#fde0ef"
            ],
            [
             0.5,
             "#f7f7f7"
            ],
            [
             0.6,
             "#e6f5d0"
            ],
            [
             0.7,
             "#b8e186"
            ],
            [
             0.8,
             "#7fbc41"
            ],
            [
             0.9,
             "#4d9221"
            ],
            [
             1,
             "#276419"
            ]
           ],
           "sequential": [
            [
             0.0,
             "#0d0887"
            ],
            [
             0.1111111111111111,
             "#46039f"
            ],
            [
             0.2222222222222222,
             "#7201a8"
            ],
            [
             0.3333333333333333,
             "#9c179e"
            ],
            [
             0.4444444444444444,
             "#bd3786"
            ],
            [
             0.5555555555555556,
             "#d8576b"
            ],
            [
             0.6666666666666666,
             "#ed7953"
            ],
            [
             0.7777777777777778,
             "#fb9f3a"
            ],
            [
             0.8888888888888888,
             "#fdca26"
            ],
            [
             1.0,
             "#f0f921"
            ]
           ],
           "sequentialminus": [
            [
             0.0,
             "#0d0887"
            ],
            [
             0.1111111111111111,
             "#46039f"
            ],
            [
             0.2222222222222222,
             "#7201a8"
            ],
            [
             0.3333333333333333,
             "#9c179e"
            ],
            [
             0.4444444444444444,
             "#bd3786"
            ],
            [
             0.5555555555555556,
             "#d8576b"
            ],
            [
             0.6666666666666666,
             "#ed7953"
            ],
            [
             0.7777777777777778,
             "#fb9f3a"
            ],
            [
             0.8888888888888888,
             "#fdca26"
            ],
            [
             1.0,
             "#f0f921"
            ]
           ]
          },
          "colorway": [
           "#636efa",
           "#EF553B",
           "#00cc96",
           "#ab63fa",
           "#FFA15A",
           "#19d3f3",
           "#FF6692",
           "#B6E880",
           "#FF97FF",
           "#FECB52"
          ],
          "font": {
           "color": "#2a3f5f"
          },
          "geo": {
           "bgcolor": "white",
           "lakecolor": "white",
           "landcolor": "#E5ECF6",
           "showlakes": true,
           "showland": true,
           "subunitcolor": "white"
          },
          "hoverlabel": {
           "align": "left"
          },
          "hovermode": "closest",
          "mapbox": {
           "style": "light"
          },
          "paper_bgcolor": "white",
          "plot_bgcolor": "#E5ECF6",
          "polar": {
           "angularaxis": {
            "gridcolor": "white",
            "linecolor": "white",
            "ticks": ""
           },
           "bgcolor": "#E5ECF6",
           "radialaxis": {
            "gridcolor": "white",
            "linecolor": "white",
            "ticks": ""
           }
          },
          "scene": {
           "xaxis": {
            "backgroundcolor": "#E5ECF6",
            "gridcolor": "white",
            "gridwidth": 2,
            "linecolor": "white",
            "showbackground": true,
            "ticks": "",
            "zerolinecolor": "white"
           },
           "yaxis": {
            "backgroundcolor": "#E5ECF6",
            "gridcolor": "white",
            "gridwidth": 2,
            "linecolor": "white",
            "showbackground": true,
            "ticks": "",
            "zerolinecolor": "white"
           },
           "zaxis": {
            "backgroundcolor": "#E5ECF6",
            "gridcolor": "white",
            "gridwidth": 2,
            "linecolor": "white",
            "showbackground": true,
            "ticks": "",
            "zerolinecolor": "white"
           }
          },
          "shapedefaults": {
           "line": {
            "color": "#2a3f5f"
           }
          },
          "ternary": {
           "aaxis": {
            "gridcolor": "white",
            "linecolor": "white",
            "ticks": ""
           },
           "baxis": {
            "gridcolor": "white",
            "linecolor": "white",
            "ticks": ""
           },
           "bgcolor": "#E5ECF6",
           "caxis": {
            "gridcolor": "white",
            "linecolor": "white",
            "ticks": ""
           }
          },
          "title": {
           "x": 0.05
          },
          "xaxis": {
           "automargin": true,
           "gridcolor": "white",
           "linecolor": "white",
           "ticks": "",
           "title": {
            "standoff": 15
           },
           "zerolinecolor": "white",
           "zerolinewidth": 2
          },
          "yaxis": {
           "automargin": true,
           "gridcolor": "white",
           "linecolor": "white",
           "ticks": "",
           "title": {
            "standoff": 15
           },
           "zerolinecolor": "white",
           "zerolinewidth": 2
          }
         }
        },
        "title": {
         "text": "Ratings by Total Percent"
        }
       }
      },
      "text/html": [
       "<div>\n",
       "        \n",
       "        \n",
       "            <div id=\"c3c9ce5c-debf-4f06-998f-0d8e2eb81b2d\" class=\"plotly-graph-div\" style=\"height:525px; width:100%;\"></div>\n",
       "            <script type=\"text/javascript\">\n",
       "                require([\"plotly\"], function(Plotly) {\n",
       "                    window.PLOTLYENV=window.PLOTLYENV || {};\n",
       "                    \n",
       "                if (document.getElementById(\"c3c9ce5c-debf-4f06-998f-0d8e2eb81b2d\")) {\n",
       "                    Plotly.newPlot(\n",
       "                        'c3c9ce5c-debf-4f06-998f-0d8e2eb81b2d',\n",
       "                        [{\"labels\": [4.0, 3.0, 5.0, 3.5, 4.5, 2.0, 2.5, 1.0, 0.5, 1.5], \"marker\": {\"colors\": [\"red\", \"blue\", \"green\", \"yellow\", \"black\"]}, \"type\": \"pie\", \"values\": [6998802, 5256722, 3812499, 3116213, 2170441, 1762440, 1255358, 843310, 404897, 403607]}],\n",
       "                        {\"template\": {\"data\": {\"bar\": [{\"error_x\": {\"color\": \"#2a3f5f\"}, \"error_y\": {\"color\": \"#2a3f5f\"}, \"marker\": {\"line\": {\"color\": \"#E5ECF6\", \"width\": 0.5}}, \"type\": \"bar\"}], \"barpolar\": [{\"marker\": {\"line\": {\"color\": \"#E5ECF6\", \"width\": 0.5}}, \"type\": \"barpolar\"}], \"carpet\": [{\"aaxis\": {\"endlinecolor\": \"#2a3f5f\", \"gridcolor\": \"white\", \"linecolor\": \"white\", \"minorgridcolor\": \"white\", \"startlinecolor\": \"#2a3f5f\"}, \"baxis\": {\"endlinecolor\": \"#2a3f5f\", \"gridcolor\": \"white\", \"linecolor\": \"white\", \"minorgridcolor\": \"white\", \"startlinecolor\": \"#2a3f5f\"}, \"type\": \"carpet\"}], \"choropleth\": [{\"colorbar\": {\"outlinewidth\": 0, \"ticks\": \"\"}, \"type\": \"choropleth\"}], \"contour\": [{\"colorbar\": {\"outlinewidth\": 0, \"ticks\": \"\"}, \"colorscale\": [[0.0, \"#0d0887\"], [0.1111111111111111, \"#46039f\"], [0.2222222222222222, \"#7201a8\"], [0.3333333333333333, \"#9c179e\"], [0.4444444444444444, \"#bd3786\"], [0.5555555555555556, \"#d8576b\"], [0.6666666666666666, \"#ed7953\"], [0.7777777777777778, \"#fb9f3a\"], [0.8888888888888888, \"#fdca26\"], [1.0, \"#f0f921\"]], \"type\": \"contour\"}], \"contourcarpet\": [{\"colorbar\": {\"outlinewidth\": 0, \"ticks\": \"\"}, \"type\": \"contourcarpet\"}], \"heatmap\": [{\"colorbar\": {\"outlinewidth\": 0, \"ticks\": \"\"}, \"colorscale\": [[0.0, \"#0d0887\"], [0.1111111111111111, \"#46039f\"], [0.2222222222222222, \"#7201a8\"], [0.3333333333333333, \"#9c179e\"], [0.4444444444444444, \"#bd3786\"], [0.5555555555555556, \"#d8576b\"], [0.6666666666666666, \"#ed7953\"], [0.7777777777777778, \"#fb9f3a\"], [0.8888888888888888, \"#fdca26\"], [1.0, \"#f0f921\"]], \"type\": \"heatmap\"}], \"heatmapgl\": [{\"colorbar\": {\"outlinewidth\": 0, \"ticks\": \"\"}, \"colorscale\": [[0.0, \"#0d0887\"], [0.1111111111111111, \"#46039f\"], [0.2222222222222222, \"#7201a8\"], [0.3333333333333333, \"#9c179e\"], [0.4444444444444444, \"#bd3786\"], [0.5555555555555556, \"#d8576b\"], [0.6666666666666666, \"#ed7953\"], [0.7777777777777778, \"#fb9f3a\"], [0.8888888888888888, \"#fdca26\"], [1.0, \"#f0f921\"]], \"type\": \"heatmapgl\"}], \"histogram\": [{\"marker\": {\"colorbar\": {\"outlinewidth\": 0, \"ticks\": \"\"}}, \"type\": \"histogram\"}], \"histogram2d\": [{\"colorbar\": {\"outlinewidth\": 0, \"ticks\": \"\"}, \"colorscale\": [[0.0, \"#0d0887\"], [0.1111111111111111, \"#46039f\"], [0.2222222222222222, \"#7201a8\"], [0.3333333333333333, \"#9c179e\"], [0.4444444444444444, \"#bd3786\"], [0.5555555555555556, \"#d8576b\"], [0.6666666666666666, \"#ed7953\"], [0.7777777777777778, \"#fb9f3a\"], [0.8888888888888888, \"#fdca26\"], [1.0, \"#f0f921\"]], \"type\": \"histogram2d\"}], \"histogram2dcontour\": [{\"colorbar\": {\"outlinewidth\": 0, \"ticks\": \"\"}, \"colorscale\": [[0.0, \"#0d0887\"], [0.1111111111111111, \"#46039f\"], [0.2222222222222222, \"#7201a8\"], [0.3333333333333333, \"#9c179e\"], [0.4444444444444444, \"#bd3786\"], [0.5555555555555556, \"#d8576b\"], [0.6666666666666666, \"#ed7953\"], [0.7777777777777778, \"#fb9f3a\"], [0.8888888888888888, \"#fdca26\"], [1.0, \"#f0f921\"]], \"type\": \"histogram2dcontour\"}], \"mesh3d\": [{\"colorbar\": {\"outlinewidth\": 0, \"ticks\": \"\"}, \"type\": \"mesh3d\"}], \"parcoords\": [{\"line\": {\"colorbar\": {\"outlinewidth\": 0, \"ticks\": \"\"}}, \"type\": \"parcoords\"}], \"pie\": [{\"automargin\": true, \"type\": \"pie\"}], \"scatter\": [{\"marker\": {\"colorbar\": {\"outlinewidth\": 0, \"ticks\": \"\"}}, \"type\": \"scatter\"}], \"scatter3d\": [{\"line\": {\"colorbar\": {\"outlinewidth\": 0, \"ticks\": \"\"}}, \"marker\": {\"colorbar\": {\"outlinewidth\": 0, \"ticks\": \"\"}}, \"type\": \"scatter3d\"}], \"scattercarpet\": [{\"marker\": {\"colorbar\": {\"outlinewidth\": 0, \"ticks\": \"\"}}, \"type\": \"scattercarpet\"}], \"scattergeo\": [{\"marker\": {\"colorbar\": {\"outlinewidth\": 0, \"ticks\": \"\"}}, \"type\": \"scattergeo\"}], \"scattergl\": [{\"marker\": {\"colorbar\": {\"outlinewidth\": 0, \"ticks\": \"\"}}, \"type\": \"scattergl\"}], \"scattermapbox\": [{\"marker\": {\"colorbar\": {\"outlinewidth\": 0, \"ticks\": \"\"}}, \"type\": \"scattermapbox\"}], \"scatterpolar\": [{\"marker\": {\"colorbar\": {\"outlinewidth\": 0, \"ticks\": \"\"}}, \"type\": \"scatterpolar\"}], \"scatterpolargl\": [{\"marker\": {\"colorbar\": {\"outlinewidth\": 0, \"ticks\": \"\"}}, \"type\": \"scatterpolargl\"}], \"scatterternary\": [{\"marker\": {\"colorbar\": {\"outlinewidth\": 0, \"ticks\": \"\"}}, \"type\": \"scatterternary\"}], \"surface\": [{\"colorbar\": {\"outlinewidth\": 0, \"ticks\": \"\"}, \"colorscale\": [[0.0, \"#0d0887\"], [0.1111111111111111, \"#46039f\"], [0.2222222222222222, \"#7201a8\"], [0.3333333333333333, \"#9c179e\"], [0.4444444444444444, \"#bd3786\"], [0.5555555555555556, \"#d8576b\"], [0.6666666666666666, \"#ed7953\"], [0.7777777777777778, \"#fb9f3a\"], [0.8888888888888888, \"#fdca26\"], [1.0, \"#f0f921\"]], \"type\": \"surface\"}], \"table\": [{\"cells\": {\"fill\": {\"color\": \"#EBF0F8\"}, \"line\": {\"color\": \"white\"}}, \"header\": {\"fill\": {\"color\": \"#C8D4E3\"}, \"line\": {\"color\": \"white\"}}, \"type\": \"table\"}]}, \"layout\": {\"annotationdefaults\": {\"arrowcolor\": \"#2a3f5f\", \"arrowhead\": 0, \"arrowwidth\": 1}, \"coloraxis\": {\"colorbar\": {\"outlinewidth\": 0, \"ticks\": \"\"}}, \"colorscale\": {\"diverging\": [[0, \"#8e0152\"], [0.1, \"#c51b7d\"], [0.2, \"#de77ae\"], [0.3, \"#f1b6da\"], [0.4, \"#fde0ef\"], [0.5, \"#f7f7f7\"], [0.6, \"#e6f5d0\"], [0.7, \"#b8e186\"], [0.8, \"#7fbc41\"], [0.9, \"#4d9221\"], [1, \"#276419\"]], \"sequential\": [[0.0, \"#0d0887\"], [0.1111111111111111, \"#46039f\"], [0.2222222222222222, \"#7201a8\"], [0.3333333333333333, \"#9c179e\"], [0.4444444444444444, \"#bd3786\"], [0.5555555555555556, \"#d8576b\"], [0.6666666666666666, \"#ed7953\"], [0.7777777777777778, \"#fb9f3a\"], [0.8888888888888888, \"#fdca26\"], [1.0, \"#f0f921\"]], \"sequentialminus\": [[0.0, \"#0d0887\"], [0.1111111111111111, \"#46039f\"], [0.2222222222222222, \"#7201a8\"], [0.3333333333333333, \"#9c179e\"], [0.4444444444444444, \"#bd3786\"], [0.5555555555555556, \"#d8576b\"], [0.6666666666666666, \"#ed7953\"], [0.7777777777777778, \"#fb9f3a\"], [0.8888888888888888, \"#fdca26\"], [1.0, \"#f0f921\"]]}, \"colorway\": [\"#636efa\", \"#EF553B\", \"#00cc96\", \"#ab63fa\", \"#FFA15A\", \"#19d3f3\", \"#FF6692\", \"#B6E880\", \"#FF97FF\", \"#FECB52\"], \"font\": {\"color\": \"#2a3f5f\"}, \"geo\": {\"bgcolor\": \"white\", \"lakecolor\": \"white\", \"landcolor\": \"#E5ECF6\", \"showlakes\": true, \"showland\": true, \"subunitcolor\": \"white\"}, \"hoverlabel\": {\"align\": \"left\"}, \"hovermode\": \"closest\", \"mapbox\": {\"style\": \"light\"}, \"paper_bgcolor\": \"white\", \"plot_bgcolor\": \"#E5ECF6\", \"polar\": {\"angularaxis\": {\"gridcolor\": \"white\", \"linecolor\": \"white\", \"ticks\": \"\"}, \"bgcolor\": \"#E5ECF6\", \"radialaxis\": {\"gridcolor\": \"white\", \"linecolor\": \"white\", \"ticks\": \"\"}}, \"scene\": {\"xaxis\": {\"backgroundcolor\": \"#E5ECF6\", \"gridcolor\": \"white\", \"gridwidth\": 2, \"linecolor\": \"white\", \"showbackground\": true, \"ticks\": \"\", \"zerolinecolor\": \"white\"}, \"yaxis\": {\"backgroundcolor\": \"#E5ECF6\", \"gridcolor\": \"white\", \"gridwidth\": 2, \"linecolor\": \"white\", \"showbackground\": true, \"ticks\": \"\", \"zerolinecolor\": \"white\"}, \"zaxis\": {\"backgroundcolor\": \"#E5ECF6\", \"gridcolor\": \"white\", \"gridwidth\": 2, \"linecolor\": \"white\", \"showbackground\": true, \"ticks\": \"\", \"zerolinecolor\": \"white\"}}, \"shapedefaults\": {\"line\": {\"color\": \"#2a3f5f\"}}, \"ternary\": {\"aaxis\": {\"gridcolor\": \"white\", \"linecolor\": \"white\", \"ticks\": \"\"}, \"baxis\": {\"gridcolor\": \"white\", \"linecolor\": \"white\", \"ticks\": \"\"}, \"bgcolor\": \"#E5ECF6\", \"caxis\": {\"gridcolor\": \"white\", \"linecolor\": \"white\", \"ticks\": \"\"}}, \"title\": {\"x\": 0.05}, \"xaxis\": {\"automargin\": true, \"gridcolor\": \"white\", \"linecolor\": \"white\", \"ticks\": \"\", \"title\": {\"standoff\": 15}, \"zerolinecolor\": \"white\", \"zerolinewidth\": 2}, \"yaxis\": {\"automargin\": true, \"gridcolor\": \"white\", \"linecolor\": \"white\", \"ticks\": \"\", \"title\": {\"standoff\": 15}, \"zerolinecolor\": \"white\", \"zerolinewidth\": 2}}}, \"title\": {\"text\": \"Ratings by Total Percent\"}},\n",
       "                        {\"responsive\": true}\n",
       "                    ).then(function(){\n",
       "                            \n",
       "var gd = document.getElementById('c3c9ce5c-debf-4f06-998f-0d8e2eb81b2d');\n",
       "var x = new MutationObserver(function (mutations, observer) {{\n",
       "        var display = window.getComputedStyle(gd).display;\n",
       "        if (!display || display === 'none') {{\n",
       "            console.log([gd, 'removed!']);\n",
       "            Plotly.purge(gd);\n",
       "            observer.disconnect();\n",
       "        }}\n",
       "}});\n",
       "\n",
       "// Listen for the removal of the full notebook cells\n",
       "var notebookContainer = gd.closest('#notebook-container');\n",
       "if (notebookContainer) {{\n",
       "    x.observe(notebookContainer, {childList: true});\n",
       "}}\n",
       "\n",
       "// Listen for the clearing of the current output cell\n",
       "var outputEl = gd.closest('.output');\n",
       "if (outputEl) {{\n",
       "    x.observe(outputEl, {childList: true});\n",
       "}}\n",
       "\n",
       "                        })\n",
       "                };\n",
       "                });\n",
       "            </script>\n",
       "        </div>"
      ]
     },
     "metadata": {},
     "output_type": "display_data"
    }
   ],
   "source": [
    "values = ratings.rating.value_counts()\n",
    "labels = values.index\n",
    "colors = ['red', 'blue', 'green', 'yellow', 'black']\n",
    "trace = go.Pie(labels=labels, \n",
    "               values=values,\n",
    "                marker=dict(colors=colors) \n",
    "              )\n",
    "layout = go.Layout(title='Ratings by Total Percent')\n",
    "fig = go.Figure(data=trace, layout=layout)\n",
    "iplot(fig)"
   ]
  },
  {
   "cell_type": "markdown",
   "metadata": {},
   "source": [
    "We can see most movies were rated with 4, on a scale of 1 to 5. A fewer movies (compared to the total dataset) were rated with low grades. <br>\n",
    "Let's see which movies were rated most times, taking the 10 most rated."
   ]
  },
  {
   "cell_type": "code",
   "execution_count": 14,
   "metadata": {
    "_kg_hide-input": true,
    "execution": {
     "iopub.execute_input": "2022-05-01T01:41:14.981338Z",
     "iopub.status.busy": "2022-05-01T01:41:14.980964Z",
     "iopub.status.idle": "2022-05-01T01:41:15.811954Z",
     "shell.execute_reply": "2022-05-01T01:41:15.811117Z",
     "shell.execute_reply.started": "2022-05-01T01:41:14.981295Z"
    }
   },
   "outputs": [],
   "source": [
    "df_aux = ratings['movieId'].value_counts().reset_index().head(10).rename(columns={'index': 'movieId', 'movieId': 'count'})\n",
    "df_aux['movieId'] = df_aux['movieId'].astype(str)"
   ]
  },
  {
   "cell_type": "code",
   "execution_count": 15,
   "metadata": {
    "_kg_hide-input": true,
    "execution": {
     "iopub.execute_input": "2022-05-01T01:41:15.81342Z",
     "iopub.status.busy": "2022-05-01T01:41:15.813101Z",
     "iopub.status.idle": "2022-05-01T01:41:15.946811Z",
     "shell.execute_reply": "2022-05-01T01:41:15.946181Z",
     "shell.execute_reply.started": "2022-05-01T01:41:15.813385Z"
    }
   },
   "outputs": [
    {
     "data": {
      "text/html": [
       "\n",
       "    <div id=\"vega-chart\"></div><script>\n",
       "    require([\"vega-embed\"], function(vg_embed) {\n",
       "        const spec = {\"$schema\": \"https://vega.github.io/schema/vega-lite/v4.0.2.json\", \"config\": {\"view\": {\"continuousHeight\": 300, \"continuousWidth\": 400}}, \"data\": {\"name\": \"data-dcff2adc3490b68be3a0e95a168d462e\"}, \"datasets\": {\"data-dcff2adc3490b68be3a0e95a168d462e\": [{\"count\": 91921, \"movieId\": \"356\"}, {\"count\": 91082, \"movieId\": \"318\"}, {\"count\": 87901, \"movieId\": \"296\"}, {\"count\": 84078, \"movieId\": \"593\"}, {\"count\": 77960, \"movieId\": \"2571\"}, {\"count\": 77045, \"movieId\": \"260\"}, {\"count\": 74355, \"movieId\": \"480\"}, {\"count\": 67662, \"movieId\": \"527\"}, {\"count\": 66512, \"movieId\": \"110\"}, {\"count\": 66008, \"movieId\": \"1\"}]}, \"encoding\": {\"tooltip\": [{\"field\": \"movieId\", \"type\": \"nominal\"}, {\"field\": \"count\", \"type\": \"quantitative\"}], \"x\": {\"axis\": {\"title\": \"Movie ID\"}, \"field\": \"movieId\", \"sort\": [\"356\", \"318\", \"296\", \"593\", \"2571\", \"260\", \"480\", \"527\", \"110\", \"1\"], \"type\": \"nominal\"}, \"y\": {\"axis\": {\"title\": \"Total Count\"}, \"field\": \"count\", \"type\": \"quantitative\"}}, \"height\": 300, \"mark\": \"bar\", \"selection\": {\"selector001\": {\"bind\": \"scales\", \"encodings\": [\"x\", \"y\"], \"type\": \"interval\"}}, \"title\": \"Movie Count\", \"width\": 800};     \n",
       "        vg_embed(\"#vega-chart\", spec, {defaultStyle: true}).catch(console.warn);\n",
       "        console.log(\"anything?\");\n",
       "    });\n",
       "    console.log(\"really...anything?\");\n",
       "    </script>\n",
       "    "
      ],
      "text/plain": [
       "<IPython.core.display.HTML object>"
      ]
     },
     "execution_count": 15,
     "metadata": {},
     "output_type": "execute_result"
    }
   ],
   "source": [
    "render(alt.Chart(df_aux).mark_bar().encode(\n",
    "    x=alt.X('movieId:N', axis=alt.Axis(title='Movie ID'), sort=list(df_aux['movieId'].values)),\n",
    "    y=alt.Y('count:Q', axis=alt.Axis(title='Total Count')),\n",
    "    tooltip=['movieId', 'count']\n",
    ").properties(title='Movie Count', height=300, width=800).interactive())"
   ]
  },
  {
   "cell_type": "markdown",
   "metadata": {},
   "source": [
    "Time to discover which movies have this IDs.<br> \n",
    "Let's check the IDs on IMDB and get some info."
   ]
  },
  {
   "cell_type": "code",
   "execution_count": 16,
   "metadata": {
    "_kg_hide-input": true,
    "execution": {
     "iopub.execute_input": "2022-05-01T01:41:15.948937Z",
     "iopub.status.busy": "2022-05-01T01:41:15.948431Z",
     "iopub.status.idle": "2022-05-01T01:41:15.966151Z",
     "shell.execute_reply": "2022-05-01T01:41:15.965369Z",
     "shell.execute_reply.started": "2022-05-01T01:41:15.948876Z"
    }
   },
   "outputs": [],
   "source": [
    "# Get the Movie on metadata\n",
    "def get_movie_metadata(movieId):\n",
    "    metadata['imdb_id'] = metadata['imdb_id'].astype('category')\n",
    "    imdb_id = links[links['movieId'] == movieId]\n",
    "    imdb_id = imdb_id.imdbId.values[0]\n",
    "    if len(str(imdb_id)) == 7:\n",
    "        movie_rated = metadata[metadata['imdb_id'] == 'tt'+imdb_id.astype(str)]\n",
    "        df = movie_rated.loc[:,['title', 'overview', 'vote_average', 'release_date']]\n",
    "        return df.reset_index(drop=True)\n",
    "    elif len(str(imdb_id)) == 6:\n",
    "        movie_rated = metadata[metadata['imdb_id'] == 'tt0'+imdb_id.astype(str)]\n",
    "        df = movie_rated.loc[:,['title', 'overview', 'vote_average', 'release_date']]\n",
    "        return df.reset_index(drop=True)\n",
    "    elif len(str(imdb_id)) == 5:\n",
    "        movie_rated = metadata[metadata['imdb_id'] == 'tt00'+imdb_id.astype(str)]\n",
    "        df = movie_rated.loc[:,['title', 'overview', 'vote_average', 'release_date']]\n",
    "        return df.reset_index(drop=True)\n",
    "    elif len(str(imdb_id)) == 4:\n",
    "        movie_rated = metadata[metadata['imdb_id'] == 'tt000'+imdb_id.astype(str)]\n",
    "        df = movie_rated.loc[:,['title', 'overview', 'vote_average', 'release_date']]\n",
    "        return df.reset_index(drop=True)\n",
    "    elif len(str(imdb_id)) == 3:\n",
    "        movie_rated = metadata[metadata['imdb_id'] == 'tt0000'+imdb_id.astype(str)]\n",
    "        df = movie_rated.loc[:,['title', 'overview', 'vote_average', 'release_date']]\n",
    "        return df.reset_index(drop=True)\n",
    "    elif len(str(imdb_id)) == 2:\n",
    "        movie_rated = metadata[metadata['imdb_id'] == 'tt00000'+imdb_id.astype(str)]\n",
    "        df = movie_rated.loc[:,['title', 'overview', 'vote_average', 'release_date']]\n",
    "        return df.reset_index(drop=True)\n",
    "    elif len(str(imdb_id)) == 1:\n",
    "        movie_rated = metadata[metadata['imdb_id'] == 'tt000000'+imdb_id.astype(str)]\n",
    "        df = movie_rated.loc[:,['title', 'overview', 'vote_average', 'release_date']]\n",
    "        return df.reset_index(drop=True)\n",
    "    else:\n",
    "        pass\n",
    "# Get Movie List\n",
    "def get_movie(df):\n",
    "    movieIdIdx = df['movieId'].values.astype(int)\n",
    "    df_aux_b = pd.DataFrame({'title': ['aaa'], \n",
    "                           'overview': ['bbb'], \n",
    "                           'vote_average': [1.7], \n",
    "                           'release_date': ['1999-01-01']\n",
    "        })\n",
    "    for i in movieIdIdx:\n",
    "        df_aux_b = df_aux_b.append(get_movie_metadata(i), ignore_index=True)\n",
    "\n",
    "    df_aux_b.drop(0, inplace=True)\n",
    "    df_aux_b['release_date'] = df_aux_b['release_date'].apply(lambda x : x.split('-')[0])\n",
    "    df_aux_b['release_date'] = df_aux_b['release_date'].astype(int)\n",
    "    df_aux_b.rename(columns={'release_date' : 'release_year'}, inplace=True)\n",
    "    return df_aux_b.reset_index(drop=True)"
   ]
  },
  {
   "cell_type": "code",
   "execution_count": 17,
   "metadata": {
    "_kg_hide-input": true,
    "execution": {
     "iopub.execute_input": "2022-05-01T01:41:15.967889Z",
     "iopub.status.busy": "2022-05-01T01:41:15.967439Z",
     "iopub.status.idle": "2022-05-01T01:41:16.112593Z",
     "shell.execute_reply": "2022-05-01T01:41:16.11167Z",
     "shell.execute_reply.started": "2022-05-01T01:41:15.967848Z"
    }
   },
   "outputs": [
    {
     "data": {
      "text/html": [
       "<div>\n",
       "<style scoped>\n",
       "    .dataframe tbody tr th:only-of-type {\n",
       "        vertical-align: middle;\n",
       "    }\n",
       "\n",
       "    .dataframe tbody tr th {\n",
       "        vertical-align: top;\n",
       "    }\n",
       "\n",
       "    .dataframe thead th {\n",
       "        text-align: right;\n",
       "    }\n",
       "</style>\n",
       "<table border=\"1\" class=\"dataframe\">\n",
       "  <thead>\n",
       "    <tr style=\"text-align: right;\">\n",
       "      <th></th>\n",
       "      <th>title</th>\n",
       "      <th>overview</th>\n",
       "      <th>vote_average</th>\n",
       "      <th>release_year</th>\n",
       "    </tr>\n",
       "  </thead>\n",
       "  <tbody>\n",
       "    <tr>\n",
       "      <th>0</th>\n",
       "      <td>Forrest Gump</td>\n",
       "      <td>A man with a low IQ has accomplished great thi...</td>\n",
       "      <td>8.2</td>\n",
       "      <td>1994</td>\n",
       "    </tr>\n",
       "    <tr>\n",
       "      <th>1</th>\n",
       "      <td>The Shawshank Redemption</td>\n",
       "      <td>Framed in the 1940s for the double murder of h...</td>\n",
       "      <td>8.5</td>\n",
       "      <td>1994</td>\n",
       "    </tr>\n",
       "    <tr>\n",
       "      <th>2</th>\n",
       "      <td>Pulp Fiction</td>\n",
       "      <td>A burger-loving hit man, his philosophical par...</td>\n",
       "      <td>8.3</td>\n",
       "      <td>1994</td>\n",
       "    </tr>\n",
       "    <tr>\n",
       "      <th>3</th>\n",
       "      <td>The Silence of the Lambs</td>\n",
       "      <td>FBI trainee, Clarice Starling ventures into a ...</td>\n",
       "      <td>8.1</td>\n",
       "      <td>1991</td>\n",
       "    </tr>\n",
       "    <tr>\n",
       "      <th>4</th>\n",
       "      <td>The Matrix</td>\n",
       "      <td>Set in the 22nd century, The Matrix tells the ...</td>\n",
       "      <td>7.9</td>\n",
       "      <td>1999</td>\n",
       "    </tr>\n",
       "    <tr>\n",
       "      <th>5</th>\n",
       "      <td>Star Wars</td>\n",
       "      <td>Princess Leia is captured and held hostage by ...</td>\n",
       "      <td>8.1</td>\n",
       "      <td>1977</td>\n",
       "    </tr>\n",
       "    <tr>\n",
       "      <th>6</th>\n",
       "      <td>Jurassic Park</td>\n",
       "      <td>A wealthy entrepreneur secretly creates a them...</td>\n",
       "      <td>7.6</td>\n",
       "      <td>1993</td>\n",
       "    </tr>\n",
       "    <tr>\n",
       "      <th>7</th>\n",
       "      <td>Schindler's List</td>\n",
       "      <td>The true story of how businessman Oskar Schind...</td>\n",
       "      <td>8.3</td>\n",
       "      <td>1993</td>\n",
       "    </tr>\n",
       "    <tr>\n",
       "      <th>8</th>\n",
       "      <td>Braveheart</td>\n",
       "      <td>Enraged at the slaughter of Murron, his new br...</td>\n",
       "      <td>7.7</td>\n",
       "      <td>1995</td>\n",
       "    </tr>\n",
       "    <tr>\n",
       "      <th>9</th>\n",
       "      <td>Toy Story</td>\n",
       "      <td>Led by Woody, Andy's toys live happily in his ...</td>\n",
       "      <td>7.7</td>\n",
       "      <td>1995</td>\n",
       "    </tr>\n",
       "  </tbody>\n",
       "</table>\n",
       "</div>"
      ],
      "text/plain": [
       "                      title  \\\n",
       "0              Forrest Gump   \n",
       "1  The Shawshank Redemption   \n",
       "2              Pulp Fiction   \n",
       "3  The Silence of the Lambs   \n",
       "4                The Matrix   \n",
       "5                 Star Wars   \n",
       "6             Jurassic Park   \n",
       "7          Schindler's List   \n",
       "8                Braveheart   \n",
       "9                 Toy Story   \n",
       "\n",
       "                                            overview  vote_average  \\\n",
       "0  A man with a low IQ has accomplished great thi...           8.2   \n",
       "1  Framed in the 1940s for the double murder of h...           8.5   \n",
       "2  A burger-loving hit man, his philosophical par...           8.3   \n",
       "3  FBI trainee, Clarice Starling ventures into a ...           8.1   \n",
       "4  Set in the 22nd century, The Matrix tells the ...           7.9   \n",
       "5  Princess Leia is captured and held hostage by ...           8.1   \n",
       "6  A wealthy entrepreneur secretly creates a them...           7.6   \n",
       "7  The true story of how businessman Oskar Schind...           8.3   \n",
       "8  Enraged at the slaughter of Murron, his new br...           7.7   \n",
       "9  Led by Woody, Andy's toys live happily in his ...           7.7   \n",
       "\n",
       "   release_year  \n",
       "0          1994  \n",
       "1          1994  \n",
       "2          1994  \n",
       "3          1991  \n",
       "4          1999  \n",
       "5          1977  \n",
       "6          1993  \n",
       "7          1993  \n",
       "8          1995  \n",
       "9          1995  "
      ]
     },
     "execution_count": 17,
     "metadata": {},
     "output_type": "execute_result"
    }
   ],
   "source": [
    "df_movies = get_movie(df_aux)\n",
    "df_movies"
   ]
  },
  {
   "cell_type": "markdown",
   "metadata": {},
   "source": [
    "\n",
    "Another curious information is that in the most rated movies, none have a rate above 9.0.<br>\n",
    "Let's expand it, let's get all the 1000 most rated movies and examine what words are frequent in they overviews."
   ]
  },
  {
   "cell_type": "code",
   "execution_count": 18,
   "metadata": {
    "_kg_hide-input": true,
    "execution": {
     "iopub.execute_input": "2022-05-01T01:41:16.114185Z",
     "iopub.status.busy": "2022-05-01T01:41:16.113922Z",
     "iopub.status.idle": "2022-05-01T01:41:21.782781Z",
     "shell.execute_reply": "2022-05-01T01:41:21.781995Z",
     "shell.execute_reply.started": "2022-05-01T01:41:16.114157Z"
    }
   },
   "outputs": [
    {
     "data": {
      "text/html": [
       "<div>\n",
       "<style scoped>\n",
       "    .dataframe tbody tr th:only-of-type {\n",
       "        vertical-align: middle;\n",
       "    }\n",
       "\n",
       "    .dataframe tbody tr th {\n",
       "        vertical-align: top;\n",
       "    }\n",
       "\n",
       "    .dataframe thead th {\n",
       "        text-align: right;\n",
       "    }\n",
       "</style>\n",
       "<table border=\"1\" class=\"dataframe\">\n",
       "  <thead>\n",
       "    <tr style=\"text-align: right;\">\n",
       "      <th></th>\n",
       "      <th>title</th>\n",
       "      <th>overview</th>\n",
       "      <th>vote_average</th>\n",
       "      <th>release_year</th>\n",
       "    </tr>\n",
       "  </thead>\n",
       "  <tbody>\n",
       "    <tr>\n",
       "      <th>0</th>\n",
       "      <td>Forrest Gump</td>\n",
       "      <td>A man with a low IQ has accomplished great thi...</td>\n",
       "      <td>8.2</td>\n",
       "      <td>1994</td>\n",
       "    </tr>\n",
       "    <tr>\n",
       "      <th>1</th>\n",
       "      <td>The Shawshank Redemption</td>\n",
       "      <td>Framed in the 1940s for the double murder of h...</td>\n",
       "      <td>8.5</td>\n",
       "      <td>1994</td>\n",
       "    </tr>\n",
       "    <tr>\n",
       "      <th>2</th>\n",
       "      <td>Pulp Fiction</td>\n",
       "      <td>A burger-loving hit man, his philosophical par...</td>\n",
       "      <td>8.3</td>\n",
       "      <td>1994</td>\n",
       "    </tr>\n",
       "  </tbody>\n",
       "</table>\n",
       "</div>"
      ],
      "text/plain": [
       "                      title  \\\n",
       "0              Forrest Gump   \n",
       "1  The Shawshank Redemption   \n",
       "2              Pulp Fiction   \n",
       "\n",
       "                                            overview  vote_average  \\\n",
       "0  A man with a low IQ has accomplished great thi...           8.2   \n",
       "1  Framed in the 1940s for the double murder of h...           8.5   \n",
       "2  A burger-loving hit man, his philosophical par...           8.3   \n",
       "\n",
       "   release_year  \n",
       "0          1994  \n",
       "1          1994  \n",
       "2          1994  "
      ]
     },
     "metadata": {},
     "output_type": "display_data"
    },
    {
     "data": {
      "text/plain": [
       "'Number of Rows: 1000, Number of Columns: 4'"
      ]
     },
     "metadata": {},
     "output_type": "display_data"
    },
    {
     "data": {
      "text/plain": [
       "'Data Types'"
      ]
     },
     "metadata": {},
     "output_type": "display_data"
    },
    {
     "data": {
      "text/html": [
       "<div>\n",
       "<style scoped>\n",
       "    .dataframe tbody tr th:only-of-type {\n",
       "        vertical-align: middle;\n",
       "    }\n",
       "\n",
       "    .dataframe tbody tr th {\n",
       "        vertical-align: top;\n",
       "    }\n",
       "\n",
       "    .dataframe thead th {\n",
       "        text-align: right;\n",
       "    }\n",
       "</style>\n",
       "<table border=\"1\" class=\"dataframe\">\n",
       "  <thead>\n",
       "    <tr style=\"text-align: right;\">\n",
       "      <th></th>\n",
       "      <th>Column</th>\n",
       "      <th>Type</th>\n",
       "    </tr>\n",
       "  </thead>\n",
       "  <tbody>\n",
       "    <tr>\n",
       "      <th>0</th>\n",
       "      <td>title</td>\n",
       "      <td>object</td>\n",
       "    </tr>\n",
       "    <tr>\n",
       "      <th>1</th>\n",
       "      <td>overview</td>\n",
       "      <td>object</td>\n",
       "    </tr>\n",
       "    <tr>\n",
       "      <th>2</th>\n",
       "      <td>vote_average</td>\n",
       "      <td>float64</td>\n",
       "    </tr>\n",
       "    <tr>\n",
       "      <th>3</th>\n",
       "      <td>release_year</td>\n",
       "      <td>int64</td>\n",
       "    </tr>\n",
       "  </tbody>\n",
       "</table>\n",
       "</div>"
      ],
      "text/plain": [
       "         Column     Type\n",
       "0         title   object\n",
       "1      overview   object\n",
       "2  vote_average  float64\n",
       "3  release_year    int64"
      ]
     },
     "metadata": {},
     "output_type": "display_data"
    },
    {
     "data": {
      "text/plain": [
       "'memory usage: 31.4+ KB'"
      ]
     },
     "metadata": {},
     "output_type": "display_data"
    },
    {
     "data": {
      "text/plain": [
       "'Missing Values'"
      ]
     },
     "metadata": {},
     "output_type": "display_data"
    },
    {
     "data": {
      "text/plain": [
       "'No Missing Values'"
      ]
     },
     "metadata": {},
     "output_type": "display_data"
    }
   ],
   "source": [
    "df_aux = ratings['movieId'].value_counts().reset_index().head(1001).rename(columns={'index': 'movieId', 'movieId': 'count'})\n",
    "df_aux['movieId'] = df_aux['movieId'].astype(str)\n",
    "df_aux = get_movie(df_aux)\n",
    "get_df_info(df_aux)"
   ]
  },
  {
   "cell_type": "markdown",
   "metadata": {},
   "source": [
    "Time to use Natural Language Processing (NLP) with NLTK module and transform everything in overview for lower case, word tokens and remove stopwords and make the Word Cloud."
   ]
  },
  {
   "cell_type": "code",
   "execution_count": 19,
   "metadata": {
    "_kg_hide-input": true,
    "execution": {
     "iopub.execute_input": "2022-05-01T01:41:21.784597Z",
     "iopub.status.busy": "2022-05-01T01:41:21.784278Z",
     "iopub.status.idle": "2022-05-01T01:41:30.525675Z",
     "shell.execute_reply": "2022-05-01T01:41:30.522687Z",
     "shell.execute_reply.started": "2022-05-01T01:41:21.784558Z"
    }
   },
   "outputs": [
    {
     "data": {
      "image/svg+xml": [
       "<?xml version=\"1.0\" encoding=\"utf-8\" standalone=\"no\"?>\n",
       "<!DOCTYPE svg PUBLIC \"-//W3C//DTD SVG 1.1//EN\"\n",
       "  \"http://www.w3.org/Graphics/SVG/1.1/DTD/svg11.dtd\">\n",
       "<!-- Created with matplotlib (https://matplotlib.org/) -->\n",
       "<svg height=\"582.117187pt\" version=\"1.1\" viewBox=\"0 0 558 582.117187\" width=\"558pt\" xmlns=\"http://www.w3.org/2000/svg\" xmlns:xlink=\"http://www.w3.org/1999/xlink\">\n",
       " <defs>\n",
       "  <style type=\"text/css\">\n",
       "*{stroke-linecap:butt;stroke-linejoin:round;}\n",
       "  </style>\n",
       " </defs>\n",
       " <g id=\"figure_1\">\n",
       "  <g id=\"patch_1\">\n",
       "   <path d=\"M 0 582.117187 \n",
       "L 558 582.117187 \n",
       "L 558 0 \n",
       "L 0 0 \n",
       "z\n",
       "\" style=\"fill:#ffffff;\"/>\n",
       "  </g>\n",
       "  <g id=\"axes_1\">\n",
       "   <g clip-path=\"url(#pef27ec74f1)\">\n",
       "    <image height=\"544\" id=\"imagea7800f9dec\" transform=\"scale(1 -1)translate(0 -544)\" width=\"544\" x=\"7.2\" xlink:href=\"data:image/png;base64,\n",
       "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\" y=\"-30.917187\"/>\n",
       "   </g>\n",
       "   <g id=\"text_1\">\n",
       "    <!-- Most Frequent words in TOP 1000 rated movies -->\n",
       "    <defs>\n",
       "     <path d=\"M 66.703125 0 \n",
       "L 66.703125 45.90625 \n",
       "Q 66.703125 48.390625 66.75 50.96875 \n",
       "Q 66.796875 53.5625 66.890625 55.71875 \n",
       "Q 67 58.203125 67.140625 60.546875 \n",
       "Q 66.453125 58.0625 65.71875 55.609375 \n",
       "Q 65.09375 53.515625 64.328125 51.140625 \n",
       "Q 63.578125 48.78125 62.84375 46.875 \n",
       "L 45.0625 0 \n",
       "L 38.53125 0 \n",
       "L 20.515625 46.875 \n",
       "Q 20.21875 47.609375 19.890625 48.578125 \n",
       "Q 19.578125 49.5625 19.203125 50.65625 \n",
       "Q 18.84375 51.765625 18.46875 52.90625 \n",
       "Q 18.109375 54.046875 17.78125 55.171875 \n",
       "Q 16.9375 57.765625 16.15625 60.546875 \n",
       "Q 16.21875 57.8125 16.3125 55.125 \n",
       "Q 16.40625 52.828125 16.453125 50.3125 \n",
       "Q 16.5 47.796875 16.5 45.90625 \n",
       "L 16.5 0 \n",
       "L 8.203125 0 \n",
       "L 8.203125 68.796875 \n",
       "L 20.453125 68.796875 \n",
       "L 38.765625 21.09375 \n",
       "Q 39.109375 20.125 39.59375 18.578125 \n",
       "Q 40.09375 17.046875 40.53125 15.421875 \n",
       "Q 40.96875 13.8125 41.328125 12.375 \n",
       "Q 41.703125 10.9375 41.84375 10.15625 \n",
       "Q 42 10.9375 42.390625 12.40625 \n",
       "Q 42.78125 13.875 43.28125 15.484375 \n",
       "Q 43.796875 17.09375 44.28125 18.609375 \n",
       "Q 44.78125 20.125 45.171875 21.09375 \n",
       "L 63.140625 68.796875 \n",
       "L 75.09375 68.796875 \n",
       "L 75.09375 0 \n",
       "z\n",
       "\" id=\"LiberationSans-77\"/>\n",
       "     <path d=\"M 51.421875 26.46875 \n",
       "Q 51.421875 12.59375 45.3125 5.796875 \n",
       "Q 39.203125 -0.984375 27.59375 -0.984375 \n",
       "Q 22.078125 -0.984375 17.71875 0.671875 \n",
       "Q 13.375 2.34375 10.375 5.765625 \n",
       "Q 7.375 9.1875 5.78125 14.328125 \n",
       "Q 4.203125 19.484375 4.203125 26.46875 \n",
       "Q 4.203125 53.8125 27.875 53.8125 \n",
       "Q 34.03125 53.8125 38.5 52.09375 \n",
       "Q 42.96875 50.390625 45.828125 46.96875 \n",
       "Q 48.6875 43.5625 50.046875 38.421875 \n",
       "Q 51.421875 33.296875 51.421875 26.46875 \n",
       "z\n",
       "M 42.1875 26.46875 \n",
       "Q 42.1875 32.625 41.234375 36.625 \n",
       "Q 40.28125 40.625 38.453125 43.015625 \n",
       "Q 36.625 45.40625 33.984375 46.359375 \n",
       "Q 31.34375 47.3125 28.03125 47.3125 \n",
       "Q 24.65625 47.3125 21.9375 46.3125 \n",
       "Q 19.234375 45.3125 17.328125 42.890625 \n",
       "Q 15.4375 40.484375 14.421875 36.46875 \n",
       "Q 13.421875 32.46875 13.421875 26.46875 \n",
       "Q 13.421875 20.3125 14.5 16.28125 \n",
       "Q 15.578125 12.25 17.453125 9.859375 \n",
       "Q 19.34375 7.46875 21.90625 6.484375 \n",
       "Q 24.46875 5.515625 27.484375 5.515625 \n",
       "Q 30.859375 5.515625 33.59375 6.46875 \n",
       "Q 36.328125 7.421875 38.234375 9.8125 \n",
       "Q 40.140625 12.203125 41.15625 16.25 \n",
       "Q 42.1875 20.3125 42.1875 26.46875 \n",
       "z\n",
       "\" id=\"LiberationSans-111\"/>\n",
       "     <path d=\"M 46.390625 14.59375 \n",
       "Q 46.390625 10.890625 44.9375 7.984375 \n",
       "Q 43.5 5.078125 40.765625 3.09375 \n",
       "Q 38.03125 1.125 34.046875 0.0625 \n",
       "Q 30.078125 -0.984375 24.953125 -0.984375 \n",
       "Q 20.359375 -0.984375 16.671875 -0.265625 \n",
       "Q 12.984375 0.4375 10.203125 2 \n",
       "Q 7.421875 3.5625 5.53125 6.125 \n",
       "Q 3.65625 8.6875 2.78125 12.40625 \n",
       "L 10.546875 13.921875 \n",
       "Q 11.671875 9.671875 15.1875 7.6875 \n",
       "Q 18.703125 5.71875 24.953125 5.71875 \n",
       "Q 27.78125 5.71875 30.140625 6.109375 \n",
       "Q 32.515625 6.5 34.21875 7.453125 \n",
       "Q 35.9375 8.40625 36.890625 9.984375 \n",
       "Q 37.84375 11.578125 37.84375 13.921875 \n",
       "Q 37.84375 16.3125 36.71875 17.84375 \n",
       "Q 35.59375 19.390625 33.59375 20.40625 \n",
       "Q 31.59375 21.4375 28.734375 22.1875 \n",
       "Q 25.875 22.953125 22.46875 23.875 \n",
       "Q 19.28125 24.703125 16.15625 25.734375 \n",
       "Q 13.03125 26.765625 10.515625 28.4375 \n",
       "Q 8.015625 30.125 6.453125 32.609375 \n",
       "Q 4.890625 35.109375 4.890625 38.875 \n",
       "Q 4.890625 46.09375 10.03125 49.875 \n",
       "Q 15.1875 53.65625 25.046875 53.65625 \n",
       "Q 33.796875 53.65625 38.9375 50.578125 \n",
       "Q 44.09375 47.515625 45.453125 40.71875 \n",
       "L 37.546875 39.75 \n",
       "Q 37.109375 41.796875 35.9375 43.1875 \n",
       "Q 34.765625 44.578125 33.109375 45.4375 \n",
       "Q 31.453125 46.296875 29.375 46.65625 \n",
       "Q 27.296875 47.015625 25.046875 47.015625 \n",
       "Q 19.09375 47.015625 16.25 45.203125 \n",
       "Q 13.421875 43.40625 13.421875 39.75 \n",
       "Q 13.421875 37.59375 14.46875 36.203125 \n",
       "Q 15.53125 34.8125 17.40625 33.859375 \n",
       "Q 19.28125 32.90625 21.921875 32.203125 \n",
       "Q 24.5625 31.5 27.734375 30.71875 \n",
       "Q 29.828125 30.171875 32.03125 29.5625 \n",
       "Q 34.234375 28.953125 36.296875 28.09375 \n",
       "Q 38.375 27.25 40.203125 26.09375 \n",
       "Q 42.046875 24.953125 43.40625 23.34375 \n",
       "Q 44.78125 21.734375 45.578125 19.578125 \n",
       "Q 46.390625 17.4375 46.390625 14.59375 \n",
       "z\n",
       "\" id=\"LiberationSans-115\"/>\n",
       "     <path d=\"M 27.046875 0.390625 \n",
       "Q 25.046875 -0.140625 22.96875 -0.453125 \n",
       "Q 20.90625 -0.78125 18.171875 -0.78125 \n",
       "Q 7.625 -0.78125 7.625 11.1875 \n",
       "L 7.625 46.4375 \n",
       "L 1.515625 46.4375 \n",
       "L 1.515625 52.828125 \n",
       "L 7.953125 52.828125 \n",
       "L 10.546875 64.65625 \n",
       "L 16.40625 64.65625 \n",
       "L 16.40625 52.828125 \n",
       "L 26.171875 52.828125 \n",
       "L 26.171875 46.4375 \n",
       "L 16.40625 46.4375 \n",
       "L 16.40625 13.09375 \n",
       "Q 16.40625 9.28125 17.640625 7.734375 \n",
       "Q 18.890625 6.203125 21.96875 6.203125 \n",
       "Q 23.25 6.203125 24.4375 6.390625 \n",
       "Q 25.640625 6.59375 27.046875 6.890625 \n",
       "z\n",
       "\" id=\"LiberationSans-116\"/>\n",
       "     <path id=\"LiberationSans-32\"/>\n",
       "     <path d=\"M 17.53125 61.1875 \n",
       "L 17.53125 35.59375 \n",
       "L 55.90625 35.59375 \n",
       "L 55.90625 27.875 \n",
       "L 17.53125 27.875 \n",
       "L 17.53125 0 \n",
       "L 8.203125 0 \n",
       "L 8.203125 68.796875 \n",
       "L 57.078125 68.796875 \n",
       "L 57.078125 61.1875 \n",
       "z\n",
       "\" id=\"LiberationSans-70\"/>\n",
       "     <path d=\"M 6.9375 0 \n",
       "L 6.9375 40.53125 \n",
       "Q 6.9375 42.1875 6.90625 43.921875 \n",
       "Q 6.890625 45.65625 6.828125 47.265625 \n",
       "Q 6.78125 48.875 6.734375 50.28125 \n",
       "Q 6.6875 51.703125 6.640625 52.828125 \n",
       "L 14.9375 52.828125 \n",
       "Q 14.984375 51.703125 15.0625 50.265625 \n",
       "Q 15.140625 48.828125 15.203125 47.3125 \n",
       "Q 15.28125 45.796875 15.296875 44.40625 \n",
       "Q 15.328125 43.015625 15.328125 42.046875 \n",
       "L 15.53125 42.046875 \n",
       "Q 16.453125 45.0625 17.5 47.28125 \n",
       "Q 18.5625 49.515625 19.96875 50.953125 \n",
       "Q 21.390625 52.390625 23.34375 53.09375 \n",
       "Q 25.296875 53.8125 28.078125 53.8125 \n",
       "Q 29.15625 53.8125 30.125 53.640625 \n",
       "Q 31.109375 53.46875 31.640625 53.328125 \n",
       "L 31.640625 45.265625 \n",
       "Q 30.765625 45.515625 29.59375 45.625 \n",
       "Q 28.421875 45.75 26.953125 45.75 \n",
       "Q 23.921875 45.75 21.796875 44.375 \n",
       "Q 19.671875 43.015625 18.328125 40.59375 \n",
       "Q 17 38.1875 16.359375 34.84375 \n",
       "Q 15.71875 31.5 15.71875 27.546875 \n",
       "L 15.71875 0 \n",
       "z\n",
       "\" id=\"LiberationSans-114\"/>\n",
       "     <path d=\"M 13.484375 24.5625 \n",
       "Q 13.484375 20.40625 14.328125 16.90625 \n",
       "Q 15.1875 13.421875 16.96875 10.90625 \n",
       "Q 18.75 8.40625 21.53125 7 \n",
       "Q 24.3125 5.609375 28.21875 5.609375 \n",
       "Q 33.9375 5.609375 37.375 7.90625 \n",
       "Q 40.828125 10.203125 42.046875 13.71875 \n",
       "L 49.75 11.53125 \n",
       "Q 48.921875 9.328125 47.4375 7.109375 \n",
       "Q 45.953125 4.890625 43.453125 3.09375 \n",
       "Q 40.96875 1.3125 37.234375 0.15625 \n",
       "Q 33.5 -0.984375 28.21875 -0.984375 \n",
       "Q 16.5 -0.984375 10.375 6 \n",
       "Q 4.25 12.984375 4.25 26.765625 \n",
       "Q 4.25 34.1875 6.09375 39.328125 \n",
       "Q 7.953125 44.484375 11.171875 47.703125 \n",
       "Q 14.40625 50.921875 18.703125 52.359375 \n",
       "Q 23 53.8125 27.875 53.8125 \n",
       "Q 34.515625 53.8125 38.984375 51.65625 \n",
       "Q 43.453125 49.515625 46.15625 45.71875 \n",
       "Q 48.875 41.9375 50.015625 36.8125 \n",
       "Q 51.171875 31.6875 51.171875 25.734375 \n",
       "L 51.171875 24.5625 \n",
       "z\n",
       "M 42.09375 31.296875 \n",
       "Q 41.359375 39.65625 37.84375 43.484375 \n",
       "Q 34.328125 47.3125 27.734375 47.3125 \n",
       "Q 25.53125 47.3125 23.109375 46.609375 \n",
       "Q 20.703125 45.90625 18.65625 44.09375 \n",
       "Q 16.609375 42.28125 15.1875 39.171875 \n",
       "Q 13.765625 36.078125 13.578125 31.296875 \n",
       "z\n",
       "\" id=\"LiberationSans-101\"/>\n",
       "     <path d=\"M 23.640625 -0.984375 \n",
       "Q 13.578125 -0.984375 8.890625 5.796875 \n",
       "Q 4.203125 12.59375 4.203125 26.171875 \n",
       "Q 4.203125 39.9375 9 46.875 \n",
       "Q 13.8125 53.8125 23.640625 53.8125 \n",
       "Q 26.90625 53.8125 29.421875 53.21875 \n",
       "Q 31.9375 52.640625 33.90625 51.484375 \n",
       "Q 35.890625 50.34375 37.375 48.625 \n",
       "Q 38.875 46.921875 40.09375 44.625 \n",
       "L 40.1875 44.625 \n",
       "Q 40.1875 45.84375 40.25 47.328125 \n",
       "Q 40.328125 48.828125 40.40625 50.140625 \n",
       "Q 40.484375 51.46875 40.578125 52.421875 \n",
       "Q 40.671875 53.375 40.765625 53.515625 \n",
       "L 49.21875 53.515625 \n",
       "Q 49.125 52.6875 49 49.171875 \n",
       "Q 48.875 45.65625 48.875 39.109375 \n",
       "L 48.875 -20.75 \n",
       "L 40.09375 -20.75 \n",
       "L 40.09375 0.6875 \n",
       "Q 40.09375 1.953125 40.109375 3.3125 \n",
       "Q 40.140625 4.6875 40.1875 5.90625 \n",
       "Q 40.234375 7.28125 40.28125 8.6875 \n",
       "L 40.1875 8.6875 \n",
       "Q 38.921875 6.203125 37.375 4.375 \n",
       "Q 35.84375 2.546875 33.84375 1.34375 \n",
       "Q 31.84375 0.140625 29.328125 -0.421875 \n",
       "Q 26.8125 -0.984375 23.640625 -0.984375 \n",
       "z\n",
       "M 40.09375 27.046875 \n",
       "Q 40.09375 32.8125 39.09375 36.71875 \n",
       "Q 38.09375 40.625 36.25 42.96875 \n",
       "Q 34.421875 45.3125 31.8125 46.3125 \n",
       "Q 29.203125 47.3125 25.984375 47.3125 \n",
       "Q 22.609375 47.3125 20.21875 46.0625 \n",
       "Q 17.828125 44.828125 16.328125 42.265625 \n",
       "Q 14.84375 39.703125 14.125 35.765625 \n",
       "Q 13.421875 31.84375 13.421875 26.46875 \n",
       "Q 13.421875 21.1875 14.078125 17.28125 \n",
       "Q 14.75 13.375 16.234375 10.828125 \n",
       "Q 17.71875 8.296875 20.09375 7.046875 \n",
       "Q 22.46875 5.8125 25.875 5.8125 \n",
       "Q 28.8125 5.8125 31.390625 6.71875 \n",
       "Q 33.984375 7.625 35.90625 9.984375 \n",
       "Q 37.84375 12.359375 38.96875 16.484375 \n",
       "Q 40.09375 20.609375 40.09375 27.046875 \n",
       "z\n",
       "\" id=\"LiberationSans-113\"/>\n",
       "     <path d=\"M 15.328125 52.828125 \n",
       "L 15.328125 19.34375 \n",
       "Q 15.328125 15.484375 15.890625 12.890625 \n",
       "Q 16.453125 10.296875 17.71875 8.703125 \n",
       "Q 19 7.125 21.0625 6.46875 \n",
       "Q 23.140625 5.8125 26.21875 5.8125 \n",
       "Q 29.34375 5.8125 31.859375 6.90625 \n",
       "Q 34.375 8.015625 36.15625 10.078125 \n",
       "Q 37.9375 12.15625 38.90625 15.203125 \n",
       "Q 39.890625 18.265625 39.890625 22.21875 \n",
       "L 39.890625 52.828125 \n",
       "L 48.6875 52.828125 \n",
       "L 48.6875 11.28125 \n",
       "Q 48.6875 9.625 48.703125 7.78125 \n",
       "Q 48.734375 5.953125 48.78125 4.3125 \n",
       "Q 48.828125 2.6875 48.875 1.515625 \n",
       "Q 48.921875 0.34375 48.96875 0 \n",
       "L 40.671875 0 \n",
       "Q 40.625 0.25 40.578125 1.3125 \n",
       "Q 40.53125 2.390625 40.453125 3.78125 \n",
       "Q 40.375 5.171875 40.328125 6.609375 \n",
       "Q 40.28125 8.0625 40.28125 9.03125 \n",
       "L 40.140625 9.03125 \n",
       "Q 38.875 6.734375 37.359375 4.875 \n",
       "Q 35.84375 3.03125 33.84375 1.734375 \n",
       "Q 31.84375 0.4375 29.25 -0.265625 \n",
       "Q 26.65625 -0.984375 23.25 -0.984375 \n",
       "Q 18.84375 -0.984375 15.671875 0.09375 \n",
       "Q 12.5 1.171875 10.453125 3.421875 \n",
       "Q 8.40625 5.671875 7.453125 9.1875 \n",
       "Q 6.5 12.703125 6.5 17.625 \n",
       "L 6.5 52.828125 \n",
       "z\n",
       "\" id=\"LiberationSans-117\"/>\n",
       "     <path d=\"M 40.28125 0 \n",
       "L 40.28125 33.5 \n",
       "Q 40.28125 37.359375 39.71875 39.9375 \n",
       "Q 39.15625 42.53125 37.890625 44.109375 \n",
       "Q 36.625 45.703125 34.546875 46.359375 \n",
       "Q 32.46875 47.015625 29.390625 47.015625 \n",
       "Q 26.265625 47.015625 23.75 45.921875 \n",
       "Q 21.234375 44.828125 19.453125 42.75 \n",
       "Q 17.671875 40.671875 16.6875 37.625 \n",
       "Q 15.71875 34.578125 15.71875 30.609375 \n",
       "L 15.71875 0 \n",
       "L 6.9375 0 \n",
       "L 6.9375 41.546875 \n",
       "Q 6.9375 43.21875 6.90625 45.046875 \n",
       "Q 6.890625 46.875 6.828125 48.5 \n",
       "Q 6.78125 50.140625 6.734375 51.3125 \n",
       "Q 6.6875 52.484375 6.640625 52.828125 \n",
       "L 14.9375 52.828125 \n",
       "Q 14.984375 52.59375 15.03125 51.515625 \n",
       "Q 15.09375 50.4375 15.15625 49.046875 \n",
       "Q 15.234375 47.65625 15.28125 46.21875 \n",
       "Q 15.328125 44.78125 15.328125 43.796875 \n",
       "L 15.484375 43.796875 \n",
       "Q 16.75 46.09375 18.265625 47.953125 \n",
       "Q 19.78125 49.8125 21.78125 51.09375 \n",
       "Q 23.78125 52.390625 26.359375 53.09375 \n",
       "Q 28.953125 53.8125 32.375 53.8125 \n",
       "Q 36.765625 53.8125 39.9375 52.734375 \n",
       "Q 43.109375 51.65625 45.15625 49.40625 \n",
       "Q 47.21875 47.171875 48.171875 43.625 \n",
       "Q 49.125 40.09375 49.125 35.203125 \n",
       "L 49.125 0 \n",
       "z\n",
       "\" id=\"LiberationSans-110\"/>\n",
       "     <path d=\"M 57.328125 0 \n",
       "L 47.125 0 \n",
       "L 38.671875 34.078125 \n",
       "Q 38.28125 35.40625 37.859375 37.359375 \n",
       "Q 37.453125 39.3125 37.0625 41.15625 \n",
       "Q 36.578125 43.3125 36.140625 45.609375 \n",
       "Q 35.6875 43.40625 35.203125 41.265625 \n",
       "Q 34.8125 39.40625 34.34375 37.40625 \n",
       "Q 33.890625 35.40625 33.5 33.890625 \n",
       "L 24.8125 0 \n",
       "L 14.65625 0 \n",
       "L -0.140625 52.828125 \n",
       "L 8.546875 52.828125 \n",
       "L 17.484375 16.9375 \n",
       "Q 17.828125 15.828125 18.15625 14.1875 \n",
       "Q 18.5 12.546875 18.84375 10.984375 \n",
       "Q 19.1875 9.1875 19.578125 7.28125 \n",
       "Q 19.96875 9.125 20.40625 10.890625 \n",
       "Q 20.796875 12.40625 21.1875 13.96875 \n",
       "Q 21.578125 15.53125 21.875 16.546875 \n",
       "L 31.453125 52.828125 \n",
       "L 40.875 52.828125 \n",
       "L 50.09375 16.546875 \n",
       "Q 50.4375 15.28125 50.828125 13.671875 \n",
       "Q 51.21875 12.0625 51.5625 10.640625 \n",
       "Q 51.953125 8.984375 52.34375 7.28125 \n",
       "Q 52.734375 9.125 53.125 10.890625 \n",
       "Q 53.46875 12.40625 53.828125 14.03125 \n",
       "Q 54.203125 15.671875 54.546875 16.9375 \n",
       "L 63.875 52.828125 \n",
       "L 72.46875 52.828125 \n",
       "z\n",
       "\" id=\"LiberationSans-119\"/>\n",
       "     <path d=\"M 40.09375 8.5 \n",
       "Q 37.640625 3.421875 33.609375 1.21875 \n",
       "Q 29.59375 -0.984375 23.640625 -0.984375 \n",
       "Q 13.625 -0.984375 8.90625 5.75 \n",
       "Q 4.203125 12.5 4.203125 26.171875 \n",
       "Q 4.203125 53.8125 23.640625 53.8125 \n",
       "Q 29.640625 53.8125 33.640625 51.609375 \n",
       "Q 37.640625 49.421875 40.09375 44.625 \n",
       "L 40.1875 44.625 \n",
       "Q 40.1875 45.125 40.15625 46.171875 \n",
       "Q 40.140625 47.21875 40.109375 48.359375 \n",
       "Q 40.09375 49.515625 40.09375 50.53125 \n",
       "Q 40.09375 51.5625 40.09375 52 \n",
       "L 40.09375 72.46875 \n",
       "L 48.875 72.46875 \n",
       "L 48.875 10.890625 \n",
       "Q 48.875 8.984375 48.890625 7.21875 \n",
       "Q 48.921875 5.46875 48.96875 4 \n",
       "Q 49.03125 2.546875 49.078125 1.484375 \n",
       "Q 49.125 0.4375 49.171875 0 \n",
       "L 40.765625 0 \n",
       "Q 40.671875 0.484375 40.59375 1.390625 \n",
       "Q 40.53125 2.296875 40.453125 3.46875 \n",
       "Q 40.375 4.640625 40.328125 5.9375 \n",
       "Q 40.28125 7.234375 40.28125 8.5 \n",
       "z\n",
       "M 13.421875 26.46875 \n",
       "Q 13.421875 21 14.109375 17.09375 \n",
       "Q 14.796875 13.1875 16.3125 10.671875 \n",
       "Q 17.828125 8.15625 20.171875 6.984375 \n",
       "Q 22.515625 5.8125 25.875 5.8125 \n",
       "Q 29.34375 5.8125 32 6.9375 \n",
       "Q 34.671875 8.0625 36.453125 10.578125 \n",
       "Q 38.234375 13.09375 39.15625 17.140625 \n",
       "Q 40.09375 21.1875 40.09375 27.046875 \n",
       "Q 40.09375 32.671875 39.15625 36.546875 \n",
       "Q 38.234375 40.4375 36.421875 42.828125 \n",
       "Q 34.625 45.21875 32 46.265625 \n",
       "Q 29.390625 47.3125 25.984375 47.3125 \n",
       "Q 22.75 47.3125 20.40625 46.1875 \n",
       "Q 18.0625 45.0625 16.5 42.578125 \n",
       "Q 14.9375 40.09375 14.171875 36.109375 \n",
       "Q 13.421875 32.125 13.421875 26.46875 \n",
       "z\n",
       "\" id=\"LiberationSans-100\"/>\n",
       "     <path d=\"M 6.6875 64.0625 \n",
       "L 6.6875 72.46875 \n",
       "L 15.484375 72.46875 \n",
       "L 15.484375 64.0625 \n",
       "z\n",
       "M 6.6875 0 \n",
       "L 6.6875 52.828125 \n",
       "L 15.484375 52.828125 \n",
       "L 15.484375 0 \n",
       "z\n",
       "\" id=\"LiberationSans-105\"/>\n",
       "     <path d=\"M 35.15625 61.1875 \n",
       "L 35.15625 0 \n",
       "L 25.875 0 \n",
       "L 25.875 61.1875 \n",
       "L 2.25 61.1875 \n",
       "L 2.25 68.796875 \n",
       "L 58.796875 68.796875 \n",
       "L 58.796875 61.1875 \n",
       "z\n",
       "\" id=\"LiberationSans-84\"/>\n",
       "     <path d=\"M 73 34.71875 \n",
       "Q 73 26.65625 70.671875 20.0625 \n",
       "Q 68.359375 13.484375 63.96875 8.796875 \n",
       "Q 59.578125 4.109375 53.21875 1.5625 \n",
       "Q 46.875 -0.984375 38.8125 -0.984375 \n",
       "Q 30.328125 -0.984375 23.921875 1.671875 \n",
       "Q 17.53125 4.34375 13.28125 9.109375 \n",
       "Q 9.03125 13.875 6.875 20.40625 \n",
       "Q 4.734375 26.953125 4.734375 34.71875 \n",
       "Q 4.734375 42.78125 6.984375 49.265625 \n",
       "Q 9.234375 55.765625 13.578125 60.328125 \n",
       "Q 17.921875 64.890625 24.296875 67.359375 \n",
       "Q 30.671875 69.828125 38.921875 69.828125 \n",
       "Q 47.125 69.828125 53.484375 67.328125 \n",
       "Q 59.859375 64.84375 64.171875 60.25 \n",
       "Q 68.5 55.671875 70.75 49.171875 \n",
       "Q 73 42.671875 73 34.71875 \n",
       "z\n",
       "M 63.484375 34.71875 \n",
       "Q 63.484375 40.921875 61.890625 46 \n",
       "Q 60.296875 51.078125 57.203125 54.6875 \n",
       "Q 54.109375 58.296875 49.515625 60.25 \n",
       "Q 44.921875 62.203125 38.921875 62.203125 \n",
       "Q 32.765625 62.203125 28.125 60.25 \n",
       "Q 23.484375 58.296875 20.375 54.6875 \n",
       "Q 17.28125 51.078125 15.734375 46 \n",
       "Q 14.203125 40.921875 14.203125 34.71875 \n",
       "Q 14.203125 28.515625 15.796875 23.359375 \n",
       "Q 17.390625 18.21875 20.484375 14.484375 \n",
       "Q 23.578125 10.75 28.1875 8.671875 \n",
       "Q 32.8125 6.59375 38.8125 6.59375 \n",
       "Q 45.265625 6.59375 49.921875 8.6875 \n",
       "Q 54.59375 10.796875 57.59375 14.53125 \n",
       "Q 60.59375 18.265625 62.03125 23.4375 \n",
       "Q 63.484375 28.609375 63.484375 34.71875 \n",
       "z\n",
       "\" id=\"LiberationSans-79\"/>\n",
       "     <path d=\"M 61.421875 48.09375 \n",
       "Q 61.421875 43.609375 59.9375 39.71875 \n",
       "Q 58.453125 35.84375 55.5 32.984375 \n",
       "Q 52.546875 30.125 48.09375 28.46875 \n",
       "Q 43.65625 26.8125 37.75 26.8125 \n",
       "L 17.53125 26.8125 \n",
       "L 17.53125 0 \n",
       "L 8.203125 0 \n",
       "L 8.203125 68.796875 \n",
       "L 37.15625 68.796875 \n",
       "Q 43.265625 68.796875 47.796875 67.3125 \n",
       "Q 52.34375 65.828125 55.375 63.109375 \n",
       "Q 58.40625 60.40625 59.90625 56.5625 \n",
       "Q 61.421875 52.734375 61.421875 48.09375 \n",
       "z\n",
       "M 52.046875 48 \n",
       "Q 52.046875 54.546875 48.046875 57.9375 \n",
       "Q 44.046875 61.328125 36.03125 61.328125 \n",
       "L 17.53125 61.328125 \n",
       "L 17.53125 34.1875 \n",
       "L 36.421875 34.1875 \n",
       "Q 44.484375 34.1875 48.265625 37.75 \n",
       "Q 52.046875 41.3125 52.046875 48 \n",
       "z\n",
       "\" id=\"LiberationSans-80\"/>\n",
       "     <path d=\"M 7.625 0 \n",
       "L 7.625 7.46875 \n",
       "L 25.140625 7.46875 \n",
       "L 25.140625 60.40625 \n",
       "L 9.625 49.3125 \n",
       "L 9.625 57.625 \n",
       "L 25.875 68.796875 \n",
       "L 33.984375 68.796875 \n",
       "L 33.984375 7.46875 \n",
       "L 50.734375 7.46875 \n",
       "L 50.734375 0 \n",
       "z\n",
       "\" id=\"LiberationSans-49\"/>\n",
       "     <path d=\"M 51.703125 34.421875 \n",
       "Q 51.703125 24.515625 49.828125 17.75 \n",
       "Q 47.953125 10.984375 44.703125 6.8125 \n",
       "Q 41.453125 2.640625 37.0625 0.828125 \n",
       "Q 32.671875 -0.984375 27.6875 -0.984375 \n",
       "Q 22.65625 -0.984375 18.3125 0.828125 \n",
       "Q 13.96875 2.640625 10.765625 6.78125 \n",
       "Q 7.5625 10.9375 5.734375 17.703125 \n",
       "Q 3.90625 24.46875 3.90625 34.421875 \n",
       "Q 3.90625 44.828125 5.734375 51.640625 \n",
       "Q 7.5625 58.453125 10.78125 62.5 \n",
       "Q 14.015625 66.546875 18.40625 68.1875 \n",
       "Q 22.796875 69.828125 27.984375 69.828125 \n",
       "Q 32.90625 69.828125 37.21875 68.1875 \n",
       "Q 41.546875 66.546875 44.765625 62.5 \n",
       "Q 48 58.453125 49.84375 51.640625 \n",
       "Q 51.703125 44.828125 51.703125 34.421875 \n",
       "z\n",
       "M 42.78125 34.421875 \n",
       "Q 42.78125 42.625 41.796875 48.0625 \n",
       "Q 40.828125 53.515625 38.921875 56.765625 \n",
       "Q 37.015625 60.015625 34.25 61.359375 \n",
       "Q 31.5 62.703125 27.984375 62.703125 \n",
       "Q 24.265625 62.703125 21.4375 61.328125 \n",
       "Q 18.609375 59.96875 16.671875 56.71875 \n",
       "Q 14.75 53.46875 13.765625 48.015625 \n",
       "Q 12.796875 42.578125 12.796875 34.421875 \n",
       "Q 12.796875 26.515625 13.796875 21.09375 \n",
       "Q 14.796875 15.671875 16.71875 12.375 \n",
       "Q 18.65625 9.078125 21.4375 7.640625 \n",
       "Q 24.21875 6.203125 27.78125 6.203125 \n",
       "Q 31.25 6.203125 34.03125 7.640625 \n",
       "Q 36.8125 9.078125 38.734375 12.375 \n",
       "Q 40.671875 15.671875 41.71875 21.09375 \n",
       "Q 42.78125 26.515625 42.78125 34.421875 \n",
       "z\n",
       "\" id=\"LiberationSans-48\"/>\n",
       "     <path d=\"M 20.21875 -0.984375 \n",
       "Q 12.25 -0.984375 8.25 3.21875 \n",
       "Q 4.25 7.421875 4.25 14.75 \n",
       "Q 4.25 19.96875 6.21875 23.3125 \n",
       "Q 8.203125 26.65625 11.390625 28.5625 \n",
       "Q 14.59375 30.46875 18.6875 31.203125 \n",
       "Q 22.796875 31.9375 27.046875 32.03125 \n",
       "L 38.921875 32.234375 \n",
       "L 38.921875 35.109375 \n",
       "Q 38.921875 38.375 38.234375 40.671875 \n",
       "Q 37.546875 42.96875 36.125 44.375 \n",
       "Q 34.71875 45.796875 32.59375 46.453125 \n",
       "Q 30.46875 47.125 27.59375 47.125 \n",
       "Q 25.046875 47.125 23 46.75 \n",
       "Q 20.953125 46.390625 19.4375 45.4375 \n",
       "Q 17.921875 44.484375 16.984375 42.84375 \n",
       "Q 16.0625 41.21875 15.765625 38.71875 \n",
       "L 6.59375 39.546875 \n",
       "Q 7.078125 42.671875 8.4375 45.28125 \n",
       "Q 9.8125 47.90625 12.328125 49.796875 \n",
       "Q 14.84375 51.703125 18.625 52.75 \n",
       "Q 22.40625 53.8125 27.78125 53.8125 \n",
       "Q 37.75 53.8125 42.765625 49.234375 \n",
       "Q 47.796875 44.671875 47.796875 36.03125 \n",
       "L 47.796875 13.28125 \n",
       "Q 47.796875 9.375 48.828125 7.390625 \n",
       "Q 49.859375 5.421875 52.734375 5.421875 \n",
       "Q 53.46875 5.421875 54.203125 5.515625 \n",
       "Q 54.9375 5.609375 55.609375 5.765625 \n",
       "L 55.609375 0.296875 \n",
       "Q 53.953125 -0.09375 52.3125 -0.28125 \n",
       "Q 50.6875 -0.484375 48.828125 -0.484375 \n",
       "Q 46.34375 -0.484375 44.5625 0.171875 \n",
       "Q 42.78125 0.828125 41.65625 2.171875 \n",
       "Q 40.53125 3.515625 39.9375 5.484375 \n",
       "Q 39.359375 7.46875 39.203125 10.109375 \n",
       "L 38.921875 10.109375 \n",
       "Q 37.5 7.5625 35.8125 5.515625 \n",
       "Q 34.125 3.46875 31.875 2.03125 \n",
       "Q 29.640625 0.59375 26.78125 -0.1875 \n",
       "Q 23.921875 -0.984375 20.21875 -0.984375 \n",
       "z\n",
       "M 22.21875 5.609375 \n",
       "Q 26.421875 5.609375 29.5625 7.140625 \n",
       "Q 32.71875 8.6875 34.78125 11.078125 \n",
       "Q 36.859375 13.484375 37.890625 16.3125 \n",
       "Q 38.921875 19.140625 38.921875 21.734375 \n",
       "L 38.921875 26.078125 \n",
       "L 29.296875 25.875 \n",
       "Q 26.078125 25.828125 23.171875 25.40625 \n",
       "Q 20.265625 25 18.0625 23.78125 \n",
       "Q 15.875 22.5625 14.578125 20.359375 \n",
       "Q 13.28125 18.171875 13.28125 14.59375 \n",
       "Q 13.28125 10.296875 15.59375 7.953125 \n",
       "Q 17.921875 5.609375 22.21875 5.609375 \n",
       "z\n",
       "\" id=\"LiberationSans-97\"/>\n",
       "     <path d=\"M 37.5 0 \n",
       "L 37.5 33.5 \n",
       "Q 37.5 37.359375 37.015625 39.9375 \n",
       "Q 36.53125 42.53125 35.375 44.109375 \n",
       "Q 34.234375 45.703125 32.375 46.359375 \n",
       "Q 30.515625 47.015625 27.828125 47.015625 \n",
       "Q 25.046875 47.015625 22.796875 45.921875 \n",
       "Q 20.5625 44.828125 18.96875 42.75 \n",
       "Q 17.390625 40.671875 16.53125 37.625 \n",
       "Q 15.671875 34.578125 15.671875 30.609375 \n",
       "L 15.671875 0 \n",
       "L 6.9375 0 \n",
       "L 6.9375 41.546875 \n",
       "Q 6.9375 43.21875 6.90625 45.046875 \n",
       "Q 6.890625 46.875 6.828125 48.5 \n",
       "Q 6.78125 50.140625 6.734375 51.3125 \n",
       "Q 6.6875 52.484375 6.640625 52.828125 \n",
       "L 14.9375 52.828125 \n",
       "Q 14.984375 52.59375 15.03125 51.515625 \n",
       "Q 15.09375 50.4375 15.15625 49.046875 \n",
       "Q 15.234375 47.65625 15.28125 46.21875 \n",
       "Q 15.328125 44.78125 15.328125 43.796875 \n",
       "L 15.484375 43.796875 \n",
       "Q 16.65625 46.09375 18.015625 47.953125 \n",
       "Q 19.390625 49.8125 21.21875 51.09375 \n",
       "Q 23.046875 52.390625 25.40625 53.09375 \n",
       "Q 27.78125 53.8125 30.90625 53.8125 \n",
       "Q 36.921875 53.8125 40.40625 51.421875 \n",
       "Q 43.890625 49.03125 45.265625 43.796875 \n",
       "L 45.40625 43.796875 \n",
       "Q 46.578125 46.09375 48.046875 47.953125 \n",
       "Q 49.515625 49.8125 51.46875 51.09375 \n",
       "Q 53.421875 52.390625 55.859375 53.09375 \n",
       "Q 58.296875 53.8125 61.421875 53.8125 \n",
       "Q 65.4375 53.8125 68.328125 52.734375 \n",
       "Q 71.234375 51.65625 73.09375 49.40625 \n",
       "Q 74.953125 47.171875 75.828125 43.625 \n",
       "Q 76.703125 40.09375 76.703125 35.203125 \n",
       "L 76.703125 0 \n",
       "L 68.015625 0 \n",
       "L 68.015625 33.5 \n",
       "Q 68.015625 37.359375 67.53125 39.9375 \n",
       "Q 67.046875 42.53125 65.890625 44.109375 \n",
       "Q 64.75 45.703125 62.890625 46.359375 \n",
       "Q 61.03125 47.015625 58.34375 47.015625 \n",
       "Q 55.5625 47.015625 53.3125 45.96875 \n",
       "Q 51.078125 44.921875 49.484375 42.875 \n",
       "Q 47.90625 40.828125 47.046875 37.75 \n",
       "Q 46.1875 34.671875 46.1875 30.609375 \n",
       "L 46.1875 0 \n",
       "z\n",
       "\" id=\"LiberationSans-109\"/>\n",
       "     <path d=\"M 29.9375 0 \n",
       "L 19.53125 0 \n",
       "L 0.34375 52.828125 \n",
       "L 9.71875 52.828125 \n",
       "L 21.34375 18.453125 \n",
       "Q 21.6875 17.390625 22.140625 15.84375 \n",
       "Q 22.609375 14.3125 23.09375 12.640625 \n",
       "Q 23.578125 10.984375 24 9.4375 \n",
       "Q 24.421875 7.90625 24.703125 6.890625 \n",
       "Q 25 7.90625 25.453125 9.4375 \n",
       "Q 25.921875 10.984375 26.40625 12.59375 \n",
       "Q 26.90625 14.203125 27.421875 15.734375 \n",
       "Q 27.9375 17.28125 28.328125 18.359375 \n",
       "L 40.328125 52.828125 \n",
       "L 49.65625 52.828125 \n",
       "z\n",
       "\" id=\"LiberationSans-118\"/>\n",
       "    </defs>\n",
       "    <g style=\"fill:#262626;\" transform=\"translate(13.585938 25.317187)scale(0.25 -0.25)\">\n",
       "     <use xlink:href=\"#LiberationSans-77\"/>\n",
       "     <use x=\"83.300781\" xlink:href=\"#LiberationSans-111\"/>\n",
       "     <use x=\"138.916016\" xlink:href=\"#LiberationSans-115\"/>\n",
       "     <use x=\"188.916016\" xlink:href=\"#LiberationSans-116\"/>\n",
       "     <use x=\"216.699219\" xlink:href=\"#LiberationSans-32\"/>\n",
       "     <use x=\"244.482422\" xlink:href=\"#LiberationSans-70\"/>\n",
       "     <use x=\"305.566406\" xlink:href=\"#LiberationSans-114\"/>\n",
       "     <use x=\"338.867188\" xlink:href=\"#LiberationSans-101\"/>\n",
       "     <use x=\"394.482422\" xlink:href=\"#LiberationSans-113\"/>\n",
       "     <use x=\"450.097656\" xlink:href=\"#LiberationSans-117\"/>\n",
       "     <use x=\"505.712891\" xlink:href=\"#LiberationSans-101\"/>\n",
       "     <use x=\"561.328125\" xlink:href=\"#LiberationSans-110\"/>\n",
       "     <use x=\"616.943359\" xlink:href=\"#LiberationSans-116\"/>\n",
       "     <use x=\"644.726562\" xlink:href=\"#LiberationSans-32\"/>\n",
       "     <use x=\"672.509766\" xlink:href=\"#LiberationSans-119\"/>\n",
       "     <use x=\"744.726562\" xlink:href=\"#LiberationSans-111\"/>\n",
       "     <use x=\"800.341797\" xlink:href=\"#LiberationSans-114\"/>\n",
       "     <use x=\"833.642578\" xlink:href=\"#LiberationSans-100\"/>\n",
       "     <use x=\"889.257812\" xlink:href=\"#LiberationSans-115\"/>\n",
       "     <use x=\"939.257812\" xlink:href=\"#LiberationSans-32\"/>\n",
       "     <use x=\"967.041016\" xlink:href=\"#LiberationSans-105\"/>\n",
       "     <use x=\"989.257812\" xlink:href=\"#LiberationSans-110\"/>\n",
       "     <use x=\"1044.873047\" xlink:href=\"#LiberationSans-32\"/>\n",
       "     <use x=\"1070.90625\" xlink:href=\"#LiberationSans-84\"/>\n",
       "     <use x=\"1130.240234\" xlink:href=\"#LiberationSans-79\"/>\n",
       "     <use x=\"1208.023438\" xlink:href=\"#LiberationSans-80\"/>\n",
       "     <use x=\"1272.972656\" xlink:href=\"#LiberationSans-32\"/>\n",
       "     <use x=\"1300.755859\" xlink:href=\"#LiberationSans-49\"/>\n",
       "     <use x=\"1356.371094\" xlink:href=\"#LiberationSans-48\"/>\n",
       "     <use x=\"1411.986328\" xlink:href=\"#LiberationSans-48\"/>\n",
       "     <use x=\"1467.601562\" xlink:href=\"#LiberationSans-48\"/>\n",
       "     <use x=\"1523.216797\" xlink:href=\"#LiberationSans-32\"/>\n",
       "     <use x=\"1551\" xlink:href=\"#LiberationSans-114\"/>\n",
       "     <use x=\"1584.300781\" xlink:href=\"#LiberationSans-97\"/>\n",
       "     <use x=\"1639.916016\" xlink:href=\"#LiberationSans-116\"/>\n",
       "     <use x=\"1667.699219\" xlink:href=\"#LiberationSans-101\"/>\n",
       "     <use x=\"1723.314453\" xlink:href=\"#LiberationSans-100\"/>\n",
       "     <use x=\"1778.929688\" xlink:href=\"#LiberationSans-32\"/>\n",
       "     <use x=\"1806.712891\" xlink:href=\"#LiberationSans-109\"/>\n",
       "     <use x=\"1890.013672\" xlink:href=\"#LiberationSans-111\"/>\n",
       "     <use x=\"1945.628906\" xlink:href=\"#LiberationSans-118\"/>\n",
       "     <use x=\"1995.628906\" xlink:href=\"#LiberationSans-105\"/>\n",
       "     <use x=\"2017.845703\" xlink:href=\"#LiberationSans-101\"/>\n",
       "     <use x=\"2073.460938\" xlink:href=\"#LiberationSans-115\"/>\n",
       "    </g>\n",
       "   </g>\n",
       "  </g>\n",
       " </g>\n",
       " <defs>\n",
       "  <clipPath id=\"pef27ec74f1\">\n",
       "   <rect height=\"543.6\" width=\"543.6\" x=\"7.2\" y=\"31.317187\"/>\n",
       "  </clipPath>\n",
       " </defs>\n",
       "</svg>\n"
      ],
      "text/plain": [
       "<Figure size 720x720 with 1 Axes>"
      ]
     },
     "metadata": {},
     "output_type": "display_data"
    }
   ],
   "source": [
    "import nltk\n",
    "from nltk.corpus import stopwords\n",
    "from nltk.tokenize import RegexpTokenizer\n",
    "from wordcloud import WordCloud\n",
    "\n",
    "stop_words = set(stopwords.words('english'))\n",
    "tokenizer = RegexpTokenizer(r'\\w+')\n",
    "\n",
    "df_aux['overview'] = df_aux.overview.apply(lambda x : x.lower())\n",
    "df_aux['overview'] = df_aux.overview.apply(lambda x : tokenizer.tokenize(x))\n",
    "df_aux['overview'] = df_aux.overview.apply(lambda x : [w for w in x if w not in stop_words])\n",
    "df_aux['overview'] = df_aux.overview.apply(lambda x : ' '.join(x))\n",
    "\n",
    "word_count = df_aux.overview.apply(lambda x: pd.value_counts(x.split(\" \"))).sum(axis = 0).sort_values(ascending=False)\n",
    "word_count = pd.DataFrame({'word' : word_count.index, 'count': word_count.values})\n",
    "# Plot the WordCloud\n",
    "d = {}\n",
    "for a, x in word_count.values:\n",
    "    d[a] = x\n",
    "\n",
    "wordcloud = WordCloud(background_color = 'white',\n",
    "                      max_words = 50,\n",
    "                      width = 2000,\n",
    "                      height = 2000)\n",
    "wordcloud.generate_from_frequencies(frequencies=d)\n",
    "plt.rcParams['figure.figsize'] = (10, 10)\n",
    "plt.imshow(wordcloud, interpolation=\"bilinear\")\n",
    "plt.axis(\"off\")\n",
    "plt.title('Most Frequent words in TOP 1000 rated movies', fontsize = 25)\n",
    "plt.show();"
   ]
  },
  {
   "cell_type": "markdown",
   "metadata": {},
   "source": []
  },
  {
   "cell_type": "code",
   "execution_count": 20,
   "metadata": {
    "_kg_hide-input": true,
    "_kg_hide-output": true,
    "execution": {
     "iopub.execute_input": "2022-05-01T01:41:30.528045Z",
     "iopub.status.busy": "2022-05-01T01:41:30.527428Z",
     "iopub.status.idle": "2022-05-01T01:41:30.653311Z",
     "shell.execute_reply": "2022-05-01T01:41:30.652367Z",
     "shell.execute_reply.started": "2022-05-01T01:41:30.527998Z"
    }
   },
   "outputs": [
    {
     "data": {
      "text/plain": [
       "1646"
      ]
     },
     "execution_count": 20,
     "metadata": {},
     "output_type": "execute_result"
    }
   ],
   "source": [
    "del ratings, df_aux, df_movies\n",
    "gc.collect()"
   ]
  },
  {
   "cell_type": "markdown",
   "metadata": {},
   "source": [
    "<br>\n",
    "<a id='bkground'></a>\n",
    "<div class=\"h2\"><center>Model using PySpark</center></div>\n",
    "<br>"
   ]
  },
  {
   "cell_type": "markdown",
   "metadata": {},
   "source": [
    "Let's start importing all needed models and setting Spark."
   ]
  },
  {
   "cell_type": "code",
   "execution_count": 21,
   "metadata": {
    "_kg_hide-output": true,
    "execution": {
     "iopub.execute_input": "2022-05-01T01:41:30.655037Z",
     "iopub.status.busy": "2022-05-01T01:41:30.654712Z",
     "iopub.status.idle": "2022-05-01T01:41:35.72343Z",
     "shell.execute_reply": "2022-05-01T01:41:35.722271Z",
     "shell.execute_reply.started": "2022-05-01T01:41:30.655005Z"
    }
   },
   "outputs": [
    {
     "name": "stderr",
     "output_type": "stream",
     "text": [
      "/opt/conda/lib/python3.6/site-packages/pyspark/context.py:238: FutureWarning:\n",
      "\n",
      "Python 3.6 support is deprecated in Spark 3.2.\n",
      "\n"
     ]
    }
   ],
   "source": [
    "import pyspark.sql.functions as sql_func\n",
    "from pyspark.sql.types import *\n",
    "from pyspark.ml.recommendation import ALS, ALSModel\n",
    "from pyspark.context import SparkContext\n",
    "from pyspark.sql.session import SparkSession\n",
    "from pyspark.mllib.evaluation import RegressionMetrics, RankingMetrics\n",
    "from pyspark.ml.evaluation import RegressionEvaluator\n",
    "\n",
    "sc = SparkContext('local')\n",
    "spark = SparkSession(sc)"
   ]
  },
  {
   "cell_type": "markdown",
   "metadata": {},
   "source": [
    "Create the Schema."
   ]
  },
  {
   "cell_type": "code",
   "execution_count": 22,
   "metadata": {
    "_kg_hide-output": true,
    "execution": {
     "iopub.execute_input": "2022-05-01T01:41:35.725246Z",
     "iopub.status.busy": "2022-05-01T01:41:35.724898Z",
     "iopub.status.idle": "2022-05-01T01:41:41.321238Z",
     "shell.execute_reply": "2022-05-01T01:41:41.319118Z",
     "shell.execute_reply.started": "2022-05-01T01:41:35.72518Z"
    }
   },
   "outputs": [],
   "source": [
    "data_schema = StructType([\n",
    "    StructField('userId', IntegerType(), False),\n",
    "    StructField('movieId', IntegerType(), False),\n",
    "    StructField('rating', FloatType(), False),\n",
    "    StructField('timestamp',IntegerType(), False)\n",
    "])\n",
    "final_stat = spark.read.csv(\n",
    "    '/kaggle/input/the-movies-dataset/ratings.csv', header=True, schema=data_schema\n",
    ").cache()\n",
    "\n",
    "ratings = (final_stat.select(\n",
    "    'userId',\n",
    "    'movieId',\n",
    "    'rating'\n",
    ")).cache()"
   ]
  },
  {
   "cell_type": "markdown",
   "metadata": {},
   "source": [
    "Split in Train (70%) and Test (30%)."
   ]
  },
  {
   "cell_type": "code",
   "execution_count": 23,
   "metadata": {
    "_kg_hide-input": true,
    "execution": {
     "iopub.execute_input": "2022-05-01T01:41:41.325715Z",
     "iopub.status.busy": "2022-05-01T01:41:41.324985Z",
     "iopub.status.idle": "2022-05-01T01:41:41.400794Z",
     "shell.execute_reply": "2022-05-01T01:41:41.399417Z",
     "shell.execute_reply.started": "2022-05-01T01:41:41.325669Z"
    }
   },
   "outputs": [],
   "source": [
    "(training, test) = ratings.randomSplit([0.7, 0.3], seed=42)"
   ]
  },
  {
   "cell_type": "markdown",
   "metadata": {},
   "source": [
    "And train the model, the evaluation will be made on test set using Mean Absolute Error (MAE)."
   ]
  },
  {
   "cell_type": "code",
   "execution_count": 24,
   "metadata": {
    "_kg_hide-input": true,
    "_kg_hide-output": true,
    "execution": {
     "iopub.execute_input": "2022-05-01T01:41:41.404334Z",
     "iopub.status.busy": "2022-05-01T01:41:41.403358Z"
    }
   },
   "outputs": [
    {
     "name": "stdout",
     "output_type": "stream",
     "text": [
      "MAE (Test) = 0.6645168928085002\n"
     ]
    }
   ],
   "source": [
    "als = ALS(\n",
    "          rank=30,\n",
    "          maxIter=4, \n",
    "          regParam=0.1,\n",
    "          userCol='userId', \n",
    "          itemCol='movieId', \n",
    "          ratingCol='rating',\n",
    "          coldStartStrategy='drop',\n",
    "          implicitPrefs=False\n",
    "         )\n",
    "model = als.fit(training)\n",
    "\n",
    "predictions = model.transform(test)\n",
    "evaluator = RegressionEvaluator(metricName='mae', labelCol='rating',\n",
    "                                predictionCol='prediction')\n",
    "\n",
    "mae = evaluator.evaluate(predictions)\n",
    "print(f'MAE (Test) = {mae}')"
   ]
  },
  {
   "cell_type": "markdown",
   "metadata": {},
   "source": [
    "And finally, generate the Best recommendation for each user (User Based Recommendation System).\n",
    "The movieId, the first element in recommendations vector, is the same of ratings dataframe."
   ]
  },
  {
   "cell_type": "code",
   "execution_count": 25,
   "metadata": {
    "_kg_hide-input": true
   },
   "outputs": [
    {
     "name": "stdout",
     "output_type": "stream",
     "text": [
      "+------+--------------------+\n",
      "|userId|     recommendations|\n",
      "+------+--------------------+\n",
      "|     1|[{101862, 6.98694...|\n",
      "|     2| [{141359, 4.52696}]|\n",
      "|     3|[{158832, 4.13699...|\n",
      "|     4|[{164937, 5.637266}]|\n",
      "|     5|[{164937, 6.243306}]|\n",
      "+------+--------------------+\n",
      "only showing top 5 rows\n",
      "\n"
     ]
    }
   ],
   "source": [
    "model.recommendForAllUsers(1).show(5)"
   ]
  },
  {
   "cell_type": "markdown",
   "metadata": {},
   "source": [
    "Let's see which movie was recommended for a particular userId."
   ]
  },
  {
   "cell_type": "code",
   "execution_count": 26,
   "metadata": {
    "_kg_hide-input": true
   },
   "outputs": [
    {
     "data": {
      "text/html": [
       "<div>\n",
       "<style scoped>\n",
       "    .dataframe tbody tr th:only-of-type {\n",
       "        vertical-align: middle;\n",
       "    }\n",
       "\n",
       "    .dataframe tbody tr th {\n",
       "        vertical-align: top;\n",
       "    }\n",
       "\n",
       "    .dataframe thead th {\n",
       "        text-align: right;\n",
       "    }\n",
       "</style>\n",
       "<table border=\"1\" class=\"dataframe\">\n",
       "  <thead>\n",
       "    <tr style=\"text-align: right;\">\n",
       "      <th></th>\n",
       "      <th>title</th>\n",
       "      <th>overview</th>\n",
       "      <th>vote_average</th>\n",
       "      <th>release_date</th>\n",
       "    </tr>\n",
       "  </thead>\n",
       "  <tbody>\n",
       "    <tr>\n",
       "      <th>0</th>\n",
       "      <td>Hate Story 2</td>\n",
       "      <td>The movie is a revenge thriller with Surveen C...</td>\n",
       "      <td>4.5</td>\n",
       "      <td>2014-07-18</td>\n",
       "    </tr>\n",
       "  </tbody>\n",
       "</table>\n",
       "</div>"
      ],
      "text/plain": [
       "          title                                           overview  \\\n",
       "0  Hate Story 2  The movie is a revenge thriller with Surveen C...   \n",
       "\n",
       "   vote_average release_date  \n",
       "0           4.5   2014-07-18  "
      ]
     },
     "execution_count": 26,
     "metadata": {},
     "output_type": "execute_result"
    }
   ],
   "source": [
    "get_movie_metadata(156589)"
   ]
  },
  {
   "cell_type": "markdown",
   "metadata": {},
   "source": [
    "Show the most recommended user for each movie (Item Based Recommendation System).\n",
    "Again, the movieId is the same of ratings dataframe."
   ]
  },
  {
   "cell_type": "code",
   "execution_count": 27,
   "metadata": {
    "_kg_hide-input": true
   },
   "outputs": [
    {
     "name": "stdout",
     "output_type": "stream",
     "text": [
      "+-------+--------------------+\n",
      "|movieId|     recommendations|\n",
      "+-------+--------------------+\n",
      "|      1|[{223872, 5.46453...|\n",
      "|      2|[{266766, 5.049763}]|\n",
      "|      3|[{43804, 4.8345737}]|\n",
      "|      4|[{41755, 4.7486944}]|\n",
      "|      5|[{179759, 5.18833...|\n",
      "|      6|[{109698, 5.38298...|\n",
      "|      7|[{179759, 5.203492}]|\n",
      "|      8|[{212857, 5.044653}]|\n",
      "|      9| [{48043, 4.794549}]|\n",
      "|     10|[{238716, 5.12752...|\n",
      "+-------+--------------------+\n",
      "only showing top 10 rows\n",
      "\n"
     ]
    }
   ],
   "source": [
    "model.recommendForAllItems(1).show(10)"
   ]
  },
  {
   "cell_type": "markdown",
   "metadata": {},
   "source": [
    "And this finish the work!"
   ]
  }
 ],
 "metadata": {
  "kernelspec": {
   "display_name": "Python 3",
   "language": "python",
   "name": "python3"
  },
  "language_info": {
   "codemirror_mode": {
    "name": "ipython",
    "version": 3
   },
   "file_extension": ".py",
   "mimetype": "text/x-python",
   "name": "python",
   "nbconvert_exporter": "python",
   "pygments_lexer": "ipython3",
   "version": "3.6.6"
  }
 },
 "nbformat": 4,
 "nbformat_minor": 4
}
